{
  "nbformat": 4,
  "nbformat_minor": 0,
  "metadata": {
    "colab": {
      "name": "Sentiment Analysis ipynb",
      "provenance": [],
      "mount_file_id": "1WrHIF1WsjyddBuWEeuiCh01reUBLcou3",
      "authorship_tag": "ABX9TyNb4RmZ/U3Rk9tmr1TstYj9",
      "include_colab_link": true
    },
    "kernelspec": {
      "name": "python3",
      "display_name": "Python 3"
    },
    "language_info": {
      "name": "python"
    }
  },
  "cells": [
    {
      "cell_type": "markdown",
      "metadata": {
        "id": "view-in-github",
        "colab_type": "text"
      },
      "source": [
        "<a href=\"https://colab.research.google.com/github/kapil0808/Kaggle-first-problem/blob/main/Sentiment_Analysis_ipynb.ipynb\" target=\"_parent\"><img src=\"https://colab.research.google.com/assets/colab-badge.svg\" alt=\"Open In Colab\"/></a>"
      ]
    },
    {
      "cell_type": "code",
      "metadata": {
        "id": "TEketJ_uiXJM"
      },
      "source": [
        "# Importing needed libraries\n",
        "import numpy as np\n",
        "import pandas as pd\n",
        "import seaborn as sns\n",
        "import matplotlib.pyplot as plt\n",
        "%matplotlib inline\n",
        "from collections import Counter\n",
        "from sklearn.feature_extraction.text import CountVectorizer\n",
        "from sklearn.feature_extraction.text import TfidfVectorizer\n",
        "\n",
        "# NLTK tools for text processing\n",
        "import re, nltk\n",
        "from nltk import word_tokenize\n",
        "from nltk.corpus import stopwords\n",
        "from wordcloud import WordCloud, STOPWORDS\n",
        "\n",
        "\n",
        "# Modeling packages\n",
        "from sklearn.model_selection import train_test_split\n",
        "from sklearn.linear_model import LogisticRegression\n",
        "from sklearn.ensemble import RandomForestClassifier\n",
        "from sklearn.metrics import accuracy_score\n",
        "from sklearn.metrics import f1_score\n",
        "\n",
        "from IPython.core.interactiveshell import InteractiveShell\n",
        "InteractiveShell.ast_node_interactivity = 'all'"
      ],
      "execution_count": 30,
      "outputs": []
    },
    {
      "cell_type": "code",
      "metadata": {
        "colab": {
          "base_uri": "https://localhost:8080/"
        },
        "id": "uW9nM_4gFkU8",
        "outputId": "e53340a6-dbfb-48e3-de95-f626309608de"
      },
      "source": [
        "import spacy.cli\n",
        "spacy.cli.download(\"pt_core_news_sm\")"
      ],
      "execution_count": 32,
      "outputs": [
        {
          "output_type": "stream",
          "text": [
            "\u001b[38;5;2m✔ Download and installation successful\u001b[0m\n",
            "You can now load the model via spacy.load('pt_core_news_sm')\n"
          ],
          "name": "stdout"
        }
      ]
    },
    {
      "cell_type": "code",
      "metadata": {
        "id": "bebZiV0fFqDy"
      },
      "source": [
        "import pt_core_news_sm\n",
        "\n",
        "spc_pt = pt_core_news_sm.load()"
      ],
      "execution_count": 33,
      "outputs": []
    },
    {
      "cell_type": "code",
      "metadata": {
        "colab": {
          "base_uri": "https://localhost:8080/",
          "height": 131
        },
        "id": "qsO6Jkym7s3R",
        "outputId": "0b38da2b-7ba3-4663-96c5-2d090712f2c1"
      },
      "source": [
        "data= pd.read_csv('/content/drive/MyDrive/Colab Notebooks/archive/olist_order_reviews_dataset.csv')\n",
        "data.head(2)"
      ],
      "execution_count": 4,
      "outputs": [
        {
          "output_type": "execute_result",
          "data": {
            "text/html": [
              "<div>\n",
              "<style scoped>\n",
              "    .dataframe tbody tr th:only-of-type {\n",
              "        vertical-align: middle;\n",
              "    }\n",
              "\n",
              "    .dataframe tbody tr th {\n",
              "        vertical-align: top;\n",
              "    }\n",
              "\n",
              "    .dataframe thead th {\n",
              "        text-align: right;\n",
              "    }\n",
              "</style>\n",
              "<table border=\"1\" class=\"dataframe\">\n",
              "  <thead>\n",
              "    <tr style=\"text-align: right;\">\n",
              "      <th></th>\n",
              "      <th>review_id</th>\n",
              "      <th>order_id</th>\n",
              "      <th>review_score</th>\n",
              "      <th>review_comment_title</th>\n",
              "      <th>review_comment_message</th>\n",
              "      <th>review_creation_date</th>\n",
              "      <th>review_answer_timestamp</th>\n",
              "    </tr>\n",
              "  </thead>\n",
              "  <tbody>\n",
              "    <tr>\n",
              "      <th>0</th>\n",
              "      <td>7bc2406110b926393aa56f80a40eba40</td>\n",
              "      <td>73fc7af87114b39712e6da79b0a377eb</td>\n",
              "      <td>4</td>\n",
              "      <td>NaN</td>\n",
              "      <td>NaN</td>\n",
              "      <td>2018-01-18 00:00:00</td>\n",
              "      <td>2018-01-18 21:46:59</td>\n",
              "    </tr>\n",
              "    <tr>\n",
              "      <th>1</th>\n",
              "      <td>80e641a11e56f04c1ad469d5645fdfde</td>\n",
              "      <td>a548910a1c6147796b98fdf73dbeba33</td>\n",
              "      <td>5</td>\n",
              "      <td>NaN</td>\n",
              "      <td>NaN</td>\n",
              "      <td>2018-03-10 00:00:00</td>\n",
              "      <td>2018-03-11 03:05:13</td>\n",
              "    </tr>\n",
              "  </tbody>\n",
              "</table>\n",
              "</div>"
            ],
            "text/plain": [
              "                          review_id  ... review_answer_timestamp\n",
              "0  7bc2406110b926393aa56f80a40eba40  ...     2018-01-18 21:46:59\n",
              "1  80e641a11e56f04c1ad469d5645fdfde  ...     2018-03-11 03:05:13\n",
              "\n",
              "[2 rows x 7 columns]"
            ]
          },
          "metadata": {
            "tags": []
          },
          "execution_count": 4
        }
      ]
    },
    {
      "cell_type": "code",
      "metadata": {
        "id": "yKyUOt6ZA4D_"
      },
      "source": [
        "data.drop(['order_id', 'review_creation_date', 'review_answer_timestamp'],\n",
        "          1, inplace = True)"
      ],
      "execution_count": 5,
      "outputs": []
    },
    {
      "cell_type": "code",
      "metadata": {
        "colab": {
          "base_uri": "https://localhost:8080/"
        },
        "id": "sGOPYikyA4-v",
        "outputId": "b4184e8d-26aa-4c5d-d7de-edf1036bbe9c"
      },
      "source": [
        "data.info()"
      ],
      "execution_count": 6,
      "outputs": [
        {
          "output_type": "stream",
          "text": [
            "<class 'pandas.core.frame.DataFrame'>\n",
            "RangeIndex: 100000 entries, 0 to 99999\n",
            "Data columns (total 4 columns):\n",
            " #   Column                  Non-Null Count   Dtype \n",
            "---  ------                  --------------   ----- \n",
            " 0   review_id               100000 non-null  object\n",
            " 1   review_score            100000 non-null  int64 \n",
            " 2   review_comment_title    11715 non-null   object\n",
            " 3   review_comment_message  41753 non-null   object\n",
            "dtypes: int64(1), object(3)\n",
            "memory usage: 3.1+ MB\n"
          ],
          "name": "stdout"
        }
      ]
    },
    {
      "cell_type": "code",
      "metadata": {
        "colab": {
          "base_uri": "https://localhost:8080/"
        },
        "id": "uRrdZ3x_A7pU",
        "outputId": "711e1116-59ec-402d-fbaf-e0cfc9c69f91"
      },
      "source": [
        "duplicate=round(sum(data.duplicated(\"review_id\"))/len(data)*100, 2)\n",
        "print( 'Duplicate values in percentage',duplicate,'%')"
      ],
      "execution_count": 8,
      "outputs": [
        {
          "output_type": "stream",
          "text": [
            "Duplicate values in percentage 0.83 %\n"
          ],
          "name": "stdout"
        }
      ]
    },
    {
      "cell_type": "code",
      "metadata": {
        "colab": {
          "base_uri": "https://localhost:8080/",
          "height": 419
        },
        "id": "5icbYRcKBeUc",
        "outputId": "3cc94c47-e4eb-4a55-ca15-d1c400ad653a"
      },
      "source": [
        "data[data.duplicated(\"review_id\", keep =  False)].sort_values(by = \"review_id\")"
      ],
      "execution_count": 9,
      "outputs": [
        {
          "output_type": "execute_result",
          "data": {
            "text/html": [
              "<div>\n",
              "<style scoped>\n",
              "    .dataframe tbody tr th:only-of-type {\n",
              "        vertical-align: middle;\n",
              "    }\n",
              "\n",
              "    .dataframe tbody tr th {\n",
              "        vertical-align: top;\n",
              "    }\n",
              "\n",
              "    .dataframe thead th {\n",
              "        text-align: right;\n",
              "    }\n",
              "</style>\n",
              "<table border=\"1\" class=\"dataframe\">\n",
              "  <thead>\n",
              "    <tr style=\"text-align: right;\">\n",
              "      <th></th>\n",
              "      <th>review_id</th>\n",
              "      <th>review_score</th>\n",
              "      <th>review_comment_title</th>\n",
              "      <th>review_comment_message</th>\n",
              "    </tr>\n",
              "  </thead>\n",
              "  <tbody>\n",
              "    <tr>\n",
              "      <th>47045</th>\n",
              "      <td>00130cbe1f9d422698c812ed8ded1919</td>\n",
              "      <td>1</td>\n",
              "      <td>NaN</td>\n",
              "      <td>O cartucho \"original HP\" 60XL não é reconhecid...</td>\n",
              "    </tr>\n",
              "    <tr>\n",
              "      <th>30062</th>\n",
              "      <td>00130cbe1f9d422698c812ed8ded1919</td>\n",
              "      <td>1</td>\n",
              "      <td>NaN</td>\n",
              "      <td>O cartucho \"original HP\" 60XL não é reconhecid...</td>\n",
              "    </tr>\n",
              "    <tr>\n",
              "      <th>63695</th>\n",
              "      <td>0115633a9c298b6a98bcbe4eee75345f</td>\n",
              "      <td>5</td>\n",
              "      <td>NaN</td>\n",
              "      <td>NaN</td>\n",
              "    </tr>\n",
              "    <tr>\n",
              "      <th>91399</th>\n",
              "      <td>0115633a9c298b6a98bcbe4eee75345f</td>\n",
              "      <td>5</td>\n",
              "      <td>NaN</td>\n",
              "      <td>NaN</td>\n",
              "    </tr>\n",
              "    <tr>\n",
              "      <th>57727</th>\n",
              "      <td>0174caf0ee5964646040cd94e15ac95e</td>\n",
              "      <td>1</td>\n",
              "      <td>NaN</td>\n",
              "      <td>Produto entregue dentro de embalagem do fornec...</td>\n",
              "    </tr>\n",
              "    <tr>\n",
              "      <th>...</th>\n",
              "      <td>...</td>\n",
              "      <td>...</td>\n",
              "      <td>...</td>\n",
              "      <td>...</td>\n",
              "    </tr>\n",
              "    <tr>\n",
              "      <th>40677</th>\n",
              "      <td>fe5c833752953fed3209646f1f63b53c</td>\n",
              "      <td>1</td>\n",
              "      <td>NaN</td>\n",
              "      <td>Comprei dois produtos e ambos, mesmo enviados ...</td>\n",
              "    </tr>\n",
              "    <tr>\n",
              "      <th>7924</th>\n",
              "      <td>ff2fc9e68f8aabfbe18d710b83aabd30</td>\n",
              "      <td>2</td>\n",
              "      <td>NaN</td>\n",
              "      <td>NaN</td>\n",
              "    </tr>\n",
              "    <tr>\n",
              "      <th>83183</th>\n",
              "      <td>ff2fc9e68f8aabfbe18d710b83aabd30</td>\n",
              "      <td>2</td>\n",
              "      <td>NaN</td>\n",
              "      <td>NaN</td>\n",
              "    </tr>\n",
              "    <tr>\n",
              "      <th>1997</th>\n",
              "      <td>ffb8cff872a625632ac983eb1f88843c</td>\n",
              "      <td>3</td>\n",
              "      <td>NaN</td>\n",
              "      <td>NaN</td>\n",
              "    </tr>\n",
              "    <tr>\n",
              "      <th>74551</th>\n",
              "      <td>ffb8cff872a625632ac983eb1f88843c</td>\n",
              "      <td>3</td>\n",
              "      <td>NaN</td>\n",
              "      <td>NaN</td>\n",
              "    </tr>\n",
              "  </tbody>\n",
              "</table>\n",
              "<p>1629 rows × 4 columns</p>\n",
              "</div>"
            ],
            "text/plain": [
              "                              review_id  ...                             review_comment_message\n",
              "47045  00130cbe1f9d422698c812ed8ded1919  ...  O cartucho \"original HP\" 60XL não é reconhecid...\n",
              "30062  00130cbe1f9d422698c812ed8ded1919  ...  O cartucho \"original HP\" 60XL não é reconhecid...\n",
              "63695  0115633a9c298b6a98bcbe4eee75345f  ...                                                NaN\n",
              "91399  0115633a9c298b6a98bcbe4eee75345f  ...                                                NaN\n",
              "57727  0174caf0ee5964646040cd94e15ac95e  ...  Produto entregue dentro de embalagem do fornec...\n",
              "...                                 ...  ...                                                ...\n",
              "40677  fe5c833752953fed3209646f1f63b53c  ...  Comprei dois produtos e ambos, mesmo enviados ...\n",
              "7924   ff2fc9e68f8aabfbe18d710b83aabd30  ...                                                NaN\n",
              "83183  ff2fc9e68f8aabfbe18d710b83aabd30  ...                                                NaN\n",
              "1997   ffb8cff872a625632ac983eb1f88843c  ...                                                NaN\n",
              "74551  ffb8cff872a625632ac983eb1f88843c  ...                                                NaN\n",
              "\n",
              "[1629 rows x 4 columns]"
            ]
          },
          "metadata": {
            "tags": []
          },
          "execution_count": 9
        }
      ]
    },
    {
      "cell_type": "code",
      "metadata": {
        "id": "zJg8pWV8Bxzx"
      },
      "source": [
        "data.drop_duplicates(\"review_id\", inplace = True) #Removed duplicate"
      ],
      "execution_count": 10,
      "outputs": []
    },
    {
      "cell_type": "code",
      "metadata": {
        "id": "CHynuIKkB6VE"
      },
      "source": [
        "data.fillna('', inplace = True) "
      ],
      "execution_count": 11,
      "outputs": []
    },
    {
      "cell_type": "code",
      "metadata": {
        "id": "JRZD5G6mCCVE"
      },
      "source": [
        "#combine coment title and message\n",
        "data['review'] = data['review_comment_title'] + ' ' + data['review_comment_message']"
      ],
      "execution_count": 12,
      "outputs": []
    },
    {
      "cell_type": "code",
      "metadata": {
        "id": "98nF0FaRCLdj"
      },
      "source": [
        "data = data[data['review'] != ' ']"
      ],
      "execution_count": 16,
      "outputs": []
    },
    {
      "cell_type": "code",
      "metadata": {
        "colab": {
          "base_uri": "https://localhost:8080/",
          "height": 376
        },
        "id": "knrjYibsCN8L",
        "outputId": "473a00bf-2d2b-4acb-a63c-671b22fce8b0"
      },
      "source": [
        "data.head(10)"
      ],
      "execution_count": 17,
      "outputs": [
        {
          "output_type": "execute_result",
          "data": {
            "text/html": [
              "<div>\n",
              "<style scoped>\n",
              "    .dataframe tbody tr th:only-of-type {\n",
              "        vertical-align: middle;\n",
              "    }\n",
              "\n",
              "    .dataframe tbody tr th {\n",
              "        vertical-align: top;\n",
              "    }\n",
              "\n",
              "    .dataframe thead th {\n",
              "        text-align: right;\n",
              "    }\n",
              "</style>\n",
              "<table border=\"1\" class=\"dataframe\">\n",
              "  <thead>\n",
              "    <tr style=\"text-align: right;\">\n",
              "      <th></th>\n",
              "      <th>review_id</th>\n",
              "      <th>review_score</th>\n",
              "      <th>review_comment_title</th>\n",
              "      <th>review_comment_message</th>\n",
              "      <th>review</th>\n",
              "    </tr>\n",
              "  </thead>\n",
              "  <tbody>\n",
              "    <tr>\n",
              "      <th>3</th>\n",
              "      <td>e64fb393e7b32834bb789ff8bb30750e</td>\n",
              "      <td>5</td>\n",
              "      <td></td>\n",
              "      <td>Recebi bem antes do prazo estipulado.</td>\n",
              "      <td>Recebi bem antes do prazo estipulado.</td>\n",
              "    </tr>\n",
              "    <tr>\n",
              "      <th>4</th>\n",
              "      <td>f7c4243c7fe1938f181bec41a392bdeb</td>\n",
              "      <td>5</td>\n",
              "      <td></td>\n",
              "      <td>Parabéns lojas lannister adorei comprar pela I...</td>\n",
              "      <td>Parabéns lojas lannister adorei comprar pela ...</td>\n",
              "    </tr>\n",
              "    <tr>\n",
              "      <th>9</th>\n",
              "      <td>8670d52e15e00043ae7de4c01cc2fe06</td>\n",
              "      <td>4</td>\n",
              "      <td>recomendo</td>\n",
              "      <td>aparelho eficiente. no site a marca do aparelh...</td>\n",
              "      <td>recomendo aparelho eficiente. no site a marca ...</td>\n",
              "    </tr>\n",
              "    <tr>\n",
              "      <th>12</th>\n",
              "      <td>4b49719c8a200003f700d3d986ea1a19</td>\n",
              "      <td>4</td>\n",
              "      <td></td>\n",
              "      <td>Mas um pouco ,travando...pelo valor ta Boa.\\r\\n</td>\n",
              "      <td>Mas um pouco ,travando...pelo valor ta Boa.\\r\\n</td>\n",
              "    </tr>\n",
              "    <tr>\n",
              "      <th>15</th>\n",
              "      <td>3948b09f7c818e2d86c9a546758b2335</td>\n",
              "      <td>5</td>\n",
              "      <td>Super recomendo</td>\n",
              "      <td>Vendedor confiável, produto ok e entrega antes...</td>\n",
              "      <td>Super recomendo Vendedor confiável, produto ok...</td>\n",
              "    </tr>\n",
              "    <tr>\n",
              "      <th>16</th>\n",
              "      <td>9314d6f9799f5bfba510cc7bcd468c01</td>\n",
              "      <td>2</td>\n",
              "      <td></td>\n",
              "      <td>GOSTARIA DE SABER O QUE HOUVE, SEMPRE RECEBI E...</td>\n",
              "      <td>GOSTARIA DE SABER O QUE HOUVE, SEMPRE RECEBI ...</td>\n",
              "    </tr>\n",
              "    <tr>\n",
              "      <th>19</th>\n",
              "      <td>373cbeecea8286a2b66c97b1b157ec46</td>\n",
              "      <td>1</td>\n",
              "      <td>Não chegou meu produto</td>\n",
              "      <td>Péssimo</td>\n",
              "      <td>Não chegou meu produto  Péssimo</td>\n",
              "    </tr>\n",
              "    <tr>\n",
              "      <th>22</th>\n",
              "      <td>d21bbc789670eab777d27372ab9094cc</td>\n",
              "      <td>5</td>\n",
              "      <td>Ótimo</td>\n",
              "      <td>Loja nota 10</td>\n",
              "      <td>Ótimo Loja nota 10</td>\n",
              "    </tr>\n",
              "    <tr>\n",
              "      <th>24</th>\n",
              "      <td>0e0190b9db53b689b285d3f3916f8441</td>\n",
              "      <td>5</td>\n",
              "      <td></td>\n",
              "      <td>obrigado pela atençao amim dispensada</td>\n",
              "      <td>obrigado pela atençao amim dispensada</td>\n",
              "    </tr>\n",
              "    <tr>\n",
              "      <th>27</th>\n",
              "      <td>fe3db7c069d694bab50cc43463f91608</td>\n",
              "      <td>5</td>\n",
              "      <td></td>\n",
              "      <td>A compra foi realizada facilmente.\\r\\nA entreg...</td>\n",
              "      <td>A compra foi realizada facilmente.\\r\\nA entre...</td>\n",
              "    </tr>\n",
              "  </tbody>\n",
              "</table>\n",
              "</div>"
            ],
            "text/plain": [
              "                           review_id  ...                                             review\n",
              "3   e64fb393e7b32834bb789ff8bb30750e  ...              Recebi bem antes do prazo estipulado.\n",
              "4   f7c4243c7fe1938f181bec41a392bdeb  ...   Parabéns lojas lannister adorei comprar pela ...\n",
              "9   8670d52e15e00043ae7de4c01cc2fe06  ...  recomendo aparelho eficiente. no site a marca ...\n",
              "12  4b49719c8a200003f700d3d986ea1a19  ...    Mas um pouco ,travando...pelo valor ta Boa.\\r\\n\n",
              "15  3948b09f7c818e2d86c9a546758b2335  ...  Super recomendo Vendedor confiável, produto ok...\n",
              "16  9314d6f9799f5bfba510cc7bcd468c01  ...   GOSTARIA DE SABER O QUE HOUVE, SEMPRE RECEBI ...\n",
              "19  373cbeecea8286a2b66c97b1b157ec46  ...                    Não chegou meu produto  Péssimo\n",
              "22  d21bbc789670eab777d27372ab9094cc  ...                                 Ótimo Loja nota 10\n",
              "24  0e0190b9db53b689b285d3f3916f8441  ...              obrigado pela atençao amim dispensada\n",
              "27  fe3db7c069d694bab50cc43463f91608  ...   A compra foi realizada facilmente.\\r\\nA entre...\n",
              "\n",
              "[10 rows x 5 columns]"
            ]
          },
          "metadata": {
            "tags": []
          },
          "execution_count": 17
        }
      ]
    },
    {
      "cell_type": "code",
      "metadata": {
        "colab": {
          "base_uri": "https://localhost:8080/"
        },
        "id": "kF2vszIZCeY2",
        "outputId": "d384168b-d246-464b-957f-7a44d061596b"
      },
      "source": [
        "data.info()"
      ],
      "execution_count": 18,
      "outputs": [
        {
          "output_type": "stream",
          "text": [
            "<class 'pandas.core.frame.DataFrame'>\n",
            "Int64Index: 43152 entries, 3 to 99999\n",
            "Data columns (total 5 columns):\n",
            " #   Column                  Non-Null Count  Dtype \n",
            "---  ------                  --------------  ----- \n",
            " 0   review_id               43152 non-null  object\n",
            " 1   review_score            43152 non-null  int64 \n",
            " 2   review_comment_title    43152 non-null  object\n",
            " 3   review_comment_message  43152 non-null  object\n",
            " 4   review                  43152 non-null  object\n",
            "dtypes: int64(1), object(4)\n",
            "memory usage: 2.0+ MB\n"
          ],
          "name": "stdout"
        }
      ]
    },
    {
      "cell_type": "code",
      "metadata": {
        "colab": {
          "base_uri": "https://localhost:8080/"
        },
        "id": "2Lt6hjyACiPj",
        "outputId": "1f6c5c20-2ea9-4e26-ebf3-d3a29f9cccd7"
      },
      "source": [
        "# review score\n",
        "data['review_score'].value_counts()"
      ],
      "execution_count": 19,
      "outputs": [
        {
          "output_type": "execute_result",
          "data": {
            "text/plain": [
              "5    21762\n",
              "1     9153\n",
              "4     6296\n",
              "3     3721\n",
              "2     2220\n",
              "Name: review_score, dtype: int64"
            ]
          },
          "metadata": {
            "tags": []
          },
          "execution_count": 19
        }
      ]
    },
    {
      "cell_type": "code",
      "metadata": {
        "colab": {
          "base_uri": "https://localhost:8080/"
        },
        "id": "sI0BmB9NCp1t",
        "outputId": "d2092827-c6bd-4698-c4c7-b686793f7d18"
      },
      "source": [
        "labels = []\n",
        "\n",
        "for score in data['review_score']:\n",
        "  if score > 3:\n",
        "    labels.append(1)\n",
        "  else:\n",
        "    labels.append(0)\n",
        "\n",
        "data['label'] = labels"
      ],
      "execution_count": 20,
      "outputs": [
        {
          "output_type": "stream",
          "text": [
            "/usr/local/lib/python3.7/dist-packages/ipykernel_launcher.py:9: SettingWithCopyWarning: \n",
            "A value is trying to be set on a copy of a slice from a DataFrame.\n",
            "Try using .loc[row_indexer,col_indexer] = value instead\n",
            "\n",
            "See the caveats in the documentation: https://pandas.pydata.org/pandas-docs/stable/user_guide/indexing.html#returning-a-view-versus-a-copy\n",
            "  if __name__ == '__main__':\n"
          ],
          "name": "stderr"
        }
      ]
    },
    {
      "cell_type": "code",
      "metadata": {
        "colab": {
          "base_uri": "https://localhost:8080/",
          "height": 204
        },
        "id": "_H9yf3PaCvR_",
        "outputId": "787b05e8-29cc-457a-d0ea-705edfa93fcf"
      },
      "source": [
        "data.head(5)"
      ],
      "execution_count": 21,
      "outputs": [
        {
          "output_type": "execute_result",
          "data": {
            "text/html": [
              "<div>\n",
              "<style scoped>\n",
              "    .dataframe tbody tr th:only-of-type {\n",
              "        vertical-align: middle;\n",
              "    }\n",
              "\n",
              "    .dataframe tbody tr th {\n",
              "        vertical-align: top;\n",
              "    }\n",
              "\n",
              "    .dataframe thead th {\n",
              "        text-align: right;\n",
              "    }\n",
              "</style>\n",
              "<table border=\"1\" class=\"dataframe\">\n",
              "  <thead>\n",
              "    <tr style=\"text-align: right;\">\n",
              "      <th></th>\n",
              "      <th>review_id</th>\n",
              "      <th>review_score</th>\n",
              "      <th>review_comment_title</th>\n",
              "      <th>review_comment_message</th>\n",
              "      <th>review</th>\n",
              "      <th>label</th>\n",
              "    </tr>\n",
              "  </thead>\n",
              "  <tbody>\n",
              "    <tr>\n",
              "      <th>3</th>\n",
              "      <td>e64fb393e7b32834bb789ff8bb30750e</td>\n",
              "      <td>5</td>\n",
              "      <td></td>\n",
              "      <td>Recebi bem antes do prazo estipulado.</td>\n",
              "      <td>Recebi bem antes do prazo estipulado.</td>\n",
              "      <td>1</td>\n",
              "    </tr>\n",
              "    <tr>\n",
              "      <th>4</th>\n",
              "      <td>f7c4243c7fe1938f181bec41a392bdeb</td>\n",
              "      <td>5</td>\n",
              "      <td></td>\n",
              "      <td>Parabéns lojas lannister adorei comprar pela I...</td>\n",
              "      <td>Parabéns lojas lannister adorei comprar pela ...</td>\n",
              "      <td>1</td>\n",
              "    </tr>\n",
              "    <tr>\n",
              "      <th>9</th>\n",
              "      <td>8670d52e15e00043ae7de4c01cc2fe06</td>\n",
              "      <td>4</td>\n",
              "      <td>recomendo</td>\n",
              "      <td>aparelho eficiente. no site a marca do aparelh...</td>\n",
              "      <td>recomendo aparelho eficiente. no site a marca ...</td>\n",
              "      <td>1</td>\n",
              "    </tr>\n",
              "    <tr>\n",
              "      <th>12</th>\n",
              "      <td>4b49719c8a200003f700d3d986ea1a19</td>\n",
              "      <td>4</td>\n",
              "      <td></td>\n",
              "      <td>Mas um pouco ,travando...pelo valor ta Boa.\\r\\n</td>\n",
              "      <td>Mas um pouco ,travando...pelo valor ta Boa.\\r\\n</td>\n",
              "      <td>1</td>\n",
              "    </tr>\n",
              "    <tr>\n",
              "      <th>15</th>\n",
              "      <td>3948b09f7c818e2d86c9a546758b2335</td>\n",
              "      <td>5</td>\n",
              "      <td>Super recomendo</td>\n",
              "      <td>Vendedor confiável, produto ok e entrega antes...</td>\n",
              "      <td>Super recomendo Vendedor confiável, produto ok...</td>\n",
              "      <td>1</td>\n",
              "    </tr>\n",
              "  </tbody>\n",
              "</table>\n",
              "</div>"
            ],
            "text/plain": [
              "                           review_id  ...  label\n",
              "3   e64fb393e7b32834bb789ff8bb30750e  ...      1\n",
              "4   f7c4243c7fe1938f181bec41a392bdeb  ...      1\n",
              "9   8670d52e15e00043ae7de4c01cc2fe06  ...      1\n",
              "12  4b49719c8a200003f700d3d986ea1a19  ...      1\n",
              "15  3948b09f7c818e2d86c9a546758b2335  ...      1\n",
              "\n",
              "[5 rows x 6 columns]"
            ]
          },
          "metadata": {
            "tags": []
          },
          "execution_count": 21
        }
      ]
    },
    {
      "cell_type": "code",
      "metadata": {
        "colab": {
          "base_uri": "https://localhost:8080/",
          "height": 459
        },
        "id": "jQqY9X8-CzqG",
        "outputId": "5a94a0d5-fca1-451c-f64c-c968f2c62edf"
      },
      "source": [
        "plt.figure(figsize=(8,6))\n",
        "sns.countplot(data['label'])\n",
        "plt.show()"
      ],
      "execution_count": 22,
      "outputs": [
        {
          "output_type": "execute_result",
          "data": {
            "text/plain": [
              "<Figure size 576x432 with 0 Axes>"
            ]
          },
          "metadata": {
            "tags": []
          },
          "execution_count": 22
        },
        {
          "output_type": "stream",
          "text": [
            "/usr/local/lib/python3.7/dist-packages/seaborn/_decorators.py:43: FutureWarning: Pass the following variable as a keyword arg: x. From version 0.12, the only valid positional argument will be `data`, and passing other arguments without an explicit keyword will result in an error or misinterpretation.\n",
            "  FutureWarning\n"
          ],
          "name": "stderr"
        },
        {
          "output_type": "execute_result",
          "data": {
            "text/plain": [
              "<matplotlib.axes._subplots.AxesSubplot at 0x7f70097be0d0>"
            ]
          },
          "metadata": {
            "tags": []
          },
          "execution_count": 22
        },
        {
          "output_type": "display_data",
          "data": {
            "image/png": "[encoded data removed]",
            "text/plain": [
              "<Figure size 576x432 with 1 Axes>"
            ]
          },
          "metadata": {
            "tags": [],
            "needs_background": "light"
          }
        }
      ]
    },
    {
      "cell_type": "code",
      "metadata": {
        "colab": {
          "base_uri": "https://localhost:8080/"
        },
        "id": "m5dEmMl7C3wM",
        "outputId": "c045c808-5ba9-44c1-e1e8-90e142e3faff"
      },
      "source": [
        "import nltk\n",
        "nltk.download('stopwords')\n",
        "from nltk.corpus import stopwords"
      ],
      "execution_count": 23,
      "outputs": [
        {
          "output_type": "stream",
          "text": [
            "[nltk_data] Downloading package stopwords to /root/nltk_data...\n",
            "[nltk_data]   Unzipping corpora/stopwords.zip.\n"
          ],
          "name": "stdout"
        },
        {
          "output_type": "execute_result",
          "data": {
            "text/plain": [
              "True"
            ]
          },
          "metadata": {
            "tags": []
          },
          "execution_count": 23
        }
      ]
    },
    {
      "cell_type": "code",
      "metadata": {
        "id": "AXhA9uWtC7GA"
      },
      "source": [
        "stopwords_pt = stopwords.words(\"portuguese\")"
      ],
      "execution_count": 24,
      "outputs": []
    },
    {
      "cell_type": "code",
      "metadata": {
        "id": "kV4WgFhpC-R3"
      },
      "source": [
        "stopwords_pt.remove('não')\n",
        "stopwords_pt.remove('nem')"
      ],
      "execution_count": 25,
      "outputs": []
    },
    {
      "cell_type": "code",
      "metadata": {
        "id": "NUOc3xpcDaMk"
      },
      "source": [
        "def simple_text(text):\n",
        "\n",
        "  text = text.lower()\n",
        "\n",
        "  text = re.sub(r\"[\\W\\d_]+\", \" \", text)\n",
        "\n",
        "  text = [t for t in text.split() if t not in stopwords_pt]\n",
        "\n",
        "  specific_text = spc_pt(\" \".join(text))\n",
        "  tokens = [word.lemma_ if word.lemma_ != \"-PRON-\" else word.lower_ for word in specific_text]\n",
        "  \n",
        "  return \" \".join(tokens)"
      ],
      "execution_count": 34,
      "outputs": []
    },
    {
      "cell_type": "code",
      "metadata": {
        "colab": {
          "base_uri": "https://localhost:8080/"
        },
        "id": "p-RSXYyjEnwu",
        "outputId": "0b4880a2-2e8f-4534-d118-bf4800571343"
      },
      "source": [
        "data['review'] = data['review'].apply(simple_text)"
      ],
      "execution_count": 35,
      "outputs": [
        {
          "output_type": "stream",
          "text": [
            "/usr/local/lib/python3.7/dist-packages/ipykernel_launcher.py:1: SettingWithCopyWarning: \n",
            "A value is trying to be set on a copy of a slice from a DataFrame.\n",
            "Try using .loc[row_indexer,col_indexer] = value instead\n",
            "\n",
            "See the caveats in the documentation: https://pandas.pydata.org/pandas-docs/stable/user_guide/indexing.html#returning-a-view-versus-a-copy\n",
            "  \"\"\"Entry point for launching an IPython kernel.\n"
          ],
          "name": "stderr"
        }
      ]
    },
    {
      "cell_type": "code",
      "metadata": {
        "colab": {
          "base_uri": "https://localhost:8080/"
        },
        "id": "r449DEUXEqKi",
        "outputId": "0acb7e16-7558-4ec4-b450-afa611bf126e"
      },
      "source": [
        "data.info()"
      ],
      "execution_count": 36,
      "outputs": [
        {
          "output_type": "stream",
          "text": [
            "<class 'pandas.core.frame.DataFrame'>\n",
            "Int64Index: 43152 entries, 3 to 99999\n",
            "Data columns (total 6 columns):\n",
            " #   Column                  Non-Null Count  Dtype \n",
            "---  ------                  --------------  ----- \n",
            " 0   review_id               43152 non-null  object\n",
            " 1   review_score            43152 non-null  int64 \n",
            " 2   review_comment_title    43152 non-null  object\n",
            " 3   review_comment_message  43152 non-null  object\n",
            " 4   review                  43152 non-null  object\n",
            " 5   label                   43152 non-null  int64 \n",
            "dtypes: int64(2), object(4)\n",
            "memory usage: 3.6+ MB\n"
          ],
          "name": "stdout"
        }
      ]
    },
    {
      "cell_type": "code",
      "metadata": {
        "colab": {
          "base_uri": "https://localhost:8080/",
          "height": 444
        },
        "id": "6DvHitpNGH7y",
        "outputId": "b804d656-0e9c-406a-dd1e-7777a22d8392"
      },
      "source": [
        "data.head(10)"
      ],
      "execution_count": 37,
      "outputs": [
        {
          "output_type": "execute_result",
          "data": {
            "text/html": [
              "<div>\n",
              "<style scoped>\n",
              "    .dataframe tbody tr th:only-of-type {\n",
              "        vertical-align: middle;\n",
              "    }\n",
              "\n",
              "    .dataframe tbody tr th {\n",
              "        vertical-align: top;\n",
              "    }\n",
              "\n",
              "    .dataframe thead th {\n",
              "        text-align: right;\n",
              "    }\n",
              "</style>\n",
              "<table border=\"1\" class=\"dataframe\">\n",
              "  <thead>\n",
              "    <tr style=\"text-align: right;\">\n",
              "      <th></th>\n",
              "      <th>review_id</th>\n",
              "      <th>review_score</th>\n",
              "      <th>review_comment_title</th>\n",
              "      <th>review_comment_message</th>\n",
              "      <th>review</th>\n",
              "      <th>label</th>\n",
              "    </tr>\n",
              "  </thead>\n",
              "  <tbody>\n",
              "    <tr>\n",
              "      <th>3</th>\n",
              "      <td>e64fb393e7b32834bb789ff8bb30750e</td>\n",
              "      <td>5</td>\n",
              "      <td></td>\n",
              "      <td>Recebi bem antes do prazo estipulado.</td>\n",
              "      <td>receber bem antar prazo estipular</td>\n",
              "      <td>1</td>\n",
              "    </tr>\n",
              "    <tr>\n",
              "      <th>4</th>\n",
              "      <td>f7c4243c7fe1938f181bec41a392bdeb</td>\n",
              "      <td>5</td>\n",
              "      <td></td>\n",
              "      <td>Parabéns lojas lannister adorei comprar pela I...</td>\n",
              "      <td>parabém loja lannister adorar comprar internet...</td>\n",
              "      <td>1</td>\n",
              "    </tr>\n",
              "    <tr>\n",
              "      <th>9</th>\n",
              "      <td>8670d52e15e00043ae7de4c01cc2fe06</td>\n",
              "      <td>4</td>\n",
              "      <td>recomendo</td>\n",
              "      <td>aparelho eficiente. no site a marca do aparelh...</td>\n",
              "      <td>recomendar aparelhar eficiente site marcar apa...</td>\n",
              "      <td>1</td>\n",
              "    </tr>\n",
              "    <tr>\n",
              "      <th>12</th>\n",
              "      <td>4b49719c8a200003f700d3d986ea1a19</td>\n",
              "      <td>4</td>\n",
              "      <td></td>\n",
              "      <td>Mas um pouco ,travando...pelo valor ta Boa.\\r\\n</td>\n",
              "      <td>pouco travar valor ta bom</td>\n",
              "      <td>1</td>\n",
              "    </tr>\n",
              "    <tr>\n",
              "      <th>15</th>\n",
              "      <td>3948b09f7c818e2d86c9a546758b2335</td>\n",
              "      <td>5</td>\n",
              "      <td>Super recomendo</td>\n",
              "      <td>Vendedor confiável, produto ok e entrega antes...</td>\n",
              "      <td>super recomendar vendedor confiável produto ok...</td>\n",
              "      <td>1</td>\n",
              "    </tr>\n",
              "    <tr>\n",
              "      <th>16</th>\n",
              "      <td>9314d6f9799f5bfba510cc7bcd468c01</td>\n",
              "      <td>2</td>\n",
              "      <td></td>\n",
              "      <td>GOSTARIA DE SABER O QUE HOUVE, SEMPRE RECEBI E...</td>\n",
              "      <td>gostar saber sempre receber comprar agora decp...</td>\n",
              "      <td>0</td>\n",
              "    </tr>\n",
              "    <tr>\n",
              "      <th>19</th>\n",
              "      <td>373cbeecea8286a2b66c97b1b157ec46</td>\n",
              "      <td>1</td>\n",
              "      <td>Não chegou meu produto</td>\n",
              "      <td>Péssimo</td>\n",
              "      <td>não chegar produto mau</td>\n",
              "      <td>0</td>\n",
              "    </tr>\n",
              "    <tr>\n",
              "      <th>22</th>\n",
              "      <td>d21bbc789670eab777d27372ab9094cc</td>\n",
              "      <td>5</td>\n",
              "      <td>Ótimo</td>\n",
              "      <td>Loja nota 10</td>\n",
              "      <td>ótimo loja noto</td>\n",
              "      <td>1</td>\n",
              "    </tr>\n",
              "    <tr>\n",
              "      <th>24</th>\n",
              "      <td>0e0190b9db53b689b285d3f3916f8441</td>\n",
              "      <td>5</td>\n",
              "      <td></td>\n",
              "      <td>obrigado pela atençao amim dispensada</td>\n",
              "      <td>obrigar atençao amim dispensar</td>\n",
              "      <td>1</td>\n",
              "    </tr>\n",
              "    <tr>\n",
              "      <th>27</th>\n",
              "      <td>fe3db7c069d694bab50cc43463f91608</td>\n",
              "      <td>5</td>\n",
              "      <td></td>\n",
              "      <td>A compra foi realizada facilmente.\\r\\nA entreg...</td>\n",
              "      <td>comprar realizar facilmente entregar efetuada ...</td>\n",
              "      <td>1</td>\n",
              "    </tr>\n",
              "  </tbody>\n",
              "</table>\n",
              "</div>"
            ],
            "text/plain": [
              "                           review_id  ...  label\n",
              "3   e64fb393e7b32834bb789ff8bb30750e  ...      1\n",
              "4   f7c4243c7fe1938f181bec41a392bdeb  ...      1\n",
              "9   8670d52e15e00043ae7de4c01cc2fe06  ...      1\n",
              "12  4b49719c8a200003f700d3d986ea1a19  ...      1\n",
              "15  3948b09f7c818e2d86c9a546758b2335  ...      1\n",
              "16  9314d6f9799f5bfba510cc7bcd468c01  ...      0\n",
              "19  373cbeecea8286a2b66c97b1b157ec46  ...      0\n",
              "22  d21bbc789670eab777d27372ab9094cc  ...      1\n",
              "24  0e0190b9db53b689b285d3f3916f8441  ...      1\n",
              "27  fe3db7c069d694bab50cc43463f91608  ...      1\n",
              "\n",
              "[10 rows x 6 columns]"
            ]
          },
          "metadata": {
            "tags": []
          },
          "execution_count": 37
        }
      ]
    },
    {
      "cell_type": "code",
      "metadata": {
        "id": "u4A1lP0oGLUZ"
      },
      "source": [
        "data.to_csv('olist_preprocessado.csv', index= False, columns= ['review_id', 'review', 'label'])"
      ],
      "execution_count": null,
      "outputs": []
    },
    {
      "cell_type": "markdown",
      "metadata": {
        "id": "aEuq4TFGG4m4"
      },
      "source": [
        "### Feature extraction"
      ]
    },
    {
      "cell_type": "code",
      "metadata": {
        "id": "rBuOp1DrG6W2"
      },
      "source": [
        "from sklearn.feature_extraction.text import CountVectorizer"
      ],
      "execution_count": 38,
      "outputs": []
    },
    {
      "cell_type": "code",
      "metadata": {
        "id": "bhXqHCMEG9AJ"
      },
      "source": [
        "vectorizer = CountVectorizer(binary=True, max_features=5000)\n",
        "\n",
        "text = data['review']\n",
        "X_bow = vectorizer.fit_transform(text)"
      ],
      "execution_count": 39,
      "outputs": []
    },
    {
      "cell_type": "code",
      "metadata": {
        "colab": {
          "base_uri": "https://localhost:8080/"
        },
        "id": "Ezib4fBtHFrE",
        "outputId": "af281b17-568c-4f74-f968-39f9f9237da0"
      },
      "source": [
        "X_bow.toarray()"
      ],
      "execution_count": 40,
      "outputs": [
        {
          "output_type": "execute_result",
          "data": {
            "text/plain": [
              "array([[0, 0, 0, ..., 0, 0, 0],\n",
              "       [0, 0, 0, ..., 0, 0, 0],\n",
              "       [0, 0, 0, ..., 0, 0, 0],\n",
              "       ...,\n",
              "       [0, 0, 0, ..., 0, 0, 0],\n",
              "       [0, 0, 0, ..., 0, 0, 0],\n",
              "       [0, 0, 0, ..., 0, 0, 0]])"
            ]
          },
          "metadata": {
            "tags": []
          },
          "execution_count": 40
        }
      ]
    },
    {
      "cell_type": "code",
      "metadata": {
        "colab": {
          "base_uri": "https://localhost:8080/"
        },
        "id": "H6tWuOfkHGOt",
        "outputId": "f039ce7a-af18-48cb-9ee9-d8fbdca9066a"
      },
      "source": [
        "print(X_bow.shape, type(X_bow))"
      ],
      "execution_count": 41,
      "outputs": [
        {
          "output_type": "stream",
          "text": [
            "(43152, 5000) <class 'scipy.sparse.csr.csr_matrix'>\n"
          ],
          "name": "stdout"
        }
      ]
    },
    {
      "cell_type": "code",
      "metadata": {
        "id": "sP0QWuOyHJeh"
      },
      "source": [
        "from sklearn.feature_extraction.text import TfidfVectorizer"
      ],
      "execution_count": 42,
      "outputs": []
    },
    {
      "cell_type": "code",
      "metadata": {
        "id": "mGpCsw2eHMw0"
      },
      "source": [
        "tfidf_vect = TfidfVectorizer(max_features=5000)\n",
        "X_tfidf = tfidf_vect.fit_transform(text)"
      ],
      "execution_count": 43,
      "outputs": []
    },
    {
      "cell_type": "code",
      "metadata": {
        "colab": {
          "base_uri": "https://localhost:8080/"
        },
        "id": "ugDuROXfHV4p",
        "outputId": "49b66308-cc9e-4b9e-9d32-385eb342f2bd"
      },
      "source": [
        "print(X_tfidf)"
      ],
      "execution_count": 44,
      "outputs": [
        {
          "output_type": "stream",
          "text": [
            "  (0, 1881)\t0.6929845750066604\n",
            "  (0, 3663)\t0.30582204275116415\n",
            "  (0, 269)\t0.3529748289184372\n",
            "  (0, 582)\t0.427882135533294\n",
            "  (0, 3999)\t0.34434126272030036\n",
            "  (1, 3873)\t0.47846657405507714\n",
            "  (1, 2058)\t0.30329552333345583\n",
            "  (1, 4630)\t0.2122474442238849\n",
            "  (1, 3846)\t0.32356855001772633\n",
            "  (1, 4330)\t0.3310383748193441\n",
            "  (1, 2562)\t0.3119241979143323\n",
            "  (1, 1022)\t0.12848597336592513\n",
            "  (1, 85)\t0.21633389797703662\n",
            "  (1, 2675)\t0.20446904414639935\n",
            "  (1, 2783)\t0.16840400503886988\n",
            "  (1, 3376)\t0.4347141225647072\n",
            "  (2, 4854)\t0.1814515363850349\n",
            "  (2, 1183)\t0.16522865072114531\n",
            "  (2, 447)\t0.2956163037497707\n",
            "  (2, 3176)\t0.23428956353367472\n",
            "  (2, 3333)\t0.14549731589476161\n",
            "  (2, 881)\t0.09509560984556845\n",
            "  (2, 2443)\t0.2956163037497707\n",
            "  (2, 2887)\t0.4008826329682664\n",
            "  (2, 4409)\t0.1489824858652298\n",
            "  :\t:\n",
            "  (43150, 3741)\t0.2994377062482914\n",
            "  (43150, 841)\t0.30781230058090403\n",
            "  (43150, 799)\t0.20544467778376035\n",
            "  (43150, 2665)\t0.4633785668468095\n",
            "  (43150, 1496)\t0.18814234453676615\n",
            "  (43150, 3009)\t0.18927772028998993\n",
            "  (43150, 3721)\t0.18345111866384262\n",
            "  (43150, 1285)\t0.1757615109505752\n",
            "  (43150, 769)\t0.3517313268686984\n",
            "  (43150, 133)\t0.13676236724511767\n",
            "  (43150, 2079)\t0.1313597245548521\n",
            "  (43150, 2984)\t0.19260326118237503\n",
            "  (43150, 4435)\t0.1585929935432638\n",
            "  (43150, 3333)\t0.130490687239199\n",
            "  (43150, 881)\t0.08528742544745277\n",
            "  (43150, 1022)\t0.08265898852443046\n",
            "  (43151, 787)\t0.5406397348423655\n",
            "  (43151, 1458)\t0.3477421899504088\n",
            "  (43151, 2601)\t0.35753075077748786\n",
            "  (43151, 1299)\t0.3351783907877209\n",
            "  (43151, 3571)\t0.28415174443962193\n",
            "  (43151, 3219)\t0.15578657511166305\n",
            "  (43151, 3767)\t0.11146670838507884\n",
            "  (43151, 881)\t0.17797375207137858\n",
            "  (43151, 4330)\t0.4444098341371841\n"
          ],
          "name": "stdout"
        }
      ]
    },
    {
      "cell_type": "code",
      "metadata": {
        "id": "iwoA-1zZHZSs"
      },
      "source": [
        "from sklearn.model_selection import train_test_split"
      ],
      "execution_count": 45,
      "outputs": []
    },
    {
      "cell_type": "code",
      "metadata": {
        "id": "QzCrVEKxHc75"
      },
      "source": [
        "X1_train, X1_test, y1_train, y1_test = train_test_split(X_bow, data['label'],\n",
        "                                                        test_size=0.3, random_state = 10)\n",
        "\n",
        "X2_train, X2_test, y2_train, y2_test = train_test_split(X_tfidf, data['label'],\n",
        "                                                        test_size=0.3, random_state = 10)"
      ],
      "execution_count": 46,
      "outputs": []
    },
    {
      "cell_type": "code",
      "metadata": {
        "id": "6eJxghmRHfOU"
      },
      "source": [
        "from sklearn.metrics import accuracy_score, confusion_matrix, f1_score, roc_auc_score"
      ],
      "execution_count": 47,
      "outputs": []
    },
    {
      "cell_type": "code",
      "metadata": {
        "id": "ivNFYbvsHiu6"
      },
      "source": [
        "def Result(y_true, y_pred):\n",
        "\n",
        "  print(\"\\nAccuracy : \", accuracy_score(y_true, y_pred))\n",
        "  print(\"\\nAUC_ROC:\", roc_auc_score(y_true, y_pred))\n",
        "  print(\"\\nF1-Score:\", f1_score(y_true, y_pred, average='weighted'))\n",
        "  print(\"\\nconfusion_matrix:\")\n",
        "  sns.heatmap(confusion_matrix(y_true, y_pred), annot=True)\n",
        "  plt.show()"
      ],
      "execution_count": 53,
      "outputs": []
    },
    {
      "cell_type": "markdown",
      "metadata": {
        "id": "17cUhfY9IEq3"
      },
      "source": [
        "Logistic Regression"
      ]
    },
    {
      "cell_type": "markdown",
      "metadata": {
        "id": "0HLfKMO2H8so"
      },
      "source": [
        "Bag of Words"
      ]
    },
    {
      "cell_type": "code",
      "metadata": {
        "colab": {
          "base_uri": "https://localhost:8080/",
          "height": 605
        },
        "id": "Q4vTqYsbIMx-",
        "outputId": "f373eb6b-9c40-44e1-e887-a8e3a67d0f67"
      },
      "source": [
        "LR = LogisticRegression()\n",
        "LR.fit(X1_train, y1_train)\n",
        "y1_LR_pred = LR.predict(X1_test)\n",
        "Result(y1_test, y1_LR_pred)"
      ],
      "execution_count": 54,
      "outputs": [
        {
          "output_type": "stream",
          "text": [
            "/usr/local/lib/python3.7/dist-packages/sklearn/linear_model/_logistic.py:940: ConvergenceWarning: lbfgs failed to converge (status=1):\n",
            "STOP: TOTAL NO. of ITERATIONS REACHED LIMIT.\n",
            "\n",
            "Increase the number of iterations (max_iter) or scale the data as shown in:\n",
            "    https://scikit-learn.org/stable/modules/preprocessing.html\n",
            "Please also refer to the documentation for alternative solver options:\n",
            "    https://scikit-learn.org/stable/modules/linear_model.html#logistic-regression\n",
            "  extra_warning_msg=_LOGISTIC_SOLVER_CONVERGENCE_MSG)\n"
          ],
          "name": "stderr"
        },
        {
          "output_type": "execute_result",
          "data": {
            "text/plain": [
              "LogisticRegression(C=1.0, class_weight=None, dual=False, fit_intercept=True,\n",
              "                   intercept_scaling=1, l1_ratio=None, max_iter=100,\n",
              "                   multi_class='auto', n_jobs=None, penalty='l2',\n",
              "                   random_state=None, solver='lbfgs', tol=0.0001, verbose=0,\n",
              "                   warm_start=False)"
            ]
          },
          "metadata": {
            "tags": []
          },
          "execution_count": 54
        },
        {
          "output_type": "stream",
          "text": [
            "\n",
            "Accuracy :  0.8951799783716978\n",
            "\n",
            "AUC_ROC: 0.8774503728996279\n",
            "\n",
            "F1-Score: 0.8943670107059343\n",
            "\n",
            "confusion_matrix:\n"
          ],
          "name": "stdout"
        },
        {
          "output_type": "display_data",
          "data": {
            "image/png": "[encoded data removed]",
            "text/plain": [
              "<Figure size 432x288 with 2 Axes>"
            ]
          },
          "metadata": {
            "tags": [],
            "needs_background": "light"
          }
        }
      ]
    },
    {
      "cell_type": "markdown",
      "metadata": {
        "id": "tHp0PTBDJeDW"
      },
      "source": [
        " tf-idf"
      ]
    },
    {
      "cell_type": "code",
      "metadata": {
        "colab": {
          "base_uri": "https://localhost:8080/",
          "height": 469
        },
        "id": "SexW61FxJCJ4",
        "outputId": "2e7eba9b-78ee-442c-96e8-076c24a7e41d"
      },
      "source": [
        "reglog2 = LogisticRegression()\n",
        "\n",
        "reglog2.fit(X2_train, y2_train)\n",
        "\n",
        "y2_reglog_pred = reglog2.predict(X2_test)\n",
        "\n",
        "Result(y2_test, y2_reglog_pred)"
      ],
      "execution_count": 55,
      "outputs": [
        {
          "output_type": "execute_result",
          "data": {
            "text/plain": [
              "LogisticRegression(C=1.0, class_weight=None, dual=False, fit_intercept=True,\n",
              "                   intercept_scaling=1, l1_ratio=None, max_iter=100,\n",
              "                   multi_class='auto', n_jobs=None, penalty='l2',\n",
              "                   random_state=None, solver='lbfgs', tol=0.0001, verbose=0,\n",
              "                   warm_start=False)"
            ]
          },
          "metadata": {
            "tags": []
          },
          "execution_count": 55
        },
        {
          "output_type": "stream",
          "text": [
            "\n",
            "Accuracy :  0.8995056388073536\n",
            "\n",
            "AUC_ROC: 0.8862841659981466\n",
            "\n",
            "F1-Score: 0.8991861711514488\n",
            "\n",
            "confusion_matrix:\n"
          ],
          "name": "stdout"
        },
        {
          "output_type": "display_data",
          "data": {
            "image/png": "[encoded data removed]",
            "text/plain": [
              "<Figure size 432x288 with 2 Axes>"
            ]
          },
          "metadata": {
            "tags": [],
            "needs_background": "light"
          }
        }
      ]
    },
    {
      "cell_type": "markdown",
      "metadata": {
        "id": "Q7d_TPSrJxlc"
      },
      "source": [
        "### Naive Bayes Multinomial"
      ]
    },
    {
      "cell_type": "markdown",
      "metadata": {
        "id": "3qg8If_DJz7b"
      },
      "source": [
        "BOW"
      ]
    },
    {
      "cell_type": "code",
      "metadata": {
        "colab": {
          "base_uri": "https://localhost:8080/",
          "height": 401
        },
        "id": "xYxeqQO5JpGJ",
        "outputId": "129a76cf-9f4d-4db1-acf9-fc58ab6f2f5b"
      },
      "source": [
        "from sklearn.naive_bayes import MultinomialNB\n",
        "nb1 = MultinomialNB()\n",
        "\n",
        "nb1.fit(X1_train.toarray(), y1_train)\n",
        "\n",
        "y1_gnb_pred = nb1.predict(X1_test.toarray())\n",
        "\n",
        "Result(y1_test, y1_gnb_pred)"
      ],
      "execution_count": 56,
      "outputs": [
        {
          "output_type": "execute_result",
          "data": {
            "text/plain": [
              "MultinomialNB(alpha=1.0, class_prior=None, fit_prior=True)"
            ]
          },
          "metadata": {
            "tags": []
          },
          "execution_count": 56
        },
        {
          "output_type": "stream",
          "text": [
            "\n",
            "Accuracy :  0.8879962922910551\n",
            "\n",
            "AUC_ROC: 0.8782753802155072\n",
            "\n",
            "F1-Score: 0.8881718315667444\n",
            "\n",
            "confusion_matrix:\n"
          ],
          "name": "stdout"
        },
        {
          "output_type": "display_data",
          "data": {
            "image/png": "[encoded data removed]",
            "text/plain": [
              "<Figure size 432x288 with 2 Axes>"
            ]
          },
          "metadata": {
            "tags": [],
            "needs_background": "light"
          }
        }
      ]
    },
    {
      "cell_type": "markdown",
      "metadata": {
        "id": "7bwt-nn-KO_X"
      },
      "source": [
        "Tf-idf"
      ]
    },
    {
      "cell_type": "code",
      "metadata": {
        "colab": {
          "base_uri": "https://localhost:8080/",
          "height": 401
        },
        "id": "k0GITdcxKKy5",
        "outputId": "3abddd66-365b-454a-ad84-22159bc5b67f"
      },
      "source": [
        "nb2 = MultinomialNB()\n",
        "\n",
        "nb2.fit(X2_train.toarray(), y2_train)\n",
        "\n",
        "y2_gnb_pred = nb2.predict(X2_test.toarray())\n",
        "Result(y2_test, y2_gnb_pred)"
      ],
      "execution_count": 57,
      "outputs": [
        {
          "output_type": "execute_result",
          "data": {
            "text/plain": [
              "MultinomialNB(alpha=1.0, class_prior=None, fit_prior=True)"
            ]
          },
          "metadata": {
            "tags": []
          },
          "execution_count": 57
        },
        {
          "output_type": "stream",
          "text": [
            "\n",
            "Accuracy :  0.8896956588907771\n",
            "\n",
            "AUC_ROC: 0.8789097121663917\n",
            "\n",
            "F1-Score: 0.8897352775586546\n",
            "\n",
            "confusion_matrix:\n"
          ],
          "name": "stdout"
        },
        {
          "output_type": "display_data",
          "data": {
            "image/png": "[encoded data removed]",
            "text/plain": [
              "<Figure size 432x288 with 2 Axes>"
            ]
          },
          "metadata": {
            "tags": [],
            "needs_background": "light"
          }
        }
      ]
    },
    {
      "cell_type": "markdown",
      "metadata": {
        "id": "2E6mIYJ0KXEu"
      },
      "source": [
        "### Random Forest"
      ]
    },
    {
      "cell_type": "markdown",
      "metadata": {
        "id": "7tkdsGEmKZtw"
      },
      "source": [
        "BOW"
      ]
    },
    {
      "cell_type": "code",
      "metadata": {
        "colab": {
          "base_uri": "https://localhost:8080/",
          "height": 520
        },
        "id": "ek9bPNaPKYd9",
        "outputId": "58d0573f-2487-44ba-b374-ba5b55b5d6e3"
      },
      "source": [
        "from sklearn.ensemble import RandomForestClassifier\n",
        "\n",
        "rf1 = RandomForestClassifier()\n",
        "\n",
        "rf1.fit(X1_train, y1_train)\n",
        "\n",
        "y1_dt_pred = rf1.predict(X1_test)\n",
        "\n",
        "Result(y1_test, y1_dt_pred)"
      ],
      "execution_count": 58,
      "outputs": [
        {
          "output_type": "execute_result",
          "data": {
            "text/plain": [
              "RandomForestClassifier(bootstrap=True, ccp_alpha=0.0, class_weight=None,\n",
              "                       criterion='gini', max_depth=None, max_features='auto',\n",
              "                       max_leaf_nodes=None, max_samples=None,\n",
              "                       min_impurity_decrease=0.0, min_impurity_split=None,\n",
              "                       min_samples_leaf=1, min_samples_split=2,\n",
              "                       min_weight_fraction_leaf=0.0, n_estimators=100,\n",
              "                       n_jobs=None, oob_score=False, random_state=None,\n",
              "                       verbose=0, warm_start=False)"
            ]
          },
          "metadata": {
            "tags": []
          },
          "execution_count": 58
        },
        {
          "output_type": "stream",
          "text": [
            "\n",
            "Accuracy :  0.8945620268808898\n",
            "\n",
            "AUC_ROC: 0.8849119918617147\n",
            "\n",
            "F1-Score: 0.8946667153275362\n",
            "\n",
            "confusion_matrix:\n"
          ],
          "name": "stdout"
        },
        {
          "output_type": "display_data",
          "data": {
            "image/png": "[encoded data removed]",
            "text/plain": [
              "<Figure size 432x288 with 2 Axes>"
            ]
          },
          "metadata": {
            "tags": [],
            "needs_background": "light"
          }
        }
      ]
    },
    {
      "cell_type": "markdown",
      "metadata": {
        "id": "ohcJpY-0KlKB"
      },
      "source": [
        "Tf-idf"
      ]
    },
    {
      "cell_type": "code",
      "metadata": {
        "colab": {
          "base_uri": "https://localhost:8080/",
          "height": 520
        },
        "id": "M8cywzTWKURS",
        "outputId": "d251a475-871e-4eb6-a84c-7724b175ffb8"
      },
      "source": [
        "rf2 = RandomForestClassifier()\n",
        "\n",
        "rf2.fit(X2_train, y2_train)\n",
        "\n",
        "y2_dt_pred = rf2.predict(X2_test)\n",
        "\n",
        "Result(y2_test, y2_dt_pred)"
      ],
      "execution_count": 59,
      "outputs": [
        {
          "output_type": "execute_result",
          "data": {
            "text/plain": [
              "RandomForestClassifier(bootstrap=True, ccp_alpha=0.0, class_weight=None,\n",
              "                       criterion='gini', max_depth=None, max_features='auto',\n",
              "                       max_leaf_nodes=None, max_samples=None,\n",
              "                       min_impurity_decrease=0.0, min_impurity_split=None,\n",
              "                       min_samples_leaf=1, min_samples_split=2,\n",
              "                       min_weight_fraction_leaf=0.0, n_estimators=100,\n",
              "                       n_jobs=None, oob_score=False, random_state=None,\n",
              "                       verbose=0, warm_start=False)"
            ]
          },
          "metadata": {
            "tags": []
          },
          "execution_count": 59
        },
        {
          "output_type": "stream",
          "text": [
            "\n",
            "Accuracy :  0.8940213193264329\n",
            "\n",
            "AUC_ROC: 0.8865582749744785\n",
            "\n",
            "F1-Score: 0.8943522117520228\n",
            "\n",
            "confusion_matrix:\n"
          ],
          "name": "stdout"
        },
        {
          "output_type": "display_data",
          "data": {
            "image/png": "[encoded data removed]",
            "text/plain": [
              "<Figure size 432x288 with 2 Axes>"
            ]
          },
          "metadata": {
            "tags": [],
            "needs_background": "light"
          }
        }
      ]
    },
    {
      "cell_type": "code",
      "metadata": {
        "id": "kbO9c9ViKt_9"
      },
      "source": [
        "def new_predictor(text):\n",
        "  \n",
        "  text_vectorize = tfidf_vect.transform([text])\n",
        "  pred = reglog2.predict(text_vectorize )\n",
        "\n",
        "  if pred == 0:\n",
        "    print(\"review is negative.\")\n",
        "  else:\n",
        "    print(\"review is positive.\")"
      ],
      "execution_count": 63,
      "outputs": []
    },
    {
      "cell_type": "code",
      "metadata": {
        "colab": {
          "base_uri": "https://localhost:8080/"
        },
        "id": "83b5AvZILdGI",
        "outputId": "008bfaa0-930e-47b7-e36b-a3202d9bf300"
      },
      "source": [
        "new_predictor(\"Demorou muito não gostei\")"
      ],
      "execution_count": 64,
      "outputs": [
        {
          "output_type": "stream",
          "text": [
            "review is negative.\n"
          ],
          "name": "stdout"
        }
      ]
    },
    {
      "cell_type": "code",
      "metadata": {
        "colab": {
          "base_uri": "https://localhost:8080/"
        },
        "id": "VVWitc4KLiBW",
        "outputId": "573035f2-e8a4-4f6d-e1f6-4b9ca0e41a78"
      },
      "source": [
        "new_predictor(\"Achei cheirosinho\")"
      ],
      "execution_count": 65,
      "outputs": [
        {
          "output_type": "stream",
          "text": [
            "review is positive.\n"
          ],
          "name": "stdout"
        }
      ]
    },
    {
      "cell_type": "code",
      "metadata": {
        "colab": {
          "base_uri": "https://localhost:8080/"
        },
        "id": "uao9Ba5QLu-U",
        "outputId": "0a7793ba-e476-49a7-ee5b-d58b955da1f3"
      },
      "source": [
        "new_predictor(\"Nossa que produto ruim é esse parece que encontrei no lixo\")"
      ],
      "execution_count": 66,
      "outputs": [
        {
          "output_type": "stream",
          "text": [
            "review is negative.\n"
          ],
          "name": "stdout"
        }
      ]
    },
    {
      "cell_type": "code",
      "metadata": {
        "id": "2_B9yg6yL66b"
      },
      "source": [
        ""
      ],
      "execution_count": null,
      "outputs": []
    }
  ]
}