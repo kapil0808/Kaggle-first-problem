{
  "nbformat": 4,
  "nbformat_minor": 0,
  "metadata": {
    "colab": {
      "name": "Churn Prediction .ipynb",
      "provenance": [],
      "mount_file_id": "12Za5k-BeecGKWEqIBo7R8STjyff13R1i",
      "authorship_tag": "ABX9TyOM02nyySuOI0Ms5le2IzNG",
      "include_colab_link": true
    },
    "kernelspec": {
      "name": "python3",
      "display_name": "Python 3"
    },
    "language_info": {
      "name": "python"
    }
  },
  "cells": [
    {
      "cell_type": "markdown",
      "metadata": {
        "id": "view-in-github",
        "colab_type": "text"
      },
      "source": [
        "<a href=\"https://colab.research.google.com/github/kapil0808/Kaggle-first-problem/blob/main/Churn_Prediction_.ipynb\" target=\"_parent\"><img src=\"https://colab.research.google.com/assets/colab-badge.svg\" alt=\"Open In Colab\"/></a>"
      ]
    },
    {
      "cell_type": "code",
      "metadata": {
        "id": "NLbWueQWTYKo"
      },
      "source": [
        "import pandas as pd\n",
        "import numpy as np\n",
        "import seaborn as sns\n",
        "import matplotlib.pyplot as plt\n",
        "\n",
        "from sklearn.linear_model import LogisticRegression\n",
        "from sklearn.model_selection import StratifiedKFold,RandomizedSearchCV\n",
        "from sklearn.metrics import roc_auc_score,confusion_matrix,roc_curve\n",
        "from sklearn.preprocessing import LabelEncoder\n",
        "from sklearn.feature_extraction.text import TfidfVectorizer\n",
        "\n",
        "import datetime as dt\n",
        "\n",
        "% matplotlib inline"
      ],
      "execution_count": 1,
      "outputs": []
    },
    {
      "cell_type": "code",
      "metadata": {
        "id": "HmFgdyCykjg2"
      },
      "source": [
        "train = pd.read_csv('/content/drive/MyDrive/Colab Notebooks/Churn Prediction/train_v2.csv',dtype={'is_churn':np.int8})\n",
        "members = pd.read_csv('/content/drive/MyDrive/Colab Notebooks/Churn Prediction/members_v3.csv',parse_dates=['registration_init_time'],dtype={'city':np.int8,'bd':np.int8,\n",
        "                                                                                         'registered_via':np.int8})\n",
        "transactions = pd.read_csv('/content/drive/MyDrive/Colab Notebooks/Churn Prediction/transactions_v2.csv',parse_dates=['transaction_date','membership_expire_date'],\n",
        "                          dtype={'payment_method_id':np.int8,'payment_plan_days':np.int8,'plan_list_price':np.int8,\n",
        "                                'actual_amount_paid':np.int8,'is_auto_renew':np.int8,'is_cancel':np.int8})\n",
        "\n",
        "user_log = pd.read_csv('/content/drive/MyDrive/Colab Notebooks/Churn Prediction/user_logs_v2.csv',parse_dates=['date'],dtype={'num_25':np.int16,'num_50':np.int16,\n",
        "                                    'num_75':np.int16,'num_985':np.int16,'num_100':np.int16,'num_unq':np.int16})"
      ],
      "execution_count": 2,
      "outputs": []
    },
    {
      "cell_type": "code",
      "metadata": {
        "colab": {
          "base_uri": "https://localhost:8080/",
          "height": 159
        },
        "id": "6nUwzYoelkXD",
        "outputId": "58b6502f-2c22-4fd0-94b3-46dd43adafcf"
      },
      "source": [
        "print('Number of rows  & columns',train.shape)\n",
        "train.head(3)"
      ],
      "execution_count": 4,
      "outputs": [
        {
          "output_type": "stream",
          "text": [
            "Number of rows  & columns (970960, 2)\n"
          ],
          "name": "stdout"
        },
        {
          "output_type": "execute_result",
          "data": {
            "text/html": [
              "<div>\n",
              "<style scoped>\n",
              "    .dataframe tbody tr th:only-of-type {\n",
              "        vertical-align: middle;\n",
              "    }\n",
              "\n",
              "    .dataframe tbody tr th {\n",
              "        vertical-align: top;\n",
              "    }\n",
              "\n",
              "    .dataframe thead th {\n",
              "        text-align: right;\n",
              "    }\n",
              "</style>\n",
              "<table border=\"1\" class=\"dataframe\">\n",
              "  <thead>\n",
              "    <tr style=\"text-align: right;\">\n",
              "      <th></th>\n",
              "      <th>msno</th>\n",
              "      <th>is_churn</th>\n",
              "    </tr>\n",
              "  </thead>\n",
              "  <tbody>\n",
              "    <tr>\n",
              "      <th>0</th>\n",
              "      <td>ugx0CjOMzazClkFzU2xasmDZaoIqOUAZPsH1q0teWCg=</td>\n",
              "      <td>1</td>\n",
              "    </tr>\n",
              "    <tr>\n",
              "      <th>1</th>\n",
              "      <td>f/NmvEzHfhINFEYZTR05prUdr+E+3+oewvweYz9cCQE=</td>\n",
              "      <td>1</td>\n",
              "    </tr>\n",
              "    <tr>\n",
              "      <th>2</th>\n",
              "      <td>zLo9f73nGGT1p21ltZC3ChiRnAVvgibMyazbCxvWPcg=</td>\n",
              "      <td>1</td>\n",
              "    </tr>\n",
              "  </tbody>\n",
              "</table>\n",
              "</div>"
            ],
            "text/plain": [
              "                                           msno  is_churn\n",
              "0  ugx0CjOMzazClkFzU2xasmDZaoIqOUAZPsH1q0teWCg=         1\n",
              "1  f/NmvEzHfhINFEYZTR05prUdr+E+3+oewvweYz9cCQE=         1\n",
              "2  zLo9f73nGGT1p21ltZC3ChiRnAVvgibMyazbCxvWPcg=         1"
            ]
          },
          "metadata": {
            "tags": []
          },
          "execution_count": 4
        }
      ]
    },
    {
      "cell_type": "code",
      "metadata": {
        "colab": {
          "base_uri": "https://localhost:8080/",
          "height": 159
        },
        "id": "pNRG8rqLmA_G",
        "outputId": "c1e80c22-ab14-40be-a0ab-5c54cb6239ae"
      },
      "source": [
        "print('Number of rows  & columns',members.shape)\n",
        "members.head(3)"
      ],
      "execution_count": 5,
      "outputs": [
        {
          "output_type": "stream",
          "text": [
            "Number of rows  & columns (6769473, 6)\n"
          ],
          "name": "stdout"
        },
        {
          "output_type": "execute_result",
          "data": {
            "text/html": [
              "<div>\n",
              "<style scoped>\n",
              "    .dataframe tbody tr th:only-of-type {\n",
              "        vertical-align: middle;\n",
              "    }\n",
              "\n",
              "    .dataframe tbody tr th {\n",
              "        vertical-align: top;\n",
              "    }\n",
              "\n",
              "    .dataframe thead th {\n",
              "        text-align: right;\n",
              "    }\n",
              "</style>\n",
              "<table border=\"1\" class=\"dataframe\">\n",
              "  <thead>\n",
              "    <tr style=\"text-align: right;\">\n",
              "      <th></th>\n",
              "      <th>msno</th>\n",
              "      <th>city</th>\n",
              "      <th>bd</th>\n",
              "      <th>gender</th>\n",
              "      <th>registered_via</th>\n",
              "      <th>registration_init_time</th>\n",
              "    </tr>\n",
              "  </thead>\n",
              "  <tbody>\n",
              "    <tr>\n",
              "      <th>0</th>\n",
              "      <td>Rb9UwLQTrxzBVwCB6+bCcSQWZ9JiNLC9dXtM1oEsZA8=</td>\n",
              "      <td>1</td>\n",
              "      <td>0</td>\n",
              "      <td>NaN</td>\n",
              "      <td>11</td>\n",
              "      <td>2011-09-11</td>\n",
              "    </tr>\n",
              "    <tr>\n",
              "      <th>1</th>\n",
              "      <td>+tJonkh+O1CA796Fm5X60UMOtB6POHAwPjbTRVl/EuU=</td>\n",
              "      <td>1</td>\n",
              "      <td>0</td>\n",
              "      <td>NaN</td>\n",
              "      <td>7</td>\n",
              "      <td>2011-09-14</td>\n",
              "    </tr>\n",
              "    <tr>\n",
              "      <th>2</th>\n",
              "      <td>cV358ssn7a0f7jZOwGNWS07wCKVqxyiImJUX6xcIwKw=</td>\n",
              "      <td>1</td>\n",
              "      <td>0</td>\n",
              "      <td>NaN</td>\n",
              "      <td>11</td>\n",
              "      <td>2011-09-15</td>\n",
              "    </tr>\n",
              "  </tbody>\n",
              "</table>\n",
              "</div>"
            ],
            "text/plain": [
              "                                           msno  ...  registration_init_time\n",
              "0  Rb9UwLQTrxzBVwCB6+bCcSQWZ9JiNLC9dXtM1oEsZA8=  ...              2011-09-11\n",
              "1  +tJonkh+O1CA796Fm5X60UMOtB6POHAwPjbTRVl/EuU=  ...              2011-09-14\n",
              "2  cV358ssn7a0f7jZOwGNWS07wCKVqxyiImJUX6xcIwKw=  ...              2011-09-15\n",
              "\n",
              "[3 rows x 6 columns]"
            ]
          },
          "metadata": {
            "tags": []
          },
          "execution_count": 5
        }
      ]
    },
    {
      "cell_type": "code",
      "metadata": {
        "colab": {
          "base_uri": "https://localhost:8080/",
          "height": 179
        },
        "id": "xYNJhWR0mIBY",
        "outputId": "9b43185c-6fef-436f-ab3a-7611431cef44"
      },
      "source": [
        "print('Number of rows & columns',transactions.shape)\n",
        "transactions.head(3)"
      ],
      "execution_count": 6,
      "outputs": [
        {
          "output_type": "stream",
          "text": [
            "Number of rows & columns (1431009, 9)\n"
          ],
          "name": "stdout"
        },
        {
          "output_type": "execute_result",
          "data": {
            "text/html": [
              "<div>\n",
              "<style scoped>\n",
              "    .dataframe tbody tr th:only-of-type {\n",
              "        vertical-align: middle;\n",
              "    }\n",
              "\n",
              "    .dataframe tbody tr th {\n",
              "        vertical-align: top;\n",
              "    }\n",
              "\n",
              "    .dataframe thead th {\n",
              "        text-align: right;\n",
              "    }\n",
              "</style>\n",
              "<table border=\"1\" class=\"dataframe\">\n",
              "  <thead>\n",
              "    <tr style=\"text-align: right;\">\n",
              "      <th></th>\n",
              "      <th>msno</th>\n",
              "      <th>payment_method_id</th>\n",
              "      <th>payment_plan_days</th>\n",
              "      <th>plan_list_price</th>\n",
              "      <th>actual_amount_paid</th>\n",
              "      <th>is_auto_renew</th>\n",
              "      <th>transaction_date</th>\n",
              "      <th>membership_expire_date</th>\n",
              "      <th>is_cancel</th>\n",
              "    </tr>\n",
              "  </thead>\n",
              "  <tbody>\n",
              "    <tr>\n",
              "      <th>0</th>\n",
              "      <td>++6eU4LsQ3UQ20ILS7d99XK8WbiVgbyYL4FUgzZR134=</td>\n",
              "      <td>32</td>\n",
              "      <td>90</td>\n",
              "      <td>42</td>\n",
              "      <td>42</td>\n",
              "      <td>0</td>\n",
              "      <td>2017-01-31</td>\n",
              "      <td>2017-05-04</td>\n",
              "      <td>0</td>\n",
              "    </tr>\n",
              "    <tr>\n",
              "      <th>1</th>\n",
              "      <td>++lvGPJOinuin/8esghpnqdljm6NXS8m8Zwchc7gOeA=</td>\n",
              "      <td>41</td>\n",
              "      <td>30</td>\n",
              "      <td>-107</td>\n",
              "      <td>-107</td>\n",
              "      <td>1</td>\n",
              "      <td>2015-08-09</td>\n",
              "      <td>2019-04-12</td>\n",
              "      <td>0</td>\n",
              "    </tr>\n",
              "    <tr>\n",
              "      <th>2</th>\n",
              "      <td>+/GXNtXWQVfKrEDqYAzcSw2xSPYMKWNj22m+5XkVQZc=</td>\n",
              "      <td>36</td>\n",
              "      <td>30</td>\n",
              "      <td>-76</td>\n",
              "      <td>-76</td>\n",
              "      <td>1</td>\n",
              "      <td>2017-03-03</td>\n",
              "      <td>2017-04-22</td>\n",
              "      <td>0</td>\n",
              "    </tr>\n",
              "  </tbody>\n",
              "</table>\n",
              "</div>"
            ],
            "text/plain": [
              "                                           msno  ...  is_cancel\n",
              "0  ++6eU4LsQ3UQ20ILS7d99XK8WbiVgbyYL4FUgzZR134=  ...          0\n",
              "1  ++lvGPJOinuin/8esghpnqdljm6NXS8m8Zwchc7gOeA=  ...          0\n",
              "2  +/GXNtXWQVfKrEDqYAzcSw2xSPYMKWNj22m+5XkVQZc=  ...          0\n",
              "\n",
              "[3 rows x 9 columns]"
            ]
          },
          "metadata": {
            "tags": []
          },
          "execution_count": 6
        }
      ]
    },
    {
      "cell_type": "code",
      "metadata": {
        "colab": {
          "base_uri": "https://localhost:8080/",
          "height": 159
        },
        "id": "a3Tu-9rPmNaV",
        "outputId": "38d15d10-a955-4171-ec8f-dcdf957fe116"
      },
      "source": [
        "print('Number of rows & columns',user_log.shape)\n",
        "user_log.head(3)"
      ],
      "execution_count": 7,
      "outputs": [
        {
          "output_type": "stream",
          "text": [
            "Number of rows & columns (18396362, 9)\n"
          ],
          "name": "stdout"
        },
        {
          "output_type": "execute_result",
          "data": {
            "text/html": [
              "<div>\n",
              "<style scoped>\n",
              "    .dataframe tbody tr th:only-of-type {\n",
              "        vertical-align: middle;\n",
              "    }\n",
              "\n",
              "    .dataframe tbody tr th {\n",
              "        vertical-align: top;\n",
              "    }\n",
              "\n",
              "    .dataframe thead th {\n",
              "        text-align: right;\n",
              "    }\n",
              "</style>\n",
              "<table border=\"1\" class=\"dataframe\">\n",
              "  <thead>\n",
              "    <tr style=\"text-align: right;\">\n",
              "      <th></th>\n",
              "      <th>msno</th>\n",
              "      <th>date</th>\n",
              "      <th>num_25</th>\n",
              "      <th>num_50</th>\n",
              "      <th>num_75</th>\n",
              "      <th>num_985</th>\n",
              "      <th>num_100</th>\n",
              "      <th>num_unq</th>\n",
              "      <th>total_secs</th>\n",
              "    </tr>\n",
              "  </thead>\n",
              "  <tbody>\n",
              "    <tr>\n",
              "      <th>0</th>\n",
              "      <td>u9E91QDTvHLq6NXjEaWv8u4QIqhrHk72kE+w31Gnhdg=</td>\n",
              "      <td>2017-03-31</td>\n",
              "      <td>8</td>\n",
              "      <td>4</td>\n",
              "      <td>0</td>\n",
              "      <td>1</td>\n",
              "      <td>21</td>\n",
              "      <td>18</td>\n",
              "      <td>6309.273</td>\n",
              "    </tr>\n",
              "    <tr>\n",
              "      <th>1</th>\n",
              "      <td>nTeWW/eOZA/UHKdD5L7DEqKKFTjaAj3ALLPoAWsU8n0=</td>\n",
              "      <td>2017-03-30</td>\n",
              "      <td>2</td>\n",
              "      <td>2</td>\n",
              "      <td>1</td>\n",
              "      <td>0</td>\n",
              "      <td>9</td>\n",
              "      <td>11</td>\n",
              "      <td>2390.699</td>\n",
              "    </tr>\n",
              "    <tr>\n",
              "      <th>2</th>\n",
              "      <td>2UqkWXwZbIjs03dHLU9KHJNNEvEkZVzm69f3jCS+uLI=</td>\n",
              "      <td>2017-03-31</td>\n",
              "      <td>52</td>\n",
              "      <td>3</td>\n",
              "      <td>5</td>\n",
              "      <td>3</td>\n",
              "      <td>84</td>\n",
              "      <td>110</td>\n",
              "      <td>23203.337</td>\n",
              "    </tr>\n",
              "  </tbody>\n",
              "</table>\n",
              "</div>"
            ],
            "text/plain": [
              "                                           msno       date  ...  num_unq  total_secs\n",
              "0  u9E91QDTvHLq6NXjEaWv8u4QIqhrHk72kE+w31Gnhdg= 2017-03-31  ...       18    6309.273\n",
              "1  nTeWW/eOZA/UHKdD5L7DEqKKFTjaAj3ALLPoAWsU8n0= 2017-03-30  ...       11    2390.699\n",
              "2  2UqkWXwZbIjs03dHLU9KHJNNEvEkZVzm69f3jCS+uLI= 2017-03-31  ...      110   23203.337\n",
              "\n",
              "[3 rows x 9 columns]"
            ]
          },
          "metadata": {
            "tags": []
          },
          "execution_count": 7
        }
      ]
    },
    {
      "cell_type": "code",
      "metadata": {
        "colab": {
          "base_uri": "https://localhost:8080/"
        },
        "id": "Z-KNs7ksmQIJ",
        "outputId": "a8d058e6-411c-4dee-a07d-7e57f0d99215"
      },
      "source": [
        "print('\\nTrain:',train.describe().T)\n",
        "print('\\nMembers:',members.describe().T)\n",
        "print('\\nTransactions:',transactions.describe().T)\n",
        "print('\\nUser log:',user_log.describe().T)"
      ],
      "execution_count": 9,
      "outputs": [
        {
          "output_type": "stream",
          "text": [
            "\n",
            "Train:              count      mean       std  min  25%  50%  75%  max\n",
            "is_churn  970960.0  0.089942  0.286099  0.0  0.0  0.0  0.0  1.0\n",
            "\n",
            "Members:                     count      mean        std    min  25%  50%   75%    max\n",
            "city            6769473.0  3.847358   5.478359    1.0  1.0  1.0   4.0   22.0\n",
            "bd              6769473.0  9.763688  15.354561 -128.0  0.0  0.0  21.0  126.0\n",
            "registered_via  6769473.0  5.253069   2.361398   -1.0  4.0  4.0   7.0   19.0\n",
            "\n",
            "Transactions:                         count       mean        std  ...   50%   75%    max\n",
            "payment_method_id   1431009.0  37.918355   4.964805  ...  40.0  41.0   41.0\n",
            "payment_plan_days   1431009.0  18.432050  39.830162  ...  30.0  30.0  120.0\n",
            "plan_list_price     1431009.0 -21.387690  94.768896  ... -76.0  99.0  126.0\n",
            "actual_amount_paid  1431009.0 -20.556024  94.926916  ... -76.0  99.0  127.0\n",
            "is_auto_renew       1431009.0   0.785303   0.410612  ...   1.0   1.0    1.0\n",
            "is_cancel           1431009.0   0.024551   0.154753  ...   0.0   0.0    1.0\n",
            "\n",
            "[6 rows x 8 columns]\n",
            "\n",
            "User log:                  count         mean  ...       75%          max\n",
            "num_25      18396362.0     6.191401  ...     7.000     5639.000\n",
            "num_50      18396362.0     1.508789  ...     2.000      912.000\n",
            "num_75      18396362.0     0.941376  ...     1.000      508.000\n",
            "num_985     18396362.0     1.079905  ...     1.000     1561.000\n",
            "num_100     18396362.0    30.278898  ...    37.000    21073.000\n",
            "num_unq     18396362.0    29.036146  ...    38.000     4925.000\n",
            "total_secs  18396362.0  7904.813556  ...  9848.441  9194058.522\n",
            "\n",
            "[7 rows x 8 columns]\n"
          ],
          "name": "stdout"
        }
      ]
    },
    {
      "cell_type": "code",
      "metadata": {
        "id": "wLExHCsTmWow"
      },
      "source": [
        "train = pd.merge(train,members,on='msno',how='left')\n",
        "train = pd.merge(train,transactions,how='left',on='msno',left_index=True, right_index=True)\n",
        "train = pd.merge(train,user_log,how='left',on='msno',left_index=True, right_index=True)"
      ],
      "execution_count": 10,
      "outputs": []
    },
    {
      "cell_type": "code",
      "metadata": {
        "colab": {
          "base_uri": "https://localhost:8080/"
        },
        "id": "f40Cyc-Ewqnr",
        "outputId": "e4ebcb42-bcb1-4901-826d-5779fede835b"
      },
      "source": [
        "del members,transactions,user_log\n",
        "print('Number of rows & columns',train.shape)"
      ],
      "execution_count": 11,
      "outputs": [
        {
          "output_type": "stream",
          "text": [
            "Number of rows & columns (970960, 23)\n"
          ],
          "name": "stdout"
        }
      ]
    },
    {
      "cell_type": "code",
      "metadata": {
        "colab": {
          "base_uri": "https://localhost:8080/",
          "height": 213
        },
        "id": "dDK9ujxsxKbe",
        "outputId": "39633b3a-67b9-4c4d-e967-3416ea543969"
      },
      "source": [
        "train.head(3)"
      ],
      "execution_count": 12,
      "outputs": [
        {
          "output_type": "execute_result",
          "data": {
            "text/html": [
              "<div>\n",
              "<style scoped>\n",
              "    .dataframe tbody tr th:only-of-type {\n",
              "        vertical-align: middle;\n",
              "    }\n",
              "\n",
              "    .dataframe tbody tr th {\n",
              "        vertical-align: top;\n",
              "    }\n",
              "\n",
              "    .dataframe thead th {\n",
              "        text-align: right;\n",
              "    }\n",
              "</style>\n",
              "<table border=\"1\" class=\"dataframe\">\n",
              "  <thead>\n",
              "    <tr style=\"text-align: right;\">\n",
              "      <th></th>\n",
              "      <th>msno</th>\n",
              "      <th>is_churn</th>\n",
              "      <th>city</th>\n",
              "      <th>bd</th>\n",
              "      <th>gender</th>\n",
              "      <th>registered_via</th>\n",
              "      <th>registration_init_time</th>\n",
              "      <th>payment_method_id</th>\n",
              "      <th>payment_plan_days</th>\n",
              "      <th>plan_list_price</th>\n",
              "      <th>actual_amount_paid</th>\n",
              "      <th>is_auto_renew</th>\n",
              "      <th>transaction_date</th>\n",
              "      <th>membership_expire_date</th>\n",
              "      <th>is_cancel</th>\n",
              "      <th>date</th>\n",
              "      <th>num_25</th>\n",
              "      <th>num_50</th>\n",
              "      <th>num_75</th>\n",
              "      <th>num_985</th>\n",
              "      <th>num_100</th>\n",
              "      <th>num_unq</th>\n",
              "      <th>total_secs</th>\n",
              "    </tr>\n",
              "  </thead>\n",
              "  <tbody>\n",
              "    <tr>\n",
              "      <th>0</th>\n",
              "      <td>ugx0CjOMzazClkFzU2xasmDZaoIqOUAZPsH1q0teWCg=</td>\n",
              "      <td>1</td>\n",
              "      <td>5.0</td>\n",
              "      <td>28.0</td>\n",
              "      <td>male</td>\n",
              "      <td>3.0</td>\n",
              "      <td>2013-12-23</td>\n",
              "      <td>32</td>\n",
              "      <td>90</td>\n",
              "      <td>42</td>\n",
              "      <td>42</td>\n",
              "      <td>0</td>\n",
              "      <td>2017-01-31</td>\n",
              "      <td>2017-05-04</td>\n",
              "      <td>0</td>\n",
              "      <td>2017-03-31</td>\n",
              "      <td>8</td>\n",
              "      <td>4</td>\n",
              "      <td>0</td>\n",
              "      <td>1</td>\n",
              "      <td>21</td>\n",
              "      <td>18</td>\n",
              "      <td>6309.273</td>\n",
              "    </tr>\n",
              "    <tr>\n",
              "      <th>1</th>\n",
              "      <td>f/NmvEzHfhINFEYZTR05prUdr+E+3+oewvweYz9cCQE=</td>\n",
              "      <td>1</td>\n",
              "      <td>13.0</td>\n",
              "      <td>20.0</td>\n",
              "      <td>male</td>\n",
              "      <td>3.0</td>\n",
              "      <td>2013-12-23</td>\n",
              "      <td>41</td>\n",
              "      <td>30</td>\n",
              "      <td>-107</td>\n",
              "      <td>-107</td>\n",
              "      <td>1</td>\n",
              "      <td>2015-08-09</td>\n",
              "      <td>2019-04-12</td>\n",
              "      <td>0</td>\n",
              "      <td>2017-03-30</td>\n",
              "      <td>2</td>\n",
              "      <td>2</td>\n",
              "      <td>1</td>\n",
              "      <td>0</td>\n",
              "      <td>9</td>\n",
              "      <td>11</td>\n",
              "      <td>2390.699</td>\n",
              "    </tr>\n",
              "    <tr>\n",
              "      <th>2</th>\n",
              "      <td>zLo9f73nGGT1p21ltZC3ChiRnAVvgibMyazbCxvWPcg=</td>\n",
              "      <td>1</td>\n",
              "      <td>13.0</td>\n",
              "      <td>18.0</td>\n",
              "      <td>male</td>\n",
              "      <td>3.0</td>\n",
              "      <td>2013-12-27</td>\n",
              "      <td>36</td>\n",
              "      <td>30</td>\n",
              "      <td>-76</td>\n",
              "      <td>-76</td>\n",
              "      <td>1</td>\n",
              "      <td>2017-03-03</td>\n",
              "      <td>2017-04-22</td>\n",
              "      <td>0</td>\n",
              "      <td>2017-03-31</td>\n",
              "      <td>52</td>\n",
              "      <td>3</td>\n",
              "      <td>5</td>\n",
              "      <td>3</td>\n",
              "      <td>84</td>\n",
              "      <td>110</td>\n",
              "      <td>23203.337</td>\n",
              "    </tr>\n",
              "  </tbody>\n",
              "</table>\n",
              "</div>"
            ],
            "text/plain": [
              "                                           msno  is_churn  ...  num_unq  total_secs\n",
              "0  ugx0CjOMzazClkFzU2xasmDZaoIqOUAZPsH1q0teWCg=         1  ...       18    6309.273\n",
              "1  f/NmvEzHfhINFEYZTR05prUdr+E+3+oewvweYz9cCQE=         1  ...       11    2390.699\n",
              "2  zLo9f73nGGT1p21ltZC3ChiRnAVvgibMyazbCxvWPcg=         1  ...      110   23203.337\n",
              "\n",
              "[3 rows x 23 columns]"
            ]
          },
          "metadata": {
            "tags": []
          },
          "execution_count": 12
        }
      ]
    },
    {
      "cell_type": "code",
      "metadata": {
        "colab": {
          "base_uri": "https://localhost:8080/",
          "height": 391
        },
        "id": "C_nJnM-IxNC5",
        "outputId": "8fd3898f-81d0-46df-d5ef-1398152dafb2"
      },
      "source": [
        "train[['registration_init_time' ,'transaction_date','membership_expire_date','date']].describe()"
      ],
      "execution_count": 13,
      "outputs": [
        {
          "output_type": "stream",
          "text": [
            "/usr/local/lib/python3.7/dist-packages/ipykernel_launcher.py:1: FutureWarning: Treating datetime data as categorical rather than numeric in `.describe` is deprecated and will be removed in a future version of pandas. Specify `datetime_is_numeric=True` to silence this warning and adopt the future behavior now.\n",
            "  \"\"\"Entry point for launching an IPython kernel.\n",
            "/usr/local/lib/python3.7/dist-packages/ipykernel_launcher.py:1: FutureWarning: Treating datetime data as categorical rather than numeric in `.describe` is deprecated and will be removed in a future version of pandas. Specify `datetime_is_numeric=True` to silence this warning and adopt the future behavior now.\n",
            "  \"\"\"Entry point for launching an IPython kernel.\n",
            "/usr/local/lib/python3.7/dist-packages/ipykernel_launcher.py:1: FutureWarning: Treating datetime data as categorical rather than numeric in `.describe` is deprecated and will be removed in a future version of pandas. Specify `datetime_is_numeric=True` to silence this warning and adopt the future behavior now.\n",
            "  \"\"\"Entry point for launching an IPython kernel.\n",
            "/usr/local/lib/python3.7/dist-packages/ipykernel_launcher.py:1: FutureWarning: Treating datetime data as categorical rather than numeric in `.describe` is deprecated and will be removed in a future version of pandas. Specify `datetime_is_numeric=True` to silence this warning and adopt the future behavior now.\n",
            "  \"\"\"Entry point for launching an IPython kernel.\n"
          ],
          "name": "stderr"
        },
        {
          "output_type": "execute_result",
          "data": {
            "text/html": [
              "<div>\n",
              "<style scoped>\n",
              "    .dataframe tbody tr th:only-of-type {\n",
              "        vertical-align: middle;\n",
              "    }\n",
              "\n",
              "    .dataframe tbody tr th {\n",
              "        vertical-align: top;\n",
              "    }\n",
              "\n",
              "    .dataframe thead th {\n",
              "        text-align: right;\n",
              "    }\n",
              "</style>\n",
              "<table border=\"1\" class=\"dataframe\">\n",
              "  <thead>\n",
              "    <tr style=\"text-align: right;\">\n",
              "      <th></th>\n",
              "      <th>registration_init_time</th>\n",
              "      <th>transaction_date</th>\n",
              "      <th>membership_expire_date</th>\n",
              "      <th>date</th>\n",
              "    </tr>\n",
              "  </thead>\n",
              "  <tbody>\n",
              "    <tr>\n",
              "      <th>count</th>\n",
              "      <td>860967</td>\n",
              "      <td>970960</td>\n",
              "      <td>970960</td>\n",
              "      <td>970960</td>\n",
              "    </tr>\n",
              "    <tr>\n",
              "      <th>unique</th>\n",
              "      <td>4749</td>\n",
              "      <td>820</td>\n",
              "      <td>1818</td>\n",
              "      <td>31</td>\n",
              "    </tr>\n",
              "    <tr>\n",
              "      <th>top</th>\n",
              "      <td>2015-10-09 00:00:00</td>\n",
              "      <td>2017-03-31 00:00:00</td>\n",
              "      <td>2017-04-30 00:00:00</td>\n",
              "      <td>2017-03-30 00:00:00</td>\n",
              "    </tr>\n",
              "    <tr>\n",
              "      <th>freq</th>\n",
              "      <td>1575</td>\n",
              "      <td>130414</td>\n",
              "      <td>79283</td>\n",
              "      <td>32331</td>\n",
              "    </tr>\n",
              "    <tr>\n",
              "      <th>first</th>\n",
              "      <td>2004-03-26 00:00:00</td>\n",
              "      <td>2015-01-01 00:00:00</td>\n",
              "      <td>2016-04-20 00:00:00</td>\n",
              "      <td>2017-03-01 00:00:00</td>\n",
              "    </tr>\n",
              "    <tr>\n",
              "      <th>last</th>\n",
              "      <td>2017-04-24 00:00:00</td>\n",
              "      <td>2017-03-31 00:00:00</td>\n",
              "      <td>2036-10-15 00:00:00</td>\n",
              "      <td>2017-03-31 00:00:00</td>\n",
              "    </tr>\n",
              "  </tbody>\n",
              "</table>\n",
              "</div>"
            ],
            "text/plain": [
              "       registration_init_time  ...                 date\n",
              "count                  860967  ...               970960\n",
              "unique                   4749  ...                   31\n",
              "top       2015-10-09 00:00:00  ...  2017-03-30 00:00:00\n",
              "freq                     1575  ...                32331\n",
              "first     2004-03-26 00:00:00  ...  2017-03-01 00:00:00\n",
              "last      2017-04-24 00:00:00  ...  2017-03-31 00:00:00\n",
              "\n",
              "[6 rows x 4 columns]"
            ]
          },
          "metadata": {
            "tags": []
          },
          "execution_count": 13
        }
      ]
    },
    {
      "cell_type": "code",
      "metadata": {
        "colab": {
          "base_uri": "https://localhost:8080/"
        },
        "id": "Xr_Abvx1xUDb",
        "outputId": "09a54f7a-a15a-4288-9c38-07d95dd7685d"
      },
      "source": [
        "train[['registration_init_time' ,'transaction_date','membership_expire_date','date']].isnull().sum()"
      ],
      "execution_count": 14,
      "outputs": [
        {
          "output_type": "execute_result",
          "data": {
            "text/plain": [
              "registration_init_time    109993\n",
              "transaction_date               0\n",
              "membership_expire_date         0\n",
              "date                           0\n",
              "dtype: int64"
            ]
          },
          "metadata": {
            "tags": []
          },
          "execution_count": 14
        }
      ]
    },
    {
      "cell_type": "code",
      "metadata": {
        "id": "G62ZgbcHxnuE"
      },
      "source": [
        "train['registration_init_time'] = train['registration_init_time'].fillna(value=pd.to_datetime('09/10/2015'))"
      ],
      "execution_count": 15,
      "outputs": []
    },
    {
      "cell_type": "code",
      "metadata": {
        "id": "3wkO19cFxuro"
      },
      "source": [
        "def date_feature(df):\n",
        "    \n",
        "    col = ['registration_init_time' ,'transaction_date','membership_expire_date','date']\n",
        "    var = ['reg','trans','mem_exp','user_']\n",
        "    #df['duration'] = (df[col[1]] - df[col[0]]).dt.days \n",
        "    \n",
        "    for i ,j in zip(col,var):\n",
        "        df[j+'_day'] = df[i].dt.day.astype('uint8')\n",
        "        df[j+'_weekday'] = df[i].dt.weekday.astype('uint8')        \n",
        "        df[j+'_month'] = df[i].dt.month.astype('uint8') \n",
        "        df[j+'_year'] =df[i].dt.year.astype('uint16') \n",
        "\n",
        "date_feature(train)"
      ],
      "execution_count": 16,
      "outputs": []
    },
    {
      "cell_type": "code",
      "metadata": {
        "colab": {
          "base_uri": "https://localhost:8080/",
          "height": 309
        },
        "id": "K2rUVL8cx890",
        "outputId": "a47c9184-f743-44c1-ea6b-455ea707ebec"
      },
      "source": [
        "train.head(5)"
      ],
      "execution_count": 17,
      "outputs": [
        {
          "output_type": "execute_result",
          "data": {
            "text/html": [
              "<div>\n",
              "<style scoped>\n",
              "    .dataframe tbody tr th:only-of-type {\n",
              "        vertical-align: middle;\n",
              "    }\n",
              "\n",
              "    .dataframe tbody tr th {\n",
              "        vertical-align: top;\n",
              "    }\n",
              "\n",
              "    .dataframe thead th {\n",
              "        text-align: right;\n",
              "    }\n",
              "</style>\n",
              "<table border=\"1\" class=\"dataframe\">\n",
              "  <thead>\n",
              "    <tr style=\"text-align: right;\">\n",
              "      <th></th>\n",
              "      <th>msno</th>\n",
              "      <th>is_churn</th>\n",
              "      <th>city</th>\n",
              "      <th>bd</th>\n",
              "      <th>gender</th>\n",
              "      <th>registered_via</th>\n",
              "      <th>registration_init_time</th>\n",
              "      <th>payment_method_id</th>\n",
              "      <th>payment_plan_days</th>\n",
              "      <th>plan_list_price</th>\n",
              "      <th>actual_amount_paid</th>\n",
              "      <th>is_auto_renew</th>\n",
              "      <th>transaction_date</th>\n",
              "      <th>membership_expire_date</th>\n",
              "      <th>is_cancel</th>\n",
              "      <th>date</th>\n",
              "      <th>num_25</th>\n",
              "      <th>num_50</th>\n",
              "      <th>num_75</th>\n",
              "      <th>num_985</th>\n",
              "      <th>num_100</th>\n",
              "      <th>num_unq</th>\n",
              "      <th>total_secs</th>\n",
              "      <th>reg_day</th>\n",
              "      <th>reg_weekday</th>\n",
              "      <th>reg_month</th>\n",
              "      <th>reg_year</th>\n",
              "      <th>trans_day</th>\n",
              "      <th>trans_weekday</th>\n",
              "      <th>trans_month</th>\n",
              "      <th>trans_year</th>\n",
              "      <th>mem_exp_day</th>\n",
              "      <th>mem_exp_weekday</th>\n",
              "      <th>mem_exp_month</th>\n",
              "      <th>mem_exp_year</th>\n",
              "      <th>user__day</th>\n",
              "      <th>user__weekday</th>\n",
              "      <th>user__month</th>\n",
              "      <th>user__year</th>\n",
              "    </tr>\n",
              "  </thead>\n",
              "  <tbody>\n",
              "    <tr>\n",
              "      <th>0</th>\n",
              "      <td>ugx0CjOMzazClkFzU2xasmDZaoIqOUAZPsH1q0teWCg=</td>\n",
              "      <td>1</td>\n",
              "      <td>5.0</td>\n",
              "      <td>28.0</td>\n",
              "      <td>male</td>\n",
              "      <td>3.0</td>\n",
              "      <td>2013-12-23</td>\n",
              "      <td>32</td>\n",
              "      <td>90</td>\n",
              "      <td>42</td>\n",
              "      <td>42</td>\n",
              "      <td>0</td>\n",
              "      <td>2017-01-31</td>\n",
              "      <td>2017-05-04</td>\n",
              "      <td>0</td>\n",
              "      <td>2017-03-31</td>\n",
              "      <td>8</td>\n",
              "      <td>4</td>\n",
              "      <td>0</td>\n",
              "      <td>1</td>\n",
              "      <td>21</td>\n",
              "      <td>18</td>\n",
              "      <td>6309.273</td>\n",
              "      <td>23</td>\n",
              "      <td>0</td>\n",
              "      <td>12</td>\n",
              "      <td>2013</td>\n",
              "      <td>31</td>\n",
              "      <td>1</td>\n",
              "      <td>1</td>\n",
              "      <td>2017</td>\n",
              "      <td>4</td>\n",
              "      <td>3</td>\n",
              "      <td>5</td>\n",
              "      <td>2017</td>\n",
              "      <td>31</td>\n",
              "      <td>4</td>\n",
              "      <td>3</td>\n",
              "      <td>2017</td>\n",
              "    </tr>\n",
              "    <tr>\n",
              "      <th>1</th>\n",
              "      <td>f/NmvEzHfhINFEYZTR05prUdr+E+3+oewvweYz9cCQE=</td>\n",
              "      <td>1</td>\n",
              "      <td>13.0</td>\n",
              "      <td>20.0</td>\n",
              "      <td>male</td>\n",
              "      <td>3.0</td>\n",
              "      <td>2013-12-23</td>\n",
              "      <td>41</td>\n",
              "      <td>30</td>\n",
              "      <td>-107</td>\n",
              "      <td>-107</td>\n",
              "      <td>1</td>\n",
              "      <td>2015-08-09</td>\n",
              "      <td>2019-04-12</td>\n",
              "      <td>0</td>\n",
              "      <td>2017-03-30</td>\n",
              "      <td>2</td>\n",
              "      <td>2</td>\n",
              "      <td>1</td>\n",
              "      <td>0</td>\n",
              "      <td>9</td>\n",
              "      <td>11</td>\n",
              "      <td>2390.699</td>\n",
              "      <td>23</td>\n",
              "      <td>0</td>\n",
              "      <td>12</td>\n",
              "      <td>2013</td>\n",
              "      <td>9</td>\n",
              "      <td>6</td>\n",
              "      <td>8</td>\n",
              "      <td>2015</td>\n",
              "      <td>12</td>\n",
              "      <td>4</td>\n",
              "      <td>4</td>\n",
              "      <td>2019</td>\n",
              "      <td>30</td>\n",
              "      <td>3</td>\n",
              "      <td>3</td>\n",
              "      <td>2017</td>\n",
              "    </tr>\n",
              "    <tr>\n",
              "      <th>2</th>\n",
              "      <td>zLo9f73nGGT1p21ltZC3ChiRnAVvgibMyazbCxvWPcg=</td>\n",
              "      <td>1</td>\n",
              "      <td>13.0</td>\n",
              "      <td>18.0</td>\n",
              "      <td>male</td>\n",
              "      <td>3.0</td>\n",
              "      <td>2013-12-27</td>\n",
              "      <td>36</td>\n",
              "      <td>30</td>\n",
              "      <td>-76</td>\n",
              "      <td>-76</td>\n",
              "      <td>1</td>\n",
              "      <td>2017-03-03</td>\n",
              "      <td>2017-04-22</td>\n",
              "      <td>0</td>\n",
              "      <td>2017-03-31</td>\n",
              "      <td>52</td>\n",
              "      <td>3</td>\n",
              "      <td>5</td>\n",
              "      <td>3</td>\n",
              "      <td>84</td>\n",
              "      <td>110</td>\n",
              "      <td>23203.337</td>\n",
              "      <td>27</td>\n",
              "      <td>4</td>\n",
              "      <td>12</td>\n",
              "      <td>2013</td>\n",
              "      <td>3</td>\n",
              "      <td>4</td>\n",
              "      <td>3</td>\n",
              "      <td>2017</td>\n",
              "      <td>22</td>\n",
              "      <td>5</td>\n",
              "      <td>4</td>\n",
              "      <td>2017</td>\n",
              "      <td>31</td>\n",
              "      <td>4</td>\n",
              "      <td>3</td>\n",
              "      <td>2017</td>\n",
              "    </tr>\n",
              "    <tr>\n",
              "      <th>3</th>\n",
              "      <td>8iF/+8HY8lJKFrTc7iR9ZYGCG2Ecrogbc2Vy5YhsfhQ=</td>\n",
              "      <td>1</td>\n",
              "      <td>1.0</td>\n",
              "      <td>0.0</td>\n",
              "      <td>NaN</td>\n",
              "      <td>7.0</td>\n",
              "      <td>2014-01-09</td>\n",
              "      <td>36</td>\n",
              "      <td>30</td>\n",
              "      <td>-76</td>\n",
              "      <td>-76</td>\n",
              "      <td>1</td>\n",
              "      <td>2017-03-29</td>\n",
              "      <td>2017-03-31</td>\n",
              "      <td>1</td>\n",
              "      <td>2017-03-31</td>\n",
              "      <td>176</td>\n",
              "      <td>4</td>\n",
              "      <td>2</td>\n",
              "      <td>2</td>\n",
              "      <td>19</td>\n",
              "      <td>191</td>\n",
              "      <td>7100.454</td>\n",
              "      <td>9</td>\n",
              "      <td>3</td>\n",
              "      <td>1</td>\n",
              "      <td>2014</td>\n",
              "      <td>29</td>\n",
              "      <td>2</td>\n",
              "      <td>3</td>\n",
              "      <td>2017</td>\n",
              "      <td>31</td>\n",
              "      <td>4</td>\n",
              "      <td>3</td>\n",
              "      <td>2017</td>\n",
              "      <td>31</td>\n",
              "      <td>4</td>\n",
              "      <td>3</td>\n",
              "      <td>2017</td>\n",
              "    </tr>\n",
              "    <tr>\n",
              "      <th>4</th>\n",
              "      <td>K6fja4+jmoZ5xG6BypqX80Uw/XKpMgrEMdG2edFOxnA=</td>\n",
              "      <td>1</td>\n",
              "      <td>13.0</td>\n",
              "      <td>35.0</td>\n",
              "      <td>female</td>\n",
              "      <td>7.0</td>\n",
              "      <td>2014-01-25</td>\n",
              "      <td>41</td>\n",
              "      <td>30</td>\n",
              "      <td>99</td>\n",
              "      <td>99</td>\n",
              "      <td>1</td>\n",
              "      <td>2017-03-23</td>\n",
              "      <td>2017-04-23</td>\n",
              "      <td>0</td>\n",
              "      <td>2017-03-31</td>\n",
              "      <td>2</td>\n",
              "      <td>1</td>\n",
              "      <td>0</td>\n",
              "      <td>1</td>\n",
              "      <td>112</td>\n",
              "      <td>93</td>\n",
              "      <td>28401.558</td>\n",
              "      <td>25</td>\n",
              "      <td>5</td>\n",
              "      <td>1</td>\n",
              "      <td>2014</td>\n",
              "      <td>23</td>\n",
              "      <td>3</td>\n",
              "      <td>3</td>\n",
              "      <td>2017</td>\n",
              "      <td>23</td>\n",
              "      <td>6</td>\n",
              "      <td>4</td>\n",
              "      <td>2017</td>\n",
              "      <td>31</td>\n",
              "      <td>4</td>\n",
              "      <td>3</td>\n",
              "      <td>2017</td>\n",
              "    </tr>\n",
              "  </tbody>\n",
              "</table>\n",
              "</div>"
            ],
            "text/plain": [
              "                                           msno  ...  user__year\n",
              "0  ugx0CjOMzazClkFzU2xasmDZaoIqOUAZPsH1q0teWCg=  ...        2017\n",
              "1  f/NmvEzHfhINFEYZTR05prUdr+E+3+oewvweYz9cCQE=  ...        2017\n",
              "2  zLo9f73nGGT1p21ltZC3ChiRnAVvgibMyazbCxvWPcg=  ...        2017\n",
              "3  8iF/+8HY8lJKFrTc7iR9ZYGCG2Ecrogbc2Vy5YhsfhQ=  ...        2017\n",
              "4  K6fja4+jmoZ5xG6BypqX80Uw/XKpMgrEMdG2edFOxnA=  ...        2017\n",
              "\n",
              "[5 rows x 39 columns]"
            ]
          },
          "metadata": {
            "tags": []
          },
          "execution_count": 17
        }
      ]
    },
    {
      "cell_type": "code",
      "metadata": {
        "colab": {
          "base_uri": "https://localhost:8080/"
        },
        "id": "7z3oK73yx_m7",
        "outputId": "2678d29c-d148-400e-c8d3-e942d45cbf49"
      },
      "source": [
        "train.columns"
      ],
      "execution_count": 18,
      "outputs": [
        {
          "output_type": "execute_result",
          "data": {
            "text/plain": [
              "Index(['msno', 'is_churn', 'city', 'bd', 'gender', 'registered_via',\n",
              "       'registration_init_time', 'payment_method_id', 'payment_plan_days',\n",
              "       'plan_list_price', 'actual_amount_paid', 'is_auto_renew',\n",
              "       'transaction_date', 'membership_expire_date', 'is_cancel', 'date',\n",
              "       'num_25', 'num_50', 'num_75', 'num_985', 'num_100', 'num_unq',\n",
              "       'total_secs', 'reg_day', 'reg_weekday', 'reg_month', 'reg_year',\n",
              "       'trans_day', 'trans_weekday', 'trans_month', 'trans_year',\n",
              "       'mem_exp_day', 'mem_exp_weekday', 'mem_exp_month', 'mem_exp_year',\n",
              "       'user__day', 'user__weekday', 'user__month', 'user__year'],\n",
              "      dtype='object')"
            ]
          },
          "metadata": {
            "tags": []
          },
          "execution_count": 18
        }
      ]
    },
    {
      "cell_type": "code",
      "metadata": {
        "colab": {
          "base_uri": "https://localhost:8080/"
        },
        "id": "ywJamqThyk4V",
        "outputId": "9d8b6a91-9423-4209-e411-2331f3ffbaae"
      },
      "source": [
        "train.isnull().sum()"
      ],
      "execution_count": 19,
      "outputs": [
        {
          "output_type": "execute_result",
          "data": {
            "text/plain": [
              "msno                           0\n",
              "is_churn                       0\n",
              "city                      109993\n",
              "bd                        109993\n",
              "gender                    582055\n",
              "registered_via            109993\n",
              "registration_init_time         0\n",
              "payment_method_id              0\n",
              "payment_plan_days              0\n",
              "plan_list_price                0\n",
              "actual_amount_paid             0\n",
              "is_auto_renew                  0\n",
              "transaction_date               0\n",
              "membership_expire_date         0\n",
              "is_cancel                      0\n",
              "date                           0\n",
              "num_25                         0\n",
              "num_50                         0\n",
              "num_75                         0\n",
              "num_985                        0\n",
              "num_100                        0\n",
              "num_unq                        0\n",
              "total_secs                     0\n",
              "reg_day                        0\n",
              "reg_weekday                    0\n",
              "reg_month                      0\n",
              "reg_year                       0\n",
              "trans_day                      0\n",
              "trans_weekday                  0\n",
              "trans_month                    0\n",
              "trans_year                     0\n",
              "mem_exp_day                    0\n",
              "mem_exp_weekday                0\n",
              "mem_exp_month                  0\n",
              "mem_exp_year                   0\n",
              "user__day                      0\n",
              "user__weekday                  0\n",
              "user__month                    0\n",
              "user__year                     0\n",
              "dtype: int64"
            ]
          },
          "metadata": {
            "tags": []
          },
          "execution_count": 19
        }
      ]
    },
    {
      "cell_type": "code",
      "metadata": {
        "colab": {
          "base_uri": "https://localhost:8080/"
        },
        "id": "pg5CDRtlynV_",
        "outputId": "6322c77e-d8b1-431f-f7ba-ede6a25862ff"
      },
      "source": [
        "train.info()"
      ],
      "execution_count": 20,
      "outputs": [
        {
          "output_type": "stream",
          "text": [
            "<class 'pandas.core.frame.DataFrame'>\n",
            "Int64Index: 970960 entries, 0 to 970959\n",
            "Data columns (total 39 columns):\n",
            " #   Column                  Non-Null Count   Dtype         \n",
            "---  ------                  --------------   -----         \n",
            " 0   msno                    970960 non-null  object        \n",
            " 1   is_churn                970960 non-null  int8          \n",
            " 2   city                    860967 non-null  float64       \n",
            " 3   bd                      860967 non-null  float64       \n",
            " 4   gender                  388905 non-null  object        \n",
            " 5   registered_via          860967 non-null  float64       \n",
            " 6   registration_init_time  970960 non-null  datetime64[ns]\n",
            " 7   payment_method_id       970960 non-null  int8          \n",
            " 8   payment_plan_days       970960 non-null  int8          \n",
            " 9   plan_list_price         970960 non-null  int8          \n",
            " 10  actual_amount_paid      970960 non-null  int8          \n",
            " 11  is_auto_renew           970960 non-null  int8          \n",
            " 12  transaction_date        970960 non-null  datetime64[ns]\n",
            " 13  membership_expire_date  970960 non-null  datetime64[ns]\n",
            " 14  is_cancel               970960 non-null  int8          \n",
            " 15  date                    970960 non-null  datetime64[ns]\n",
            " 16  num_25                  970960 non-null  int16         \n",
            " 17  num_50                  970960 non-null  int16         \n",
            " 18  num_75                  970960 non-null  int16         \n",
            " 19  num_985                 970960 non-null  int16         \n",
            " 20  num_100                 970960 non-null  int16         \n",
            " 21  num_unq                 970960 non-null  int16         \n",
            " 22  total_secs              970960 non-null  float64       \n",
            " 23  reg_day                 970960 non-null  uint8         \n",
            " 24  reg_weekday             970960 non-null  uint8         \n",
            " 25  reg_month               970960 non-null  uint8         \n",
            " 26  reg_year                970960 non-null  uint16        \n",
            " 27  trans_day               970960 non-null  uint8         \n",
            " 28  trans_weekday           970960 non-null  uint8         \n",
            " 29  trans_month             970960 non-null  uint8         \n",
            " 30  trans_year              970960 non-null  uint16        \n",
            " 31  mem_exp_day             970960 non-null  uint8         \n",
            " 32  mem_exp_weekday         970960 non-null  uint8         \n",
            " 33  mem_exp_month           970960 non-null  uint8         \n",
            " 34  mem_exp_year            970960 non-null  uint16        \n",
            " 35  user__day               970960 non-null  uint8         \n",
            " 36  user__weekday           970960 non-null  uint8         \n",
            " 37  user__month             970960 non-null  uint8         \n",
            " 38  user__year              970960 non-null  uint16        \n",
            "dtypes: datetime64[ns](4), float64(4), int16(6), int8(7), object(2), uint16(4), uint8(12)\n",
            "memory usage: 157.6+ MB\n"
          ],
          "name": "stdout"
        }
      ]
    },
    {
      "cell_type": "code",
      "metadata": {
        "id": "MuDgC-JWyql0"
      },
      "source": [
        "col = [ 'city', 'bd', 'gender', 'registered_via']\n",
        "def missing(df,columns):\n",
        "    col = columns\n",
        "    for i in col:\n",
        "        df[i].fillna(df[i].mode()[0],inplace=True)\n",
        "\n",
        "missing(train,col)"
      ],
      "execution_count": 22,
      "outputs": []
    },
    {
      "cell_type": "code",
      "metadata": {
        "colab": {
          "base_uri": "https://localhost:8080/"
        },
        "id": "bDKtBkeUyuum",
        "outputId": "c179a3ba-69df-4d4e-830d-9c4592ef99ac"
      },
      "source": [
        "def unique_value(df):\n",
        "    col = df.columns\n",
        "    for i in col:\n",
        "        print('Number of unique value in {} is {}'.format(i,df[i].nunique()))\n",
        "\n",
        "unique_value(train)"
      ],
      "execution_count": 23,
      "outputs": [
        {
          "output_type": "stream",
          "text": [
            "Number of unique value in msno is 970960\n",
            "Number of unique value in is_churn is 2\n",
            "Number of unique value in city is 21\n",
            "Number of unique value in bd is 186\n",
            "Number of unique value in gender is 2\n",
            "Number of unique value in registered_via is 5\n",
            "Number of unique value in registration_init_time is 4749\n",
            "Number of unique value in payment_method_id is 37\n",
            "Number of unique value in payment_plan_days is 30\n",
            "Number of unique value in plan_list_price is 44\n",
            "Number of unique value in actual_amount_paid is 47\n",
            "Number of unique value in is_auto_renew is 2\n",
            "Number of unique value in transaction_date is 820\n",
            "Number of unique value in membership_expire_date is 1818\n",
            "Number of unique value in is_cancel is 2\n",
            "Number of unique value in date is 31\n",
            "Number of unique value in num_25 is 361\n",
            "Number of unique value in num_50 is 179\n",
            "Number of unique value in num_75 is 94\n",
            "Number of unique value in num_985 is 218\n",
            "Number of unique value in num_100 is 586\n",
            "Number of unique value in num_unq is 430\n",
            "Number of unique value in total_secs is 898923\n",
            "Number of unique value in reg_day is 31\n",
            "Number of unique value in reg_weekday is 7\n",
            "Number of unique value in reg_month is 12\n",
            "Number of unique value in reg_year is 14\n",
            "Number of unique value in trans_day is 31\n",
            "Number of unique value in trans_weekday is 7\n",
            "Number of unique value in trans_month is 12\n",
            "Number of unique value in trans_year is 3\n",
            "Number of unique value in mem_exp_day is 31\n",
            "Number of unique value in mem_exp_weekday is 7\n",
            "Number of unique value in mem_exp_month is 12\n",
            "Number of unique value in mem_exp_year is 19\n",
            "Number of unique value in user__day is 31\n",
            "Number of unique value in user__weekday is 7\n",
            "Number of unique value in user__month is 1\n",
            "Number of unique value in user__year is 1\n"
          ],
          "name": "stdout"
        }
      ]
    },
    {
      "cell_type": "code",
      "metadata": {
        "colab": {
          "base_uri": "https://localhost:8080/",
          "height": 459
        },
        "id": "ebIsznSfyzhz",
        "outputId": "8d3a657c-a36f-4587-8e0a-8f440fa4ed5e"
      },
      "source": [
        "plt.figure(figsize=(8,6))\n",
        "sns.set_style('ticks')\n",
        "sns.countplot(train['is_churn'],palette='summer')\n",
        "plt.xlabel('The subscription within 30 days of expiration')"
      ],
      "execution_count": 24,
      "outputs": [
        {
          "output_type": "stream",
          "text": [
            "/usr/local/lib/python3.7/dist-packages/seaborn/_decorators.py:43: FutureWarning: Pass the following variable as a keyword arg: x. From version 0.12, the only valid positional argument will be `data`, and passing other arguments without an explicit keyword will result in an error or misinterpretation.\n",
            "  FutureWarning\n"
          ],
          "name": "stderr"
        },
        {
          "output_type": "execute_result",
          "data": {
            "text/plain": [
              "Text(0.5, 0, 'The subscription within 30 days of expiration')"
            ]
          },
          "metadata": {
            "tags": []
          },
          "execution_count": 24
        },
        {
          "output_type": "display_data",
          "data": {
            "image/png": "[encoded data removed]",
            "text/plain": [
              "<Figure size 576x432 with 1 Axes>"
            ]
          },
          "metadata": {
            "tags": [],
            "needs_background": "light"
          }
        }
      ]
    },
    {
      "cell_type": "code",
      "metadata": {
        "colab": {
          "base_uri": "https://localhost:8080/",
          "height": 607
        },
        "id": "L6K6Exw0zGSr",
        "outputId": "b90f9ce2-9d04-4191-868b-47da68f3907f"
      },
      "source": [
        "print(train['city'].unique())\n",
        "fig,ax = plt.subplots(2,2,figsize=(16,8))\n",
        "ax1,ax2,ax3,ax4 = ax.flatten()\n",
        "\n",
        "\n",
        "sns.set(style=\"ticks\")\n",
        "sns.countplot(train['city'],palette='summer',ax=ax1)\n",
        "\n",
        "\n",
        "ax1.set_xlabel('City')\n",
        "\n",
        "\n",
        "sns.countplot(x='gender',data = train,palette='winter',ax=ax2)\n",
        "ax2.set_xlabel('Gender')\n",
        "\n",
        "sns.countplot(x='registered_via',data=train,palette='winter',ax=ax3)\n",
        "ax3.set_xlabel('Register via')\n",
        "\n",
        "sns.countplot(x='payment_method_id',data= train,palette='winter',ax=ax4)\n",
        "ax4.set_xlabel('Payment_method_id')"
      ],
      "execution_count": 26,
      "outputs": [
        {
          "output_type": "stream",
          "text": [
            "[ 5. 13.  1. 22.  9. 12.  6. 14.  4. 15. 18.  3. 21.  8.  7. 17. 11. 10.\n",
            " 20. 16. 19.]\n"
          ],
          "name": "stdout"
        },
        {
          "output_type": "stream",
          "text": [
            "/usr/local/lib/python3.7/dist-packages/seaborn/_decorators.py:43: FutureWarning: Pass the following variable as a keyword arg: x. From version 0.12, the only valid positional argument will be `data`, and passing other arguments without an explicit keyword will result in an error or misinterpretation.\n",
            "  FutureWarning\n"
          ],
          "name": "stderr"
        },
        {
          "output_type": "execute_result",
          "data": {
            "text/plain": [
              "Text(0.5, 0, 'Payment_method_id')"
            ]
          },
          "metadata": {
            "tags": []
          },
          "execution_count": 26
        },
        {
          "output_type": "display_data",
          "data": {
            "image/png": "[encoded data removed]",
            "text/plain": [
              "<Figure size 1152x576 with 4 Axes>"
            ]
          },
          "metadata": {
            "tags": []
          }
        }
      ]
    },
    {
      "cell_type": "code",
      "metadata": {
        "colab": {
          "base_uri": "https://localhost:8080/"
        },
        "id": "RVBbV4D_zoRP",
        "outputId": "f55571e0-2800-40dd-9bae-dce4a6ecc937"
      },
      "source": [
        "print(train['bd'].describe())"
      ],
      "execution_count": 27,
      "outputs": [
        {
          "output_type": "stream",
          "text": [
            "count    970960.000000\n",
            "mean         11.941948\n",
            "std          15.811148\n",
            "min        -128.000000\n",
            "25%           0.000000\n",
            "50%           0.000000\n",
            "75%          26.000000\n",
            "max         126.000000\n",
            "Name: bd, dtype: float64\n"
          ],
          "name": "stdout"
        }
      ]
    },
    {
      "cell_type": "code",
      "metadata": {
        "colab": {
          "base_uri": "https://localhost:8080/",
          "height": 589
        },
        "id": "zvv18Lmrz3Ob",
        "outputId": "88935f8a-b232-4b72-c4d8-9839051a317e"
      },
      "source": [
        "fig,ax = plt.subplots(1,1,figsize=(16,8))\n",
        "sns.set_style('ticks')\n",
        "sns.distplot(train['bd'].fillna(train['bd'].mode()[0]),bins=100,color='r',ax=ax)\n",
        "ax.set_title('Distribution of birth day')"
      ],
      "execution_count": 39,
      "outputs": [
        {
          "output_type": "stream",
          "text": [
            "/usr/local/lib/python3.7/dist-packages/seaborn/distributions.py:2557: FutureWarning: `distplot` is a deprecated function and will be removed in a future version. Please adapt your code to use either `displot` (a figure-level function with similar flexibility) or `histplot` (an axes-level function for histograms).\n",
            "  warnings.warn(msg, FutureWarning)\n"
          ],
          "name": "stderr"
        },
        {
          "output_type": "execute_result",
          "data": {
            "text/plain": [
              "Text(0.5, 1.0, 'Distribution of birth day')"
            ]
          },
          "metadata": {
            "tags": []
          },
          "execution_count": 39
        },
        {
          "output_type": "display_data",
          "data": {
            "image/png": "[encoded data removed]",
            "text/plain": [
              "<Figure size 1152x576 with 1 Axes>"
            ]
          },
          "metadata": {
            "tags": []
          }
        }
      ]
    },
    {
      "cell_type": "code",
      "metadata": {
        "colab": {
          "base_uri": "https://localhost:8080/"
        },
        "id": "dPlfq96cz5pX",
        "outputId": "3c0cdaa3-de15-4f5c-e738-fa00f6c7b399"
      },
      "source": [
        "print(pd.crosstab(train['is_churn'],train['gender']))"
      ],
      "execution_count": 40,
      "outputs": [
        {
          "output_type": "stream",
          "text": [
            "gender    female    male\n",
            "is_churn                \n",
            "0         160404  723226\n",
            "1          23940   63390\n"
          ],
          "name": "stdout"
        }
      ]
    },
    {
      "cell_type": "code",
      "metadata": {
        "colab": {
          "base_uri": "https://localhost:8080/",
          "height": 784
        },
        "id": "JX9nVh5T1-vA",
        "outputId": "0308ceb2-f4d4-4333-8e8e-3bb3d98ca446"
      },
      "source": [
        "cor = train.corr()\n",
        "plt.figure(figsize=(16,12))\n",
        "sns.heatmap(cor,cmap='Set1',annot=False)\n",
        "plt.xticks(rotation=45);"
      ],
      "execution_count": 41,
      "outputs": [
        {
          "output_type": "display_data",
          "data": {
            "image/png": "[encoded data removed]",
            "text/plain": [
              "<Figure size 1152x864 with 2 Axes>"
            ]
          },
          "metadata": {
            "tags": []
          }
        }
      ]
    },
    {
      "cell_type": "code",
      "metadata": {
        "id": "PCgxrgMM3Lvt"
      },
      "source": [
        "le = LabelEncoder()\n",
        "train['gender'] = le.fit_transform(train['gender'])"
      ],
      "execution_count": 44,
      "outputs": []
    },
    {
      "cell_type": "code",
      "metadata": {
        "colab": {
          "base_uri": "https://localhost:8080/"
        },
        "id": "oJn-YtHG3N4M",
        "outputId": "5e229809-9008-499e-b32c-064dd97015d9"
      },
      "source": [
        "def OHE(df):\n",
        "    #col = df.select_dtypes(include=['category']).columns\n",
        "    col = ['city','gender','registered_via']\n",
        "    print('Categorical columns in dataset',col)\n",
        "    \n",
        "    c2,c3 = [],{}\n",
        "    for c in col:\n",
        "        if df[c].nunique()>2 :\n",
        "            c2.append(c)\n",
        "            c3[c] = 'ohe_'+c\n",
        "    \n",
        "    df = pd.get_dummies(df,columns=c2,drop_first=True,prefix=c3)\n",
        "    print(df.shape)\n",
        "    return df\n",
        "train1 = OHE(train)"
      ],
      "execution_count": 45,
      "outputs": [
        {
          "output_type": "stream",
          "text": [
            "Categorical columns in dataset ['city', 'gender', 'registered_via']\n",
            "(970960, 61)\n"
          ],
          "name": "stdout"
        }
      ]
    },
    {
      "cell_type": "code",
      "metadata": {
        "colab": {
          "base_uri": "https://localhost:8080/"
        },
        "id": "IeFmv9no3Qbk",
        "outputId": "2d221475-599d-4144-aaf7-91097dbf7428"
      },
      "source": [
        "train1.columns"
      ],
      "execution_count": 46,
      "outputs": [
        {
          "output_type": "execute_result",
          "data": {
            "text/plain": [
              "Index(['msno', 'is_churn', 'bd', 'gender', 'registration_init_time',\n",
              "       'payment_method_id', 'payment_plan_days', 'plan_list_price',\n",
              "       'actual_amount_paid', 'is_auto_renew', 'transaction_date',\n",
              "       'membership_expire_date', 'is_cancel', 'date', 'num_25', 'num_50',\n",
              "       'num_75', 'num_985', 'num_100', 'num_unq', 'total_secs', 'reg_day',\n",
              "       'reg_weekday', 'reg_month', 'reg_year', 'trans_day', 'trans_weekday',\n",
              "       'trans_month', 'trans_year', 'mem_exp_day', 'mem_exp_weekday',\n",
              "       'mem_exp_month', 'mem_exp_year', 'user__day', 'user__weekday',\n",
              "       'user__month', 'user__year', 'ohe_city_3.0', 'ohe_city_4.0',\n",
              "       'ohe_city_5.0', 'ohe_city_6.0', 'ohe_city_7.0', 'ohe_city_8.0',\n",
              "       'ohe_city_9.0', 'ohe_city_10.0', 'ohe_city_11.0', 'ohe_city_12.0',\n",
              "       'ohe_city_13.0', 'ohe_city_14.0', 'ohe_city_15.0', 'ohe_city_16.0',\n",
              "       'ohe_city_17.0', 'ohe_city_18.0', 'ohe_city_19.0', 'ohe_city_20.0',\n",
              "       'ohe_city_21.0', 'ohe_city_22.0', 'ohe_registered_via_4.0',\n",
              "       'ohe_registered_via_7.0', 'ohe_registered_via_9.0',\n",
              "       'ohe_registered_via_13.0'],\n",
              "      dtype='object')"
            ]
          },
          "metadata": {
            "tags": []
          },
          "execution_count": 46
        }
      ]
    },
    {
      "cell_type": "code",
      "metadata": {
        "id": "FS4LDEDM3XkN"
      },
      "source": [
        "unwanted = ['msno','is_churn','registration_init_time','transaction_date','membership_expire_date','date']\n",
        "\n",
        "X = train1.drop(unwanted,axis=1)\n",
        "y = train1['is_churn'].astype('category')"
      ],
      "execution_count": 47,
      "outputs": []
    },
    {
      "cell_type": "code",
      "metadata": {
        "id": "bc5oSPfD3a2j"
      },
      "source": [
        "from sklearn.model_selection import train_test_split\n",
        "X_train, X_test, y_train, y_test = train_test_split(X,y,test_size=0.3, random_state = 10)"
      ],
      "execution_count": 50,
      "outputs": []
    },
    {
      "cell_type": "code",
      "metadata": {
        "colab": {
          "base_uri": "https://localhost:8080/"
        },
        "id": "qjfAOOmd3tiA",
        "outputId": "8aee13d5-6ab5-47ea-84c5-ed72d5239902"
      },
      "source": [
        "lr = LogisticRegression(class_weight='balanced',C=1)\n",
        "lr.fit(X_train,y_train)\n",
        "y_pred = lr.predict_proba( X_test)[:,1]\n",
        "lr.score(X,y)"
      ],
      "execution_count": 51,
      "outputs": [
        {
          "output_type": "stream",
          "text": [
            "/usr/local/lib/python3.7/dist-packages/sklearn/linear_model/_logistic.py:940: ConvergenceWarning: lbfgs failed to converge (status=1):\n",
            "STOP: TOTAL NO. of ITERATIONS REACHED LIMIT.\n",
            "\n",
            "Increase the number of iterations (max_iter) or scale the data as shown in:\n",
            "    https://scikit-learn.org/stable/modules/preprocessing.html\n",
            "Please also refer to the documentation for alternative solver options:\n",
            "    https://scikit-learn.org/stable/modules/linear_model.html#logistic-regression\n",
            "  extra_warning_msg=_LOGISTIC_SOLVER_CONVERGENCE_MSG)\n"
          ],
          "name": "stderr"
        },
        {
          "output_type": "execute_result",
          "data": {
            "text/plain": [
              "0.626995962758507"
            ]
          },
          "metadata": {
            "tags": []
          },
          "execution_count": 51
        }
      ]
    },
    {
      "cell_type": "code",
      "metadata": {
        "colab": {
          "base_uri": "https://localhost:8080/",
          "height": 427
        },
        "id": "1yeV686_4OwG",
        "outputId": "85b0d27f-973a-49c2-8f37-332eeafcfe17"
      },
      "source": [
        "y_proba = lr.predict_proba(X)[:,1]\n",
        "fpr,tpr,th = roc_curve(y,y_proba)\n",
        "\n",
        "plt.figure(figsize=(14,6))\n",
        "plt.plot(fpr,tpr,color='r')\n",
        "plt.plot([0,1],[0,1],color='b')\n",
        "plt.title('Reciever operating Charactaristics')\n",
        "plt.xlabel('False positive rate')\n",
        "plt.ylabel('True positive rate')"
      ],
      "execution_count": 52,
      "outputs": [
        {
          "output_type": "execute_result",
          "data": {
            "text/plain": [
              "Text(0, 0.5, 'True positive rate')"
            ]
          },
          "metadata": {
            "tags": []
          },
          "execution_count": 52
        },
        {
          "output_type": "display_data",
          "data": {
            "image/png": "[encoded data removed]",
            "text/plain": [
              "<Figure size 1008x432 with 1 Axes>"
            ]
          },
          "metadata": {
            "tags": []
          }
        }
      ]
    },
    {
      "cell_type": "code",
      "metadata": {
        "id": "eR6ETI8a4c4x"
      },
      "source": [
        ""
      ],
      "execution_count": null,
      "outputs": []
    }
  ]
}