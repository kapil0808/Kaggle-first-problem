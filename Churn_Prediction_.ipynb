{
  "nbformat": 4,
  "nbformat_minor": 0,
  "metadata": {
    "colab": {
      "name": "Churn Prediction .ipynb",
      "provenance": [],
      "collapsed_sections": [],
      "mount_file_id": "12Za5k-BeecGKWEqIBo7R8STjyff13R1i",
      "authorship_tag": "ABX9TyOBmi9tGudPGZ7F6hq4sRaG",
      "include_colab_link": true
    },
    "kernelspec": {
      "name": "python3",
      "display_name": "Python 3"
    },
    "language_info": {
      "name": "python"
    }
  },
  "cells": [
    {
      "cell_type": "markdown",
      "metadata": {
        "id": "view-in-github",
        "colab_type": "text"
      },
      "source": [
        "<a href=\"https://colab.research.google.com/github/kapil0808/Kaggle-first-problem/blob/main/Churn_Prediction_.ipynb\" target=\"_parent\"><img src=\"https://colab.research.google.com/assets/colab-badge.svg\" alt=\"Open In Colab\"/></a>"
      ]
    },
    {
      "cell_type": "code",
      "metadata": {
        "id": "NLbWueQWTYKo"
      },
      "source": [
        "import pandas as pd\n",
        "import numpy as np\n",
        "import seaborn as sns\n",
        "import matplotlib.pyplot as plt\n",
        "\n",
        "from sklearn.linear_model import LogisticRegression\n",
        "from sklearn.model_selection import StratifiedKFold,RandomizedSearchCV\n",
        "from sklearn.metrics import roc_auc_score,confusion_matrix,roc_curve\n",
        "from sklearn.preprocessing import LabelEncoder\n",
        "from sklearn.feature_extraction.text import TfidfVectorizer\n",
        "\n",
        "import datetime as dt\n",
        "\n",
        "% matplotlib inline"
      ],
      "execution_count": 78,
      "outputs": []
    },
    {
      "cell_type": "code",
      "metadata": {
        "id": "HmFgdyCykjg2"
      },
      "source": [
        "train = pd.read_csv('/content/drive/MyDrive/Colab Notebooks/Churn Prediction/train_v2.csv',dtype={'is_churn':np.int8})\n",
        "members = pd.read_csv('/content/drive/MyDrive/Colab Notebooks/Churn Prediction/members_v3.csv',parse_dates=['registration_init_time'],dtype={'city':np.int8,'bd':np.int8,\n",
        "                                                                                         'registered_via':np.int8})\n",
        "transactions = pd.read_csv('/content/drive/MyDrive/Colab Notebooks/Churn Prediction/transactions_v2.csv',parse_dates=['transaction_date','membership_expire_date'],\n",
        "                          dtype={'payment_method_id':np.int8,'payment_plan_days':np.int8,'plan_list_price':np.int8,\n",
        "                                'actual_amount_paid':np.int8,'is_auto_renew':np.int8,'is_cancel':np.int8})\n",
        "\n",
        "user_log = pd.read_csv('/content/drive/MyDrive/Colab Notebooks/Churn Prediction/user_logs_v2.csv',parse_dates=['date'],dtype={'num_25':np.int16,'num_50':np.int16,\n",
        "                                    'num_75':np.int16,'num_985':np.int16,'num_100':np.int16,'num_unq':np.int16})"
      ],
      "execution_count": 79,
      "outputs": []
    },
    {
      "cell_type": "code",
      "metadata": {
        "colab": {
          "base_uri": "https://localhost:8080/",
          "height": 159
        },
        "id": "6nUwzYoelkXD",
        "outputId": "b23214e3-f72e-490f-b3d0-736cfe7225aa"
      },
      "source": [
        "print('Number of rows  & columns',train.shape)\n",
        "train.head(3)"
      ],
      "execution_count": 80,
      "outputs": [
        {
          "output_type": "stream",
          "text": [
            "Number of rows  & columns (970960, 2)\n"
          ],
          "name": "stdout"
        },
        {
          "output_type": "execute_result",
          "data": {
            "text/html": [
              "<div>\n",
              "<style scoped>\n",
              "    .dataframe tbody tr th:only-of-type {\n",
              "        vertical-align: middle;\n",
              "    }\n",
              "\n",
              "    .dataframe tbody tr th {\n",
              "        vertical-align: top;\n",
              "    }\n",
              "\n",
              "    .dataframe thead th {\n",
              "        text-align: right;\n",
              "    }\n",
              "</style>\n",
              "<table border=\"1\" class=\"dataframe\">\n",
              "  <thead>\n",
              "    <tr style=\"text-align: right;\">\n",
              "      <th></th>\n",
              "      <th>msno</th>\n",
              "      <th>is_churn</th>\n",
              "    </tr>\n",
              "  </thead>\n",
              "  <tbody>\n",
              "    <tr>\n",
              "      <th>0</th>\n",
              "      <td>ugx0CjOMzazClkFzU2xasmDZaoIqOUAZPsH1q0teWCg=</td>\n",
              "      <td>1</td>\n",
              "    </tr>\n",
              "    <tr>\n",
              "      <th>1</th>\n",
              "      <td>f/NmvEzHfhINFEYZTR05prUdr+E+3+oewvweYz9cCQE=</td>\n",
              "      <td>1</td>\n",
              "    </tr>\n",
              "    <tr>\n",
              "      <th>2</th>\n",
              "      <td>zLo9f73nGGT1p21ltZC3ChiRnAVvgibMyazbCxvWPcg=</td>\n",
              "      <td>1</td>\n",
              "    </tr>\n",
              "  </tbody>\n",
              "</table>\n",
              "</div>"
            ],
            "text/plain": [
              "                                           msno  is_churn\n",
              "0  ugx0CjOMzazClkFzU2xasmDZaoIqOUAZPsH1q0teWCg=         1\n",
              "1  f/NmvEzHfhINFEYZTR05prUdr+E+3+oewvweYz9cCQE=         1\n",
              "2  zLo9f73nGGT1p21ltZC3ChiRnAVvgibMyazbCxvWPcg=         1"
            ]
          },
          "metadata": {},
          "execution_count": 80
        }
      ]
    },
    {
      "cell_type": "code",
      "metadata": {
        "colab": {
          "base_uri": "https://localhost:8080/",
          "height": 159
        },
        "id": "pNRG8rqLmA_G",
        "outputId": "7d3bfde9-aa96-4490-9648-ab1390573d88"
      },
      "source": [
        "print('Number of rows  & columns',members.shape)\n",
        "members.head(3)"
      ],
      "execution_count": 81,
      "outputs": [
        {
          "output_type": "stream",
          "text": [
            "Number of rows  & columns (6769473, 6)\n"
          ],
          "name": "stdout"
        },
        {
          "output_type": "execute_result",
          "data": {
            "text/html": [
              "<div>\n",
              "<style scoped>\n",
              "    .dataframe tbody tr th:only-of-type {\n",
              "        vertical-align: middle;\n",
              "    }\n",
              "\n",
              "    .dataframe tbody tr th {\n",
              "        vertical-align: top;\n",
              "    }\n",
              "\n",
              "    .dataframe thead th {\n",
              "        text-align: right;\n",
              "    }\n",
              "</style>\n",
              "<table border=\"1\" class=\"dataframe\">\n",
              "  <thead>\n",
              "    <tr style=\"text-align: right;\">\n",
              "      <th></th>\n",
              "      <th>msno</th>\n",
              "      <th>city</th>\n",
              "      <th>bd</th>\n",
              "      <th>gender</th>\n",
              "      <th>registered_via</th>\n",
              "      <th>registration_init_time</th>\n",
              "    </tr>\n",
              "  </thead>\n",
              "  <tbody>\n",
              "    <tr>\n",
              "      <th>0</th>\n",
              "      <td>Rb9UwLQTrxzBVwCB6+bCcSQWZ9JiNLC9dXtM1oEsZA8=</td>\n",
              "      <td>1</td>\n",
              "      <td>0</td>\n",
              "      <td>NaN</td>\n",
              "      <td>11</td>\n",
              "      <td>2011-09-11</td>\n",
              "    </tr>\n",
              "    <tr>\n",
              "      <th>1</th>\n",
              "      <td>+tJonkh+O1CA796Fm5X60UMOtB6POHAwPjbTRVl/EuU=</td>\n",
              "      <td>1</td>\n",
              "      <td>0</td>\n",
              "      <td>NaN</td>\n",
              "      <td>7</td>\n",
              "      <td>2011-09-14</td>\n",
              "    </tr>\n",
              "    <tr>\n",
              "      <th>2</th>\n",
              "      <td>cV358ssn7a0f7jZOwGNWS07wCKVqxyiImJUX6xcIwKw=</td>\n",
              "      <td>1</td>\n",
              "      <td>0</td>\n",
              "      <td>NaN</td>\n",
              "      <td>11</td>\n",
              "      <td>2011-09-15</td>\n",
              "    </tr>\n",
              "  </tbody>\n",
              "</table>\n",
              "</div>"
            ],
            "text/plain": [
              "                                           msno  ...  registration_init_time\n",
              "0  Rb9UwLQTrxzBVwCB6+bCcSQWZ9JiNLC9dXtM1oEsZA8=  ...              2011-09-11\n",
              "1  +tJonkh+O1CA796Fm5X60UMOtB6POHAwPjbTRVl/EuU=  ...              2011-09-14\n",
              "2  cV358ssn7a0f7jZOwGNWS07wCKVqxyiImJUX6xcIwKw=  ...              2011-09-15\n",
              "\n",
              "[3 rows x 6 columns]"
            ]
          },
          "metadata": {},
          "execution_count": 81
        }
      ]
    },
    {
      "cell_type": "code",
      "metadata": {
        "colab": {
          "base_uri": "https://localhost:8080/",
          "height": 179
        },
        "id": "xYNJhWR0mIBY",
        "outputId": "b8e1e29a-7b12-41b1-f4df-5fc779382008"
      },
      "source": [
        "print('Number of rows & columns',transactions.shape)\n",
        "transactions.head(3)"
      ],
      "execution_count": 82,
      "outputs": [
        {
          "output_type": "stream",
          "text": [
            "Number of rows & columns (1431009, 9)\n"
          ],
          "name": "stdout"
        },
        {
          "output_type": "execute_result",
          "data": {
            "text/html": [
              "<div>\n",
              "<style scoped>\n",
              "    .dataframe tbody tr th:only-of-type {\n",
              "        vertical-align: middle;\n",
              "    }\n",
              "\n",
              "    .dataframe tbody tr th {\n",
              "        vertical-align: top;\n",
              "    }\n",
              "\n",
              "    .dataframe thead th {\n",
              "        text-align: right;\n",
              "    }\n",
              "</style>\n",
              "<table border=\"1\" class=\"dataframe\">\n",
              "  <thead>\n",
              "    <tr style=\"text-align: right;\">\n",
              "      <th></th>\n",
              "      <th>msno</th>\n",
              "      <th>payment_method_id</th>\n",
              "      <th>payment_plan_days</th>\n",
              "      <th>plan_list_price</th>\n",
              "      <th>actual_amount_paid</th>\n",
              "      <th>is_auto_renew</th>\n",
              "      <th>transaction_date</th>\n",
              "      <th>membership_expire_date</th>\n",
              "      <th>is_cancel</th>\n",
              "    </tr>\n",
              "  </thead>\n",
              "  <tbody>\n",
              "    <tr>\n",
              "      <th>0</th>\n",
              "      <td>++6eU4LsQ3UQ20ILS7d99XK8WbiVgbyYL4FUgzZR134=</td>\n",
              "      <td>32</td>\n",
              "      <td>90</td>\n",
              "      <td>42</td>\n",
              "      <td>42</td>\n",
              "      <td>0</td>\n",
              "      <td>2017-01-31</td>\n",
              "      <td>2017-05-04</td>\n",
              "      <td>0</td>\n",
              "    </tr>\n",
              "    <tr>\n",
              "      <th>1</th>\n",
              "      <td>++lvGPJOinuin/8esghpnqdljm6NXS8m8Zwchc7gOeA=</td>\n",
              "      <td>41</td>\n",
              "      <td>30</td>\n",
              "      <td>-107</td>\n",
              "      <td>-107</td>\n",
              "      <td>1</td>\n",
              "      <td>2015-08-09</td>\n",
              "      <td>2019-04-12</td>\n",
              "      <td>0</td>\n",
              "    </tr>\n",
              "    <tr>\n",
              "      <th>2</th>\n",
              "      <td>+/GXNtXWQVfKrEDqYAzcSw2xSPYMKWNj22m+5XkVQZc=</td>\n",
              "      <td>36</td>\n",
              "      <td>30</td>\n",
              "      <td>-76</td>\n",
              "      <td>-76</td>\n",
              "      <td>1</td>\n",
              "      <td>2017-03-03</td>\n",
              "      <td>2017-04-22</td>\n",
              "      <td>0</td>\n",
              "    </tr>\n",
              "  </tbody>\n",
              "</table>\n",
              "</div>"
            ],
            "text/plain": [
              "                                           msno  ...  is_cancel\n",
              "0  ++6eU4LsQ3UQ20ILS7d99XK8WbiVgbyYL4FUgzZR134=  ...          0\n",
              "1  ++lvGPJOinuin/8esghpnqdljm6NXS8m8Zwchc7gOeA=  ...          0\n",
              "2  +/GXNtXWQVfKrEDqYAzcSw2xSPYMKWNj22m+5XkVQZc=  ...          0\n",
              "\n",
              "[3 rows x 9 columns]"
            ]
          },
          "metadata": {},
          "execution_count": 82
        }
      ]
    },
    {
      "cell_type": "code",
      "metadata": {
        "colab": {
          "base_uri": "https://localhost:8080/",
          "height": 159
        },
        "id": "a3Tu-9rPmNaV",
        "outputId": "eab53066-8497-42dc-df82-8a2bb0316f89"
      },
      "source": [
        "print('Number of rows & columns',user_log.shape)\n",
        "user_log.head(3)"
      ],
      "execution_count": 83,
      "outputs": [
        {
          "output_type": "stream",
          "text": [
            "Number of rows & columns (18396362, 9)\n"
          ],
          "name": "stdout"
        },
        {
          "output_type": "execute_result",
          "data": {
            "text/html": [
              "<div>\n",
              "<style scoped>\n",
              "    .dataframe tbody tr th:only-of-type {\n",
              "        vertical-align: middle;\n",
              "    }\n",
              "\n",
              "    .dataframe tbody tr th {\n",
              "        vertical-align: top;\n",
              "    }\n",
              "\n",
              "    .dataframe thead th {\n",
              "        text-align: right;\n",
              "    }\n",
              "</style>\n",
              "<table border=\"1\" class=\"dataframe\">\n",
              "  <thead>\n",
              "    <tr style=\"text-align: right;\">\n",
              "      <th></th>\n",
              "      <th>msno</th>\n",
              "      <th>date</th>\n",
              "      <th>num_25</th>\n",
              "      <th>num_50</th>\n",
              "      <th>num_75</th>\n",
              "      <th>num_985</th>\n",
              "      <th>num_100</th>\n",
              "      <th>num_unq</th>\n",
              "      <th>total_secs</th>\n",
              "    </tr>\n",
              "  </thead>\n",
              "  <tbody>\n",
              "    <tr>\n",
              "      <th>0</th>\n",
              "      <td>u9E91QDTvHLq6NXjEaWv8u4QIqhrHk72kE+w31Gnhdg=</td>\n",
              "      <td>2017-03-31</td>\n",
              "      <td>8</td>\n",
              "      <td>4</td>\n",
              "      <td>0</td>\n",
              "      <td>1</td>\n",
              "      <td>21</td>\n",
              "      <td>18</td>\n",
              "      <td>6309.273</td>\n",
              "    </tr>\n",
              "    <tr>\n",
              "      <th>1</th>\n",
              "      <td>nTeWW/eOZA/UHKdD5L7DEqKKFTjaAj3ALLPoAWsU8n0=</td>\n",
              "      <td>2017-03-30</td>\n",
              "      <td>2</td>\n",
              "      <td>2</td>\n",
              "      <td>1</td>\n",
              "      <td>0</td>\n",
              "      <td>9</td>\n",
              "      <td>11</td>\n",
              "      <td>2390.699</td>\n",
              "    </tr>\n",
              "    <tr>\n",
              "      <th>2</th>\n",
              "      <td>2UqkWXwZbIjs03dHLU9KHJNNEvEkZVzm69f3jCS+uLI=</td>\n",
              "      <td>2017-03-31</td>\n",
              "      <td>52</td>\n",
              "      <td>3</td>\n",
              "      <td>5</td>\n",
              "      <td>3</td>\n",
              "      <td>84</td>\n",
              "      <td>110</td>\n",
              "      <td>23203.337</td>\n",
              "    </tr>\n",
              "  </tbody>\n",
              "</table>\n",
              "</div>"
            ],
            "text/plain": [
              "                                           msno       date  ...  num_unq  total_secs\n",
              "0  u9E91QDTvHLq6NXjEaWv8u4QIqhrHk72kE+w31Gnhdg= 2017-03-31  ...       18    6309.273\n",
              "1  nTeWW/eOZA/UHKdD5L7DEqKKFTjaAj3ALLPoAWsU8n0= 2017-03-30  ...       11    2390.699\n",
              "2  2UqkWXwZbIjs03dHLU9KHJNNEvEkZVzm69f3jCS+uLI= 2017-03-31  ...      110   23203.337\n",
              "\n",
              "[3 rows x 9 columns]"
            ]
          },
          "metadata": {},
          "execution_count": 83
        }
      ]
    },
    {
      "cell_type": "code",
      "metadata": {
        "colab": {
          "base_uri": "https://localhost:8080/"
        },
        "id": "Z-KNs7ksmQIJ",
        "outputId": "b7028815-4a23-433a-b2c5-6f169497795a"
      },
      "source": [
        "print('\\nTrain:',train.describe().T)\n",
        "print('\\nMembers:',members.describe().T)\n",
        "print('\\nTransactions:',transactions.describe().T)\n",
        "print('\\nUser log:',user_log.describe().T)"
      ],
      "execution_count": 84,
      "outputs": [
        {
          "output_type": "stream",
          "text": [
            "\n",
            "Train:              count      mean       std  min  25%  50%  75%  max\n",
            "is_churn  970960.0  0.089942  0.286099  0.0  0.0  0.0  0.0  1.0\n",
            "\n",
            "Members:                     count      mean        std    min  25%  50%   75%    max\n",
            "city            6769473.0  3.847358   5.478359    1.0  1.0  1.0   4.0   22.0\n",
            "bd              6769473.0  9.763688  15.354561 -128.0  0.0  0.0  21.0  126.0\n",
            "registered_via  6769473.0  5.253069   2.361398   -1.0  4.0  4.0   7.0   19.0\n",
            "\n",
            "Transactions:                         count       mean        std  ...   50%   75%    max\n",
            "payment_method_id   1431009.0  37.918355   4.964805  ...  40.0  41.0   41.0\n",
            "payment_plan_days   1431009.0  18.432050  39.830162  ...  30.0  30.0  120.0\n",
            "plan_list_price     1431009.0 -21.387690  94.768896  ... -76.0  99.0  126.0\n",
            "actual_amount_paid  1431009.0 -20.556024  94.926916  ... -76.0  99.0  127.0\n",
            "is_auto_renew       1431009.0   0.785303   0.410612  ...   1.0   1.0    1.0\n",
            "is_cancel           1431009.0   0.024551   0.154753  ...   0.0   0.0    1.0\n",
            "\n",
            "[6 rows x 8 columns]\n",
            "\n",
            "User log:                  count         mean  ...       75%          max\n",
            "num_25      18396362.0     6.191401  ...     7.000     5639.000\n",
            "num_50      18396362.0     1.508789  ...     2.000      912.000\n",
            "num_75      18396362.0     0.941376  ...     1.000      508.000\n",
            "num_985     18396362.0     1.079905  ...     1.000     1561.000\n",
            "num_100     18396362.0    30.278898  ...    37.000    21073.000\n",
            "num_unq     18396362.0    29.036146  ...    38.000     4925.000\n",
            "total_secs  18396362.0  7904.813556  ...  9848.441  9194058.522\n",
            "\n",
            "[7 rows x 8 columns]\n"
          ],
          "name": "stdout"
        }
      ]
    },
    {
      "cell_type": "code",
      "metadata": {
        "id": "wLExHCsTmWow"
      },
      "source": [
        "train = pd.merge(train,members,on='msno',how='left')\n",
        "train = pd.merge(train,transactions,how='left',on='msno',left_index=True, right_index=True)\n",
        "train = pd.merge(train,user_log,how='left',on='msno',left_index=True, right_index=True)"
      ],
      "execution_count": 85,
      "outputs": []
    },
    {
      "cell_type": "code",
      "metadata": {
        "colab": {
          "base_uri": "https://localhost:8080/"
        },
        "id": "f40Cyc-Ewqnr",
        "outputId": "1b6bb7a8-f92a-4580-9f81-738de0d7d6a8"
      },
      "source": [
        "del members,transactions,user_log\n",
        "print('Number of rows & columns',train.shape)"
      ],
      "execution_count": 86,
      "outputs": [
        {
          "output_type": "stream",
          "text": [
            "Number of rows & columns (970960, 23)\n"
          ],
          "name": "stdout"
        }
      ]
    },
    {
      "cell_type": "code",
      "metadata": {
        "colab": {
          "base_uri": "https://localhost:8080/",
          "height": 213
        },
        "id": "dDK9ujxsxKbe",
        "outputId": "c03b9265-7407-4bbc-f336-7389d6b045a7"
      },
      "source": [
        "train.head(3)"
      ],
      "execution_count": 87,
      "outputs": [
        {
          "output_type": "execute_result",
          "data": {
            "text/html": [
              "<div>\n",
              "<style scoped>\n",
              "    .dataframe tbody tr th:only-of-type {\n",
              "        vertical-align: middle;\n",
              "    }\n",
              "\n",
              "    .dataframe tbody tr th {\n",
              "        vertical-align: top;\n",
              "    }\n",
              "\n",
              "    .dataframe thead th {\n",
              "        text-align: right;\n",
              "    }\n",
              "</style>\n",
              "<table border=\"1\" class=\"dataframe\">\n",
              "  <thead>\n",
              "    <tr style=\"text-align: right;\">\n",
              "      <th></th>\n",
              "      <th>msno</th>\n",
              "      <th>is_churn</th>\n",
              "      <th>city</th>\n",
              "      <th>bd</th>\n",
              "      <th>gender</th>\n",
              "      <th>registered_via</th>\n",
              "      <th>registration_init_time</th>\n",
              "      <th>payment_method_id</th>\n",
              "      <th>payment_plan_days</th>\n",
              "      <th>plan_list_price</th>\n",
              "      <th>actual_amount_paid</th>\n",
              "      <th>is_auto_renew</th>\n",
              "      <th>transaction_date</th>\n",
              "      <th>membership_expire_date</th>\n",
              "      <th>is_cancel</th>\n",
              "      <th>date</th>\n",
              "      <th>num_25</th>\n",
              "      <th>num_50</th>\n",
              "      <th>num_75</th>\n",
              "      <th>num_985</th>\n",
              "      <th>num_100</th>\n",
              "      <th>num_unq</th>\n",
              "      <th>total_secs</th>\n",
              "    </tr>\n",
              "  </thead>\n",
              "  <tbody>\n",
              "    <tr>\n",
              "      <th>0</th>\n",
              "      <td>ugx0CjOMzazClkFzU2xasmDZaoIqOUAZPsH1q0teWCg=</td>\n",
              "      <td>1</td>\n",
              "      <td>5.0</td>\n",
              "      <td>28.0</td>\n",
              "      <td>male</td>\n",
              "      <td>3.0</td>\n",
              "      <td>2013-12-23</td>\n",
              "      <td>32</td>\n",
              "      <td>90</td>\n",
              "      <td>42</td>\n",
              "      <td>42</td>\n",
              "      <td>0</td>\n",
              "      <td>2017-01-31</td>\n",
              "      <td>2017-05-04</td>\n",
              "      <td>0</td>\n",
              "      <td>2017-03-31</td>\n",
              "      <td>8</td>\n",
              "      <td>4</td>\n",
              "      <td>0</td>\n",
              "      <td>1</td>\n",
              "      <td>21</td>\n",
              "      <td>18</td>\n",
              "      <td>6309.273</td>\n",
              "    </tr>\n",
              "    <tr>\n",
              "      <th>1</th>\n",
              "      <td>f/NmvEzHfhINFEYZTR05prUdr+E+3+oewvweYz9cCQE=</td>\n",
              "      <td>1</td>\n",
              "      <td>13.0</td>\n",
              "      <td>20.0</td>\n",
              "      <td>male</td>\n",
              "      <td>3.0</td>\n",
              "      <td>2013-12-23</td>\n",
              "      <td>41</td>\n",
              "      <td>30</td>\n",
              "      <td>-107</td>\n",
              "      <td>-107</td>\n",
              "      <td>1</td>\n",
              "      <td>2015-08-09</td>\n",
              "      <td>2019-04-12</td>\n",
              "      <td>0</td>\n",
              "      <td>2017-03-30</td>\n",
              "      <td>2</td>\n",
              "      <td>2</td>\n",
              "      <td>1</td>\n",
              "      <td>0</td>\n",
              "      <td>9</td>\n",
              "      <td>11</td>\n",
              "      <td>2390.699</td>\n",
              "    </tr>\n",
              "    <tr>\n",
              "      <th>2</th>\n",
              "      <td>zLo9f73nGGT1p21ltZC3ChiRnAVvgibMyazbCxvWPcg=</td>\n",
              "      <td>1</td>\n",
              "      <td>13.0</td>\n",
              "      <td>18.0</td>\n",
              "      <td>male</td>\n",
              "      <td>3.0</td>\n",
              "      <td>2013-12-27</td>\n",
              "      <td>36</td>\n",
              "      <td>30</td>\n",
              "      <td>-76</td>\n",
              "      <td>-76</td>\n",
              "      <td>1</td>\n",
              "      <td>2017-03-03</td>\n",
              "      <td>2017-04-22</td>\n",
              "      <td>0</td>\n",
              "      <td>2017-03-31</td>\n",
              "      <td>52</td>\n",
              "      <td>3</td>\n",
              "      <td>5</td>\n",
              "      <td>3</td>\n",
              "      <td>84</td>\n",
              "      <td>110</td>\n",
              "      <td>23203.337</td>\n",
              "    </tr>\n",
              "  </tbody>\n",
              "</table>\n",
              "</div>"
            ],
            "text/plain": [
              "                                           msno  is_churn  ...  num_unq  total_secs\n",
              "0  ugx0CjOMzazClkFzU2xasmDZaoIqOUAZPsH1q0teWCg=         1  ...       18    6309.273\n",
              "1  f/NmvEzHfhINFEYZTR05prUdr+E+3+oewvweYz9cCQE=         1  ...       11    2390.699\n",
              "2  zLo9f73nGGT1p21ltZC3ChiRnAVvgibMyazbCxvWPcg=         1  ...      110   23203.337\n",
              "\n",
              "[3 rows x 23 columns]"
            ]
          },
          "metadata": {},
          "execution_count": 87
        }
      ]
    },
    {
      "cell_type": "code",
      "metadata": {
        "colab": {
          "base_uri": "https://localhost:8080/",
          "height": 391
        },
        "id": "C_nJnM-IxNC5",
        "outputId": "e27f3948-ecc7-44c6-d3f6-1d8f27c75e03"
      },
      "source": [
        "train[['registration_init_time' ,'transaction_date','membership_expire_date','date']].describe()"
      ],
      "execution_count": 88,
      "outputs": [
        {
          "output_type": "stream",
          "text": [
            "/usr/local/lib/python3.7/dist-packages/ipykernel_launcher.py:1: FutureWarning: Treating datetime data as categorical rather than numeric in `.describe` is deprecated and will be removed in a future version of pandas. Specify `datetime_is_numeric=True` to silence this warning and adopt the future behavior now.\n",
            "  \"\"\"Entry point for launching an IPython kernel.\n",
            "/usr/local/lib/python3.7/dist-packages/ipykernel_launcher.py:1: FutureWarning: Treating datetime data as categorical rather than numeric in `.describe` is deprecated and will be removed in a future version of pandas. Specify `datetime_is_numeric=True` to silence this warning and adopt the future behavior now.\n",
            "  \"\"\"Entry point for launching an IPython kernel.\n",
            "/usr/local/lib/python3.7/dist-packages/ipykernel_launcher.py:1: FutureWarning: Treating datetime data as categorical rather than numeric in `.describe` is deprecated and will be removed in a future version of pandas. Specify `datetime_is_numeric=True` to silence this warning and adopt the future behavior now.\n",
            "  \"\"\"Entry point for launching an IPython kernel.\n",
            "/usr/local/lib/python3.7/dist-packages/ipykernel_launcher.py:1: FutureWarning: Treating datetime data as categorical rather than numeric in `.describe` is deprecated and will be removed in a future version of pandas. Specify `datetime_is_numeric=True` to silence this warning and adopt the future behavior now.\n",
            "  \"\"\"Entry point for launching an IPython kernel.\n"
          ],
          "name": "stderr"
        },
        {
          "output_type": "execute_result",
          "data": {
            "text/html": [
              "<div>\n",
              "<style scoped>\n",
              "    .dataframe tbody tr th:only-of-type {\n",
              "        vertical-align: middle;\n",
              "    }\n",
              "\n",
              "    .dataframe tbody tr th {\n",
              "        vertical-align: top;\n",
              "    }\n",
              "\n",
              "    .dataframe thead th {\n",
              "        text-align: right;\n",
              "    }\n",
              "</style>\n",
              "<table border=\"1\" class=\"dataframe\">\n",
              "  <thead>\n",
              "    <tr style=\"text-align: right;\">\n",
              "      <th></th>\n",
              "      <th>registration_init_time</th>\n",
              "      <th>transaction_date</th>\n",
              "      <th>membership_expire_date</th>\n",
              "      <th>date</th>\n",
              "    </tr>\n",
              "  </thead>\n",
              "  <tbody>\n",
              "    <tr>\n",
              "      <th>count</th>\n",
              "      <td>860967</td>\n",
              "      <td>970960</td>\n",
              "      <td>970960</td>\n",
              "      <td>970960</td>\n",
              "    </tr>\n",
              "    <tr>\n",
              "      <th>unique</th>\n",
              "      <td>4749</td>\n",
              "      <td>820</td>\n",
              "      <td>1818</td>\n",
              "      <td>31</td>\n",
              "    </tr>\n",
              "    <tr>\n",
              "      <th>top</th>\n",
              "      <td>2015-10-09 00:00:00</td>\n",
              "      <td>2017-03-31 00:00:00</td>\n",
              "      <td>2017-04-30 00:00:00</td>\n",
              "      <td>2017-03-30 00:00:00</td>\n",
              "    </tr>\n",
              "    <tr>\n",
              "      <th>freq</th>\n",
              "      <td>1575</td>\n",
              "      <td>130414</td>\n",
              "      <td>79283</td>\n",
              "      <td>32331</td>\n",
              "    </tr>\n",
              "    <tr>\n",
              "      <th>first</th>\n",
              "      <td>2004-03-26 00:00:00</td>\n",
              "      <td>2015-01-01 00:00:00</td>\n",
              "      <td>2016-04-20 00:00:00</td>\n",
              "      <td>2017-03-01 00:00:00</td>\n",
              "    </tr>\n",
              "    <tr>\n",
              "      <th>last</th>\n",
              "      <td>2017-04-24 00:00:00</td>\n",
              "      <td>2017-03-31 00:00:00</td>\n",
              "      <td>2036-10-15 00:00:00</td>\n",
              "      <td>2017-03-31 00:00:00</td>\n",
              "    </tr>\n",
              "  </tbody>\n",
              "</table>\n",
              "</div>"
            ],
            "text/plain": [
              "       registration_init_time  ...                 date\n",
              "count                  860967  ...               970960\n",
              "unique                   4749  ...                   31\n",
              "top       2015-10-09 00:00:00  ...  2017-03-30 00:00:00\n",
              "freq                     1575  ...                32331\n",
              "first     2004-03-26 00:00:00  ...  2017-03-01 00:00:00\n",
              "last      2017-04-24 00:00:00  ...  2017-03-31 00:00:00\n",
              "\n",
              "[6 rows x 4 columns]"
            ]
          },
          "metadata": {},
          "execution_count": 88
        }
      ]
    },
    {
      "cell_type": "code",
      "metadata": {
        "colab": {
          "base_uri": "https://localhost:8080/"
        },
        "id": "Xr_Abvx1xUDb",
        "outputId": "037dbfec-f7da-4770-8747-9219faa0d188"
      },
      "source": [
        "train[['registration_init_time' ,'transaction_date','membership_expire_date','date']].isnull().sum()"
      ],
      "execution_count": 89,
      "outputs": [
        {
          "output_type": "execute_result",
          "data": {
            "text/plain": [
              "registration_init_time    109993\n",
              "transaction_date               0\n",
              "membership_expire_date         0\n",
              "date                           0\n",
              "dtype: int64"
            ]
          },
          "metadata": {},
          "execution_count": 89
        }
      ]
    },
    {
      "cell_type": "code",
      "metadata": {
        "id": "G62ZgbcHxnuE"
      },
      "source": [
        "train['registration_init_time'] = train['registration_init_time'].fillna(value=pd.to_datetime('09/10/2015'))"
      ],
      "execution_count": 90,
      "outputs": []
    },
    {
      "cell_type": "code",
      "metadata": {
        "id": "3wkO19cFxuro"
      },
      "source": [
        "def date_feature(df):\n",
        "    \n",
        "    col = ['registration_init_time' ,'transaction_date','membership_expire_date','date']\n",
        "    var = ['reg','trans','mem_exp','user_']\n",
        "   \n",
        "    \n",
        "    for i ,j in zip(col,var):\n",
        "        df[j+'_day'] = df[i].dt.day.astype('uint8')\n",
        "        df[j+'_weekday'] = df[i].dt.weekday.astype('uint8')        \n",
        "        df[j+'_month'] = df[i].dt.month.astype('uint8') \n",
        "        df[j+'_year'] =df[i].dt.year.astype('uint16') \n",
        "\n",
        "date_feature(train)"
      ],
      "execution_count": 91,
      "outputs": []
    },
    {
      "cell_type": "code",
      "metadata": {
        "colab": {
          "base_uri": "https://localhost:8080/",
          "height": 309
        },
        "id": "K2rUVL8cx890",
        "outputId": "24ee2f15-2d62-454a-b6b1-5e3e71cdab91"
      },
      "source": [
        "train.head(5)"
      ],
      "execution_count": 92,
      "outputs": [
        {
          "output_type": "execute_result",
          "data": {
            "text/html": [
              "<div>\n",
              "<style scoped>\n",
              "    .dataframe tbody tr th:only-of-type {\n",
              "        vertical-align: middle;\n",
              "    }\n",
              "\n",
              "    .dataframe tbody tr th {\n",
              "        vertical-align: top;\n",
              "    }\n",
              "\n",
              "    .dataframe thead th {\n",
              "        text-align: right;\n",
              "    }\n",
              "</style>\n",
              "<table border=\"1\" class=\"dataframe\">\n",
              "  <thead>\n",
              "    <tr style=\"text-align: right;\">\n",
              "      <th></th>\n",
              "      <th>msno</th>\n",
              "      <th>is_churn</th>\n",
              "      <th>city</th>\n",
              "      <th>bd</th>\n",
              "      <th>gender</th>\n",
              "      <th>registered_via</th>\n",
              "      <th>registration_init_time</th>\n",
              "      <th>payment_method_id</th>\n",
              "      <th>payment_plan_days</th>\n",
              "      <th>plan_list_price</th>\n",
              "      <th>actual_amount_paid</th>\n",
              "      <th>is_auto_renew</th>\n",
              "      <th>transaction_date</th>\n",
              "      <th>membership_expire_date</th>\n",
              "      <th>is_cancel</th>\n",
              "      <th>date</th>\n",
              "      <th>num_25</th>\n",
              "      <th>num_50</th>\n",
              "      <th>num_75</th>\n",
              "      <th>num_985</th>\n",
              "      <th>num_100</th>\n",
              "      <th>num_unq</th>\n",
              "      <th>total_secs</th>\n",
              "      <th>reg_day</th>\n",
              "      <th>reg_weekday</th>\n",
              "      <th>reg_month</th>\n",
              "      <th>reg_year</th>\n",
              "      <th>trans_day</th>\n",
              "      <th>trans_weekday</th>\n",
              "      <th>trans_month</th>\n",
              "      <th>trans_year</th>\n",
              "      <th>mem_exp_day</th>\n",
              "      <th>mem_exp_weekday</th>\n",
              "      <th>mem_exp_month</th>\n",
              "      <th>mem_exp_year</th>\n",
              "      <th>user__day</th>\n",
              "      <th>user__weekday</th>\n",
              "      <th>user__month</th>\n",
              "      <th>user__year</th>\n",
              "    </tr>\n",
              "  </thead>\n",
              "  <tbody>\n",
              "    <tr>\n",
              "      <th>0</th>\n",
              "      <td>ugx0CjOMzazClkFzU2xasmDZaoIqOUAZPsH1q0teWCg=</td>\n",
              "      <td>1</td>\n",
              "      <td>5.0</td>\n",
              "      <td>28.0</td>\n",
              "      <td>male</td>\n",
              "      <td>3.0</td>\n",
              "      <td>2013-12-23</td>\n",
              "      <td>32</td>\n",
              "      <td>90</td>\n",
              "      <td>42</td>\n",
              "      <td>42</td>\n",
              "      <td>0</td>\n",
              "      <td>2017-01-31</td>\n",
              "      <td>2017-05-04</td>\n",
              "      <td>0</td>\n",
              "      <td>2017-03-31</td>\n",
              "      <td>8</td>\n",
              "      <td>4</td>\n",
              "      <td>0</td>\n",
              "      <td>1</td>\n",
              "      <td>21</td>\n",
              "      <td>18</td>\n",
              "      <td>6309.273</td>\n",
              "      <td>23</td>\n",
              "      <td>0</td>\n",
              "      <td>12</td>\n",
              "      <td>2013</td>\n",
              "      <td>31</td>\n",
              "      <td>1</td>\n",
              "      <td>1</td>\n",
              "      <td>2017</td>\n",
              "      <td>4</td>\n",
              "      <td>3</td>\n",
              "      <td>5</td>\n",
              "      <td>2017</td>\n",
              "      <td>31</td>\n",
              "      <td>4</td>\n",
              "      <td>3</td>\n",
              "      <td>2017</td>\n",
              "    </tr>\n",
              "    <tr>\n",
              "      <th>1</th>\n",
              "      <td>f/NmvEzHfhINFEYZTR05prUdr+E+3+oewvweYz9cCQE=</td>\n",
              "      <td>1</td>\n",
              "      <td>13.0</td>\n",
              "      <td>20.0</td>\n",
              "      <td>male</td>\n",
              "      <td>3.0</td>\n",
              "      <td>2013-12-23</td>\n",
              "      <td>41</td>\n",
              "      <td>30</td>\n",
              "      <td>-107</td>\n",
              "      <td>-107</td>\n",
              "      <td>1</td>\n",
              "      <td>2015-08-09</td>\n",
              "      <td>2019-04-12</td>\n",
              "      <td>0</td>\n",
              "      <td>2017-03-30</td>\n",
              "      <td>2</td>\n",
              "      <td>2</td>\n",
              "      <td>1</td>\n",
              "      <td>0</td>\n",
              "      <td>9</td>\n",
              "      <td>11</td>\n",
              "      <td>2390.699</td>\n",
              "      <td>23</td>\n",
              "      <td>0</td>\n",
              "      <td>12</td>\n",
              "      <td>2013</td>\n",
              "      <td>9</td>\n",
              "      <td>6</td>\n",
              "      <td>8</td>\n",
              "      <td>2015</td>\n",
              "      <td>12</td>\n",
              "      <td>4</td>\n",
              "      <td>4</td>\n",
              "      <td>2019</td>\n",
              "      <td>30</td>\n",
              "      <td>3</td>\n",
              "      <td>3</td>\n",
              "      <td>2017</td>\n",
              "    </tr>\n",
              "    <tr>\n",
              "      <th>2</th>\n",
              "      <td>zLo9f73nGGT1p21ltZC3ChiRnAVvgibMyazbCxvWPcg=</td>\n",
              "      <td>1</td>\n",
              "      <td>13.0</td>\n",
              "      <td>18.0</td>\n",
              "      <td>male</td>\n",
              "      <td>3.0</td>\n",
              "      <td>2013-12-27</td>\n",
              "      <td>36</td>\n",
              "      <td>30</td>\n",
              "      <td>-76</td>\n",
              "      <td>-76</td>\n",
              "      <td>1</td>\n",
              "      <td>2017-03-03</td>\n",
              "      <td>2017-04-22</td>\n",
              "      <td>0</td>\n",
              "      <td>2017-03-31</td>\n",
              "      <td>52</td>\n",
              "      <td>3</td>\n",
              "      <td>5</td>\n",
              "      <td>3</td>\n",
              "      <td>84</td>\n",
              "      <td>110</td>\n",
              "      <td>23203.337</td>\n",
              "      <td>27</td>\n",
              "      <td>4</td>\n",
              "      <td>12</td>\n",
              "      <td>2013</td>\n",
              "      <td>3</td>\n",
              "      <td>4</td>\n",
              "      <td>3</td>\n",
              "      <td>2017</td>\n",
              "      <td>22</td>\n",
              "      <td>5</td>\n",
              "      <td>4</td>\n",
              "      <td>2017</td>\n",
              "      <td>31</td>\n",
              "      <td>4</td>\n",
              "      <td>3</td>\n",
              "      <td>2017</td>\n",
              "    </tr>\n",
              "    <tr>\n",
              "      <th>3</th>\n",
              "      <td>8iF/+8HY8lJKFrTc7iR9ZYGCG2Ecrogbc2Vy5YhsfhQ=</td>\n",
              "      <td>1</td>\n",
              "      <td>1.0</td>\n",
              "      <td>0.0</td>\n",
              "      <td>NaN</td>\n",
              "      <td>7.0</td>\n",
              "      <td>2014-01-09</td>\n",
              "      <td>36</td>\n",
              "      <td>30</td>\n",
              "      <td>-76</td>\n",
              "      <td>-76</td>\n",
              "      <td>1</td>\n",
              "      <td>2017-03-29</td>\n",
              "      <td>2017-03-31</td>\n",
              "      <td>1</td>\n",
              "      <td>2017-03-31</td>\n",
              "      <td>176</td>\n",
              "      <td>4</td>\n",
              "      <td>2</td>\n",
              "      <td>2</td>\n",
              "      <td>19</td>\n",
              "      <td>191</td>\n",
              "      <td>7100.454</td>\n",
              "      <td>9</td>\n",
              "      <td>3</td>\n",
              "      <td>1</td>\n",
              "      <td>2014</td>\n",
              "      <td>29</td>\n",
              "      <td>2</td>\n",
              "      <td>3</td>\n",
              "      <td>2017</td>\n",
              "      <td>31</td>\n",
              "      <td>4</td>\n",
              "      <td>3</td>\n",
              "      <td>2017</td>\n",
              "      <td>31</td>\n",
              "      <td>4</td>\n",
              "      <td>3</td>\n",
              "      <td>2017</td>\n",
              "    </tr>\n",
              "    <tr>\n",
              "      <th>4</th>\n",
              "      <td>K6fja4+jmoZ5xG6BypqX80Uw/XKpMgrEMdG2edFOxnA=</td>\n",
              "      <td>1</td>\n",
              "      <td>13.0</td>\n",
              "      <td>35.0</td>\n",
              "      <td>female</td>\n",
              "      <td>7.0</td>\n",
              "      <td>2014-01-25</td>\n",
              "      <td>41</td>\n",
              "      <td>30</td>\n",
              "      <td>99</td>\n",
              "      <td>99</td>\n",
              "      <td>1</td>\n",
              "      <td>2017-03-23</td>\n",
              "      <td>2017-04-23</td>\n",
              "      <td>0</td>\n",
              "      <td>2017-03-31</td>\n",
              "      <td>2</td>\n",
              "      <td>1</td>\n",
              "      <td>0</td>\n",
              "      <td>1</td>\n",
              "      <td>112</td>\n",
              "      <td>93</td>\n",
              "      <td>28401.558</td>\n",
              "      <td>25</td>\n",
              "      <td>5</td>\n",
              "      <td>1</td>\n",
              "      <td>2014</td>\n",
              "      <td>23</td>\n",
              "      <td>3</td>\n",
              "      <td>3</td>\n",
              "      <td>2017</td>\n",
              "      <td>23</td>\n",
              "      <td>6</td>\n",
              "      <td>4</td>\n",
              "      <td>2017</td>\n",
              "      <td>31</td>\n",
              "      <td>4</td>\n",
              "      <td>3</td>\n",
              "      <td>2017</td>\n",
              "    </tr>\n",
              "  </tbody>\n",
              "</table>\n",
              "</div>"
            ],
            "text/plain": [
              "                                           msno  ...  user__year\n",
              "0  ugx0CjOMzazClkFzU2xasmDZaoIqOUAZPsH1q0teWCg=  ...        2017\n",
              "1  f/NmvEzHfhINFEYZTR05prUdr+E+3+oewvweYz9cCQE=  ...        2017\n",
              "2  zLo9f73nGGT1p21ltZC3ChiRnAVvgibMyazbCxvWPcg=  ...        2017\n",
              "3  8iF/+8HY8lJKFrTc7iR9ZYGCG2Ecrogbc2Vy5YhsfhQ=  ...        2017\n",
              "4  K6fja4+jmoZ5xG6BypqX80Uw/XKpMgrEMdG2edFOxnA=  ...        2017\n",
              "\n",
              "[5 rows x 39 columns]"
            ]
          },
          "metadata": {},
          "execution_count": 92
        }
      ]
    },
    {
      "cell_type": "code",
      "metadata": {
        "colab": {
          "base_uri": "https://localhost:8080/"
        },
        "id": "7z3oK73yx_m7",
        "outputId": "78bd690c-1c46-42dc-81bc-a0d70bc13fcb"
      },
      "source": [
        "train.columns"
      ],
      "execution_count": 93,
      "outputs": [
        {
          "output_type": "execute_result",
          "data": {
            "text/plain": [
              "Index(['msno', 'is_churn', 'city', 'bd', 'gender', 'registered_via',\n",
              "       'registration_init_time', 'payment_method_id', 'payment_plan_days',\n",
              "       'plan_list_price', 'actual_amount_paid', 'is_auto_renew',\n",
              "       'transaction_date', 'membership_expire_date', 'is_cancel', 'date',\n",
              "       'num_25', 'num_50', 'num_75', 'num_985', 'num_100', 'num_unq',\n",
              "       'total_secs', 'reg_day', 'reg_weekday', 'reg_month', 'reg_year',\n",
              "       'trans_day', 'trans_weekday', 'trans_month', 'trans_year',\n",
              "       'mem_exp_day', 'mem_exp_weekday', 'mem_exp_month', 'mem_exp_year',\n",
              "       'user__day', 'user__weekday', 'user__month', 'user__year'],\n",
              "      dtype='object')"
            ]
          },
          "metadata": {},
          "execution_count": 93
        }
      ]
    },
    {
      "cell_type": "code",
      "metadata": {
        "colab": {
          "base_uri": "https://localhost:8080/"
        },
        "id": "ywJamqThyk4V",
        "outputId": "460247b8-661e-452b-aa6a-0916c418bfe9"
      },
      "source": [
        "train.isnull().sum()"
      ],
      "execution_count": 94,
      "outputs": [
        {
          "output_type": "execute_result",
          "data": {
            "text/plain": [
              "msno                           0\n",
              "is_churn                       0\n",
              "city                      109993\n",
              "bd                        109993\n",
              "gender                    582055\n",
              "registered_via            109993\n",
              "registration_init_time         0\n",
              "payment_method_id              0\n",
              "payment_plan_days              0\n",
              "plan_list_price                0\n",
              "actual_amount_paid             0\n",
              "is_auto_renew                  0\n",
              "transaction_date               0\n",
              "membership_expire_date         0\n",
              "is_cancel                      0\n",
              "date                           0\n",
              "num_25                         0\n",
              "num_50                         0\n",
              "num_75                         0\n",
              "num_985                        0\n",
              "num_100                        0\n",
              "num_unq                        0\n",
              "total_secs                     0\n",
              "reg_day                        0\n",
              "reg_weekday                    0\n",
              "reg_month                      0\n",
              "reg_year                       0\n",
              "trans_day                      0\n",
              "trans_weekday                  0\n",
              "trans_month                    0\n",
              "trans_year                     0\n",
              "mem_exp_day                    0\n",
              "mem_exp_weekday                0\n",
              "mem_exp_month                  0\n",
              "mem_exp_year                   0\n",
              "user__day                      0\n",
              "user__weekday                  0\n",
              "user__month                    0\n",
              "user__year                     0\n",
              "dtype: int64"
            ]
          },
          "metadata": {},
          "execution_count": 94
        }
      ]
    },
    {
      "cell_type": "code",
      "metadata": {
        "colab": {
          "base_uri": "https://localhost:8080/"
        },
        "id": "pg5CDRtlynV_",
        "outputId": "e2823982-7793-42ff-cc96-c43cb9fb4ce4"
      },
      "source": [
        "train.info()"
      ],
      "execution_count": 95,
      "outputs": [
        {
          "output_type": "stream",
          "text": [
            "<class 'pandas.core.frame.DataFrame'>\n",
            "Int64Index: 970960 entries, 0 to 970959\n",
            "Data columns (total 39 columns):\n",
            " #   Column                  Non-Null Count   Dtype         \n",
            "---  ------                  --------------   -----         \n",
            " 0   msno                    970960 non-null  object        \n",
            " 1   is_churn                970960 non-null  int8          \n",
            " 2   city                    860967 non-null  float64       \n",
            " 3   bd                      860967 non-null  float64       \n",
            " 4   gender                  388905 non-null  object        \n",
            " 5   registered_via          860967 non-null  float64       \n",
            " 6   registration_init_time  970960 non-null  datetime64[ns]\n",
            " 7   payment_method_id       970960 non-null  int8          \n",
            " 8   payment_plan_days       970960 non-null  int8          \n",
            " 9   plan_list_price         970960 non-null  int8          \n",
            " 10  actual_amount_paid      970960 non-null  int8          \n",
            " 11  is_auto_renew           970960 non-null  int8          \n",
            " 12  transaction_date        970960 non-null  datetime64[ns]\n",
            " 13  membership_expire_date  970960 non-null  datetime64[ns]\n",
            " 14  is_cancel               970960 non-null  int8          \n",
            " 15  date                    970960 non-null  datetime64[ns]\n",
            " 16  num_25                  970960 non-null  int16         \n",
            " 17  num_50                  970960 non-null  int16         \n",
            " 18  num_75                  970960 non-null  int16         \n",
            " 19  num_985                 970960 non-null  int16         \n",
            " 20  num_100                 970960 non-null  int16         \n",
            " 21  num_unq                 970960 non-null  int16         \n",
            " 22  total_secs              970960 non-null  float64       \n",
            " 23  reg_day                 970960 non-null  uint8         \n",
            " 24  reg_weekday             970960 non-null  uint8         \n",
            " 25  reg_month               970960 non-null  uint8         \n",
            " 26  reg_year                970960 non-null  uint16        \n",
            " 27  trans_day               970960 non-null  uint8         \n",
            " 28  trans_weekday           970960 non-null  uint8         \n",
            " 29  trans_month             970960 non-null  uint8         \n",
            " 30  trans_year              970960 non-null  uint16        \n",
            " 31  mem_exp_day             970960 non-null  uint8         \n",
            " 32  mem_exp_weekday         970960 non-null  uint8         \n",
            " 33  mem_exp_month           970960 non-null  uint8         \n",
            " 34  mem_exp_year            970960 non-null  uint16        \n",
            " 35  user__day               970960 non-null  uint8         \n",
            " 36  user__weekday           970960 non-null  uint8         \n",
            " 37  user__month             970960 non-null  uint8         \n",
            " 38  user__year              970960 non-null  uint16        \n",
            "dtypes: datetime64[ns](4), float64(4), int16(6), int8(7), object(2), uint16(4), uint8(12)\n",
            "memory usage: 157.6+ MB\n"
          ],
          "name": "stdout"
        }
      ]
    },
    {
      "cell_type": "code",
      "metadata": {
        "id": "MuDgC-JWyql0"
      },
      "source": [
        "col = [ 'city', 'bd', 'gender', 'registered_via']\n",
        "def missing(df,columns):\n",
        "    col = columns\n",
        "    for i in col:\n",
        "        df[i].fillna(df[i].mode()[0],inplace=True)\n",
        "\n",
        "missing(train,col)"
      ],
      "execution_count": 96,
      "outputs": []
    },
    {
      "cell_type": "code",
      "metadata": {
        "colab": {
          "base_uri": "https://localhost:8080/"
        },
        "id": "bDKtBkeUyuum",
        "outputId": "a7f5e6c9-f90c-46e8-d0db-b447164eba10"
      },
      "source": [
        "def unique_value(df):\n",
        "    col = df.columns\n",
        "    for i in col:\n",
        "        print('Number of unique value in {} is {}'.format(i,df[i].nunique()))\n",
        "\n",
        "unique_value(train)"
      ],
      "execution_count": 97,
      "outputs": [
        {
          "output_type": "stream",
          "text": [
            "Number of unique value in msno is 970960\n",
            "Number of unique value in is_churn is 2\n",
            "Number of unique value in city is 21\n",
            "Number of unique value in bd is 186\n",
            "Number of unique value in gender is 2\n",
            "Number of unique value in registered_via is 5\n",
            "Number of unique value in registration_init_time is 4749\n",
            "Number of unique value in payment_method_id is 37\n",
            "Number of unique value in payment_plan_days is 30\n",
            "Number of unique value in plan_list_price is 44\n",
            "Number of unique value in actual_amount_paid is 47\n",
            "Number of unique value in is_auto_renew is 2\n",
            "Number of unique value in transaction_date is 820\n",
            "Number of unique value in membership_expire_date is 1818\n",
            "Number of unique value in is_cancel is 2\n",
            "Number of unique value in date is 31\n",
            "Number of unique value in num_25 is 361\n",
            "Number of unique value in num_50 is 179\n",
            "Number of unique value in num_75 is 94\n",
            "Number of unique value in num_985 is 218\n",
            "Number of unique value in num_100 is 586\n",
            "Number of unique value in num_unq is 430\n",
            "Number of unique value in total_secs is 898923\n",
            "Number of unique value in reg_day is 31\n",
            "Number of unique value in reg_weekday is 7\n",
            "Number of unique value in reg_month is 12\n",
            "Number of unique value in reg_year is 14\n",
            "Number of unique value in trans_day is 31\n",
            "Number of unique value in trans_weekday is 7\n",
            "Number of unique value in trans_month is 12\n",
            "Number of unique value in trans_year is 3\n",
            "Number of unique value in mem_exp_day is 31\n",
            "Number of unique value in mem_exp_weekday is 7\n",
            "Number of unique value in mem_exp_month is 12\n",
            "Number of unique value in mem_exp_year is 19\n",
            "Number of unique value in user__day is 31\n",
            "Number of unique value in user__weekday is 7\n",
            "Number of unique value in user__month is 1\n",
            "Number of unique value in user__year is 1\n"
          ],
          "name": "stdout"
        }
      ]
    },
    {
      "cell_type": "code",
      "metadata": {
        "id": "TPHnqFCxdqfN"
      },
      "source": [
        "train_n=train"
      ],
      "execution_count": 98,
      "outputs": []
    },
    {
      "cell_type": "markdown",
      "metadata": {
        "id": "9rKYYhVYYAKU"
      },
      "source": [
        "## Univariate EDA"
      ]
    },
    {
      "cell_type": "code",
      "metadata": {
        "colab": {
          "base_uri": "https://localhost:8080/",
          "height": 465
        },
        "id": "zxESi2ZcX9R-",
        "outputId": "66f5bb10-a7ab-4766-fe31-b58110b42b04"
      },
      "source": [
        "plt.figure(figsize=(8,6))\n",
        "sns.set_style('ticks')\n",
        "sns.countplot(train['is_churn'],palette='summer')\n",
        "plt.xlabel('The subscription within 30 days of expiration')"
      ],
      "execution_count": 99,
      "outputs": [
        {
          "output_type": "stream",
          "text": [
            "/usr/local/lib/python3.7/dist-packages/seaborn/_decorators.py:43: FutureWarning: Pass the following variable as a keyword arg: x. From version 0.12, the only valid positional argument will be `data`, and passing other arguments without an explicit keyword will result in an error or misinterpretation.\n",
            "  FutureWarning\n"
          ],
          "name": "stderr"
        },
        {
          "output_type": "execute_result",
          "data": {
            "text/plain": [
              "Text(0.5, 0, 'The subscription within 30 days of expiration')"
            ]
          },
          "metadata": {},
          "execution_count": 99
        },
        {
          "output_type": "display_data",
          "data": {
            "image/png": "[encoded data removed]",
            "text/plain": [
              "<Figure size 576x432 with 1 Axes>"
            ]
          },
          "metadata": {
            "needs_background": "light"
          }
        }
      ]
    },
    {
      "cell_type": "code",
      "metadata": {
        "colab": {
          "base_uri": "https://localhost:8080/",
          "height": 277
        },
        "id": "RXZIe3oWN-MJ",
        "outputId": "added5f2-3555-474b-ebe7-ff04a6000ff9"
      },
      "source": [
        "from collections import Counter\n",
        "plt.figure(figsize=(12,12))\n",
        "plt.subplot(411)\n",
        "city_order = train['city'].unique()\n",
        "city_order=sorted(city_order, key=lambda x: float(x))\n",
        "sns.countplot(x=\"city\", data=train , order = city_order)\n",
        "plt.ylabel('Count', fontsize=12)\n",
        "plt.xlabel('City', fontsize=12)\n",
        "plt.xticks(rotation='vertical')\n",
        "plt.title(\"Frequency of City Count\", fontsize=12)\n",
        "plt.show()\n",
        "city_count = Counter(train['city']).most_common()\n",
        "print(\"City Count \" +str(city_count))"
      ],
      "execution_count": 100,
      "outputs": [
        {
          "output_type": "display_data",
          "data": {
            "image/png": "[encoded data removed]",
            "text/plain": [
              "<Figure size 864x864 with 1 Axes>"
            ]
          },
          "metadata": {}
        },
        {
          "output_type": "stream",
          "text": [
            "City Count [(1.0, 552591), (13.0, 97136), (5.0, 70706), (4.0, 47227), (15.0, 43187), (22.0, 41991), (6.0, 26066), (14.0, 20013), (12.0, 11383), (9.0, 9526), (11.0, 9138), (18.0, 7792), (8.0, 7589), (10.0, 6470), (17.0, 5476), (21.0, 5199), (3.0, 5057), (7.0, 2652), (16.0, 944), (20.0, 677), (19.0, 140)]\n"
          ],
          "name": "stdout"
        }
      ]
    },
    {
      "cell_type": "code",
      "metadata": {
        "colab": {
          "base_uri": "https://localhost:8080/",
          "height": 257
        },
        "id": "lvlGAvybPtTm",
        "outputId": "7e4d9f54-8ff5-49c3-ede0-f016ca6f1996"
      },
      "source": [
        "plt.figure(figsize=(12,12))\n",
        "plt.subplot(412)\n",
        "R_V_order = train['registered_via'].unique()\n",
        "R_V_order = sorted(R_V_order, key=lambda x: str(x))\n",
        "R_V_order = sorted(R_V_order, key=lambda x: float(x))\n",
        "sns.countplot(x=\"registered_via\", data=train,order = R_V_order)\n",
        "plt.ylabel('Count', fontsize=12)\n",
        "plt.xlabel('Registered Via', fontsize=12)\n",
        "plt.xticks(rotation='vertical')\n",
        "plt.title(\"Frequency of Registered Via Count\", fontsize=12)\n",
        "plt.show()\n",
        "RV_count = Counter(train['registered_via']).most_common()\n",
        "print(\"Registered Via Count \" +str(RV_count))"
      ],
      "execution_count": 101,
      "outputs": [
        {
          "output_type": "display_data",
          "data": {
            "image/png": "[encoded data removed]",
            "text/plain": [
              "<Figure size 864x864 with 1 Axes>"
            ]
          },
          "metadata": {}
        },
        {
          "output_type": "stream",
          "text": [
            "Registered Via Count [(7.0, 572677), (9.0, 235689), (3.0, 106459), (4.0, 52744), (13.0, 3391)]\n"
          ],
          "name": "stdout"
        }
      ]
    },
    {
      "cell_type": "code",
      "metadata": {
        "colab": {
          "base_uri": "https://localhost:8080/",
          "height": 271
        },
        "id": "4UGNCZOxQPWU",
        "outputId": "89197067-e140-4bbf-e422-1e57033e2460"
      },
      "source": [
        "plt.figure(figsize=(12,12))\n",
        "plt.subplot(413)\n",
        "sns.countplot(x=\"gender\", data=train)\n",
        "plt.ylabel('Count', fontsize=12)\n",
        "plt.xlabel('Gender', fontsize=12)\n",
        "plt.xticks(rotation='vertical')\n",
        "plt.title(\"Frequency of Gender Count\", fontsize=12)\n",
        "plt.show()\n",
        "gender_count = Counter(train['gender']).most_common()\n",
        "print(\"Gender Count \" +str(gender_count))"
      ],
      "execution_count": 102,
      "outputs": [
        {
          "output_type": "display_data",
          "data": {
            "image/png": "[encoded data removed]",
            "text/plain": [
              "<Figure size 864x864 with 1 Axes>"
            ]
          },
          "metadata": {}
        },
        {
          "output_type": "stream",
          "text": [
            "Gender Count [('male', 786616), ('female', 184344)]\n"
          ],
          "name": "stdout"
        }
      ]
    },
    {
      "cell_type": "markdown",
      "metadata": {
        "id": "bd5Ubq6mXTu7"
      },
      "source": [
        "## Multivariate EDA"
      ]
    },
    {
      "cell_type": "code",
      "metadata": {
        "colab": {
          "base_uri": "https://localhost:8080/",
          "height": 461
        },
        "id": "M1cas7OJWKaI",
        "outputId": "252b0d85-8707-4af6-e41e-a45bb6aad4bb"
      },
      "source": [
        "# 'is_churn' VS 'city'\n",
        "fig = plt.figure(figsize=(8,6))\n",
        "ax1 = fig.add_subplot(211)\n",
        "ax2 = fig.add_subplot(212)\n",
        "\n",
        "sns.countplot(x='city',data=train,hue='is_churn',ax=ax1)\n",
        "ax1.set_title('Is_churn in cities',pad=-15)\n",
        "sns.barplot(np.delete(np.arange(1,23,1),1),np.array(train.groupby(by='city')['is_churn'].mean()),ax=ax2)\n",
        "ax2.set_title('percentage of users churning in cities',pad=-15)"
      ],
      "execution_count": 103,
      "outputs": [
        {
          "output_type": "stream",
          "text": [
            "/usr/local/lib/python3.7/dist-packages/seaborn/_decorators.py:43: FutureWarning: Pass the following variables as keyword args: x, y. From version 0.12, the only valid positional argument will be `data`, and passing other arguments without an explicit keyword will result in an error or misinterpretation.\n",
            "  FutureWarning\n"
          ],
          "name": "stderr"
        },
        {
          "output_type": "execute_result",
          "data": {
            "text/plain": [
              "Text(0.5, 1.0, 'percentage of users churning in cities')"
            ]
          },
          "metadata": {},
          "execution_count": 103
        },
        {
          "output_type": "display_data",
          "data": {
            "image/png": "[encoded data removed]",
            "text/plain": [
              "<Figure size 576x432 with 2 Axes>"
            ]
          },
          "metadata": {}
        }
      ]
    },
    {
      "cell_type": "code",
      "metadata": {
        "colab": {
          "base_uri": "https://localhost:8080/",
          "height": 461
        },
        "id": "AojSxpFgYxch",
        "outputId": "46f64233-3c97-4ec2-9199-76f93c425183"
      },
      "source": [
        "# 'is_churn' VS 'registered_via'\n",
        "fig = plt.figure(figsize=(8,6))\n",
        "ax1 = fig.add_subplot(211)\n",
        "ax2 = fig.add_subplot(212)\n",
        "\n",
        "sns.countplot(x='registered_via',data=train,hue='is_churn',ax=ax1)\n",
        "ax1.set_title('Is_churn in register methods',pad=0)\n",
        "\n",
        "sns.barplot([3,4,7,9,13],np.array(train.groupby(by='registered_via')['is_churn'].mean()),ax=ax2)\n",
        "ax2.set_title('percentage of users churning using register_via',pad=-15)"
      ],
      "execution_count": 104,
      "outputs": [
        {
          "output_type": "stream",
          "text": [
            "/usr/local/lib/python3.7/dist-packages/seaborn/_decorators.py:43: FutureWarning: Pass the following variables as keyword args: x, y. From version 0.12, the only valid positional argument will be `data`, and passing other arguments without an explicit keyword will result in an error or misinterpretation.\n",
            "  FutureWarning\n"
          ],
          "name": "stderr"
        },
        {
          "output_type": "execute_result",
          "data": {
            "text/plain": [
              "Text(0.5, 1.0, 'percentage of users churning using register_via')"
            ]
          },
          "metadata": {},
          "execution_count": 104
        },
        {
          "output_type": "display_data",
          "data": {
            "image/png": "[encoded data removed]",
            "text/plain": [
              "<Figure size 576x432 with 2 Axes>"
            ]
          },
          "metadata": {}
        }
      ]
    },
    {
      "cell_type": "code",
      "metadata": {
        "colab": {
          "base_uri": "https://localhost:8080/",
          "height": 448
        },
        "id": "K7QXyqdeZkek",
        "outputId": "bb291640-dfe1-4ee4-8714-9a1fc09d89e2"
      },
      "source": [
        "#  'is_churn' VS 'year'\n",
        "train['registration_init_date']=pd.to_datetime(train['registration_init_time'],format='%Y%m%d')\n",
        "train['year'] = pd.DatetimeIndex(train['registration_init_date']).year\n",
        "train['month'] = pd.DatetimeIndex(train['registration_init_date']).month\n",
        "fig = plt.figure(figsize=(8,6))\n",
        "ax1 = fig.add_subplot(211)\n",
        "ax2 = fig.add_subplot(212)\n",
        "\n",
        "sns.countplot(x='year',data=train,hue='is_churn',ax=ax1)\n",
        "sns.barplot(np.arange(2004,2018,1),np.array(train.groupby(by='year')['is_churn'].mean()),ax=ax2)\n",
        "ax2.set_title('percentage of users churning in years',pad=-15)"
      ],
      "execution_count": 105,
      "outputs": [
        {
          "output_type": "stream",
          "text": [
            "/usr/local/lib/python3.7/dist-packages/seaborn/_decorators.py:43: FutureWarning: Pass the following variables as keyword args: x, y. From version 0.12, the only valid positional argument will be `data`, and passing other arguments without an explicit keyword will result in an error or misinterpretation.\n",
            "  FutureWarning\n"
          ],
          "name": "stderr"
        },
        {
          "output_type": "execute_result",
          "data": {
            "text/plain": [
              "Text(0.5, 1.0, 'percentage of users churning in years')"
            ]
          },
          "metadata": {},
          "execution_count": 105
        },
        {
          "output_type": "display_data",
          "data": {
            "image/png": "[encoded data removed]",
            "text/plain": [
              "<Figure size 576x432 with 2 Axes>"
            ]
          },
          "metadata": {}
        }
      ]
    },
    {
      "cell_type": "code",
      "metadata": {
        "colab": {
          "base_uri": "https://localhost:8080/",
          "height": 448
        },
        "id": "jwMKn2BnbSA9",
        "outputId": "d23e7971-81f1-4f90-8c7b-a8455661c0f1"
      },
      "source": [
        "\n",
        "fig = plt.figure(figsize=(8,6))\n",
        "ax1 = fig.add_subplot(211)\n",
        "ax2 = fig.add_subplot(212)\n",
        "\n",
        "sns.countplot(x='month',data=train,hue='is_churn',ax=ax1)\n",
        "sns.barplot(np.arange(1,13,1),np.array(train.groupby(by='month')['is_churn'].mean()),ax=ax2)"
      ],
      "execution_count": 106,
      "outputs": [
        {
          "output_type": "stream",
          "text": [
            "/usr/local/lib/python3.7/dist-packages/seaborn/_decorators.py:43: FutureWarning: Pass the following variables as keyword args: x, y. From version 0.12, the only valid positional argument will be `data`, and passing other arguments without an explicit keyword will result in an error or misinterpretation.\n",
            "  FutureWarning\n"
          ],
          "name": "stderr"
        },
        {
          "output_type": "execute_result",
          "data": {
            "text/plain": [
              "<matplotlib.axes._subplots.AxesSubplot at 0x7f0f92a1e190>"
            ]
          },
          "metadata": {},
          "execution_count": 106
        },
        {
          "output_type": "display_data",
          "data": {
            "image/png": "[encoded data removed]",
            "text/plain": [
              "<Figure size 576x432 with 2 Axes>"
            ]
          },
          "metadata": {}
        }
      ]
    },
    {
      "cell_type": "code",
      "metadata": {
        "colab": {
          "base_uri": "https://localhost:8080/",
          "height": 607
        },
        "id": "L6K6Exw0zGSr",
        "outputId": "b91ec08c-3cf5-4f9e-b687-8d6b63ee5fef"
      },
      "source": [
        "print(train_n['city'].unique())\n",
        "fig,ax = plt.subplots(2,2,figsize=(16,8))\n",
        "ax1,ax2,ax3,ax4 = ax.flatten()\n",
        "\n",
        "\n",
        "sns.set(style=\"ticks\")\n",
        "sns.countplot(train_n['city'],palette='summer',ax=ax1)\n",
        "\n",
        "\n",
        "ax1.set_xlabel('City')\n",
        "\n",
        "\n",
        "sns.countplot(x='gender',data = train_n,palette='winter',ax=ax2)\n",
        "ax2.set_xlabel('Gender')\n",
        "\n",
        "sns.countplot(x='registered_via',data=train_n,palette='winter',ax=ax3)\n",
        "ax3.set_xlabel('Register via')\n",
        "\n",
        "sns.countplot(x='payment_method_id',data= train_n,palette='winter',ax=ax4)\n",
        "ax4.set_xlabel('Payment_method_id')"
      ],
      "execution_count": 107,
      "outputs": [
        {
          "output_type": "stream",
          "text": [
            "[ 5. 13.  1. 22.  9. 12.  6. 14.  4. 15. 18.  3. 21.  8.  7. 17. 11. 10.\n",
            " 20. 16. 19.]\n"
          ],
          "name": "stdout"
        },
        {
          "output_type": "stream",
          "text": [
            "/usr/local/lib/python3.7/dist-packages/seaborn/_decorators.py:43: FutureWarning: Pass the following variable as a keyword arg: x. From version 0.12, the only valid positional argument will be `data`, and passing other arguments without an explicit keyword will result in an error or misinterpretation.\n",
            "  FutureWarning\n"
          ],
          "name": "stderr"
        },
        {
          "output_type": "execute_result",
          "data": {
            "text/plain": [
              "Text(0.5, 0, 'Payment_method_id')"
            ]
          },
          "metadata": {},
          "execution_count": 107
        },
        {
          "output_type": "display_data",
          "data": {
            "image/png": "[encoded data removed]",
            "text/plain": [
              "<Figure size 1152x576 with 4 Axes>"
            ]
          },
          "metadata": {}
        }
      ]
    },
    {
      "cell_type": "code",
      "metadata": {
        "colab": {
          "base_uri": "https://localhost:8080/"
        },
        "id": "RVBbV4D_zoRP",
        "outputId": "6f8f1d2b-bfe9-402a-99f2-bb1cbc9e1126"
      },
      "source": [
        "print(train_n['bd'].describe())"
      ],
      "execution_count": 108,
      "outputs": [
        {
          "output_type": "stream",
          "text": [
            "count    970960.000000\n",
            "mean         11.941948\n",
            "std          15.811148\n",
            "min        -128.000000\n",
            "25%           0.000000\n",
            "50%           0.000000\n",
            "75%          26.000000\n",
            "max         126.000000\n",
            "Name: bd, dtype: float64\n"
          ],
          "name": "stdout"
        }
      ]
    },
    {
      "cell_type": "code",
      "metadata": {
        "colab": {
          "base_uri": "https://localhost:8080/",
          "height": 589
        },
        "id": "zvv18Lmrz3Ob",
        "outputId": "7ee575f4-e0a1-47e0-d034-40d30dade398"
      },
      "source": [
        "fig,ax = plt.subplots(1,1,figsize=(16,8))\n",
        "sns.set_style('ticks')\n",
        "sns.distplot(train_n['bd'].fillna(train_n['bd'].mode()[0]),bins=100,color='r',ax=ax)\n",
        "ax.set_title('Distribution of birth day')"
      ],
      "execution_count": 109,
      "outputs": [
        {
          "output_type": "stream",
          "text": [
            "/usr/local/lib/python3.7/dist-packages/seaborn/distributions.py:2557: FutureWarning: `distplot` is a deprecated function and will be removed in a future version. Please adapt your code to use either `displot` (a figure-level function with similar flexibility) or `histplot` (an axes-level function for histograms).\n",
            "  warnings.warn(msg, FutureWarning)\n"
          ],
          "name": "stderr"
        },
        {
          "output_type": "execute_result",
          "data": {
            "text/plain": [
              "Text(0.5, 1.0, 'Distribution of birth day')"
            ]
          },
          "metadata": {},
          "execution_count": 109
        },
        {
          "output_type": "display_data",
          "data": {
            "image/png": "[encoded data removed]",
            "text/plain": [
              "<Figure size 1152x576 with 1 Axes>"
            ]
          },
          "metadata": {}
        }
      ]
    },
    {
      "cell_type": "code",
      "metadata": {
        "colab": {
          "base_uri": "https://localhost:8080/"
        },
        "id": "dPlfq96cz5pX",
        "outputId": "27f30e69-9c1f-4006-a38e-17ca96a8e534"
      },
      "source": [
        "print(pd.crosstab(train_n['is_churn'],train_n['gender']))"
      ],
      "execution_count": 110,
      "outputs": [
        {
          "output_type": "stream",
          "text": [
            "gender    female    male\n",
            "is_churn                \n",
            "0         160404  723226\n",
            "1          23940   63390\n"
          ],
          "name": "stdout"
        }
      ]
    },
    {
      "cell_type": "code",
      "metadata": {
        "colab": {
          "base_uri": "https://localhost:8080/",
          "height": 784
        },
        "id": "JX9nVh5T1-vA",
        "outputId": "987efa7b-f544-4fde-fdb7-7e5bb65d1941"
      },
      "source": [
        "cor = train_n.corr()\n",
        "plt.figure(figsize=(16,12))\n",
        "sns.heatmap(cor,cmap='Set1',annot=False)\n",
        "plt.xticks(rotation=45);"
      ],
      "execution_count": 111,
      "outputs": [
        {
          "output_type": "display_data",
          "data": {
            "image/png": "[encoded data removed]",
            "text/plain": [
              "<Figure size 1152x864 with 2 Axes>"
            ]
          },
          "metadata": {}
        }
      ]
    },
    {
      "cell_type": "code",
      "metadata": {
        "id": "PCgxrgMM3Lvt"
      },
      "source": [
        "le = LabelEncoder()\n",
        "train_n['gender'] = le.fit_transform(train_n['gender'])"
      ],
      "execution_count": 112,
      "outputs": []
    },
    {
      "cell_type": "code",
      "metadata": {
        "colab": {
          "base_uri": "https://localhost:8080/"
        },
        "id": "oJn-YtHG3N4M",
        "outputId": "a9f907fc-4f22-4b79-8231-2848c4eb132a"
      },
      "source": [
        "def OHE(df):\n",
        "    #col = df.select_dtypes(include=['category']).columns\n",
        "    col = ['city','gender','registered_via']\n",
        "    print('Categorical columns in dataset',col)\n",
        "    \n",
        "    c2,c3 = [],{}\n",
        "    for c in col:\n",
        "        if df[c].nunique()>2 :\n",
        "            c2.append(c)\n",
        "            c3[c] = 'ohe_'+c\n",
        "    \n",
        "    df = pd.get_dummies(df,columns=c2,drop_first=True,prefix=c3)\n",
        "    print(df.shape)\n",
        "    return df\n",
        "train1 = OHE(train_n)"
      ],
      "execution_count": 113,
      "outputs": [
        {
          "output_type": "stream",
          "text": [
            "Categorical columns in dataset ['city', 'gender', 'registered_via']\n",
            "(970960, 64)\n"
          ],
          "name": "stdout"
        }
      ]
    },
    {
      "cell_type": "code",
      "metadata": {
        "colab": {
          "base_uri": "https://localhost:8080/"
        },
        "id": "IeFmv9no3Qbk",
        "outputId": "113b2ddd-bb0b-464e-9ac1-d20d3c298dd5"
      },
      "source": [
        "train1.columns"
      ],
      "execution_count": 114,
      "outputs": [
        {
          "output_type": "execute_result",
          "data": {
            "text/plain": [
              "Index(['msno', 'is_churn', 'bd', 'gender', 'registration_init_time',\n",
              "       'payment_method_id', 'payment_plan_days', 'plan_list_price',\n",
              "       'actual_amount_paid', 'is_auto_renew', 'transaction_date',\n",
              "       'membership_expire_date', 'is_cancel', 'date', 'num_25', 'num_50',\n",
              "       'num_75', 'num_985', 'num_100', 'num_unq', 'total_secs', 'reg_day',\n",
              "       'reg_weekday', 'reg_month', 'reg_year', 'trans_day', 'trans_weekday',\n",
              "       'trans_month', 'trans_year', 'mem_exp_day', 'mem_exp_weekday',\n",
              "       'mem_exp_month', 'mem_exp_year', 'user__day', 'user__weekday',\n",
              "       'user__month', 'user__year', 'registration_init_date', 'year', 'month',\n",
              "       'ohe_city_3.0', 'ohe_city_4.0', 'ohe_city_5.0', 'ohe_city_6.0',\n",
              "       'ohe_city_7.0', 'ohe_city_8.0', 'ohe_city_9.0', 'ohe_city_10.0',\n",
              "       'ohe_city_11.0', 'ohe_city_12.0', 'ohe_city_13.0', 'ohe_city_14.0',\n",
              "       'ohe_city_15.0', 'ohe_city_16.0', 'ohe_city_17.0', 'ohe_city_18.0',\n",
              "       'ohe_city_19.0', 'ohe_city_20.0', 'ohe_city_21.0', 'ohe_city_22.0',\n",
              "       'ohe_registered_via_4.0', 'ohe_registered_via_7.0',\n",
              "       'ohe_registered_via_9.0', 'ohe_registered_via_13.0'],\n",
              "      dtype='object')"
            ]
          },
          "metadata": {},
          "execution_count": 114
        }
      ]
    },
    {
      "cell_type": "code",
      "metadata": {
        "id": "R2vnoq_aeqZQ"
      },
      "source": [
        "train_df_0=train1.loc[train1['is_churn'] == 0].sample(n=2000)\n",
        "train_df_1=train1.loc[train1['is_churn'] == 1].sample(n=2000)\n",
        "train1 = pd.concat([train_df_0, train_df_1])"
      ],
      "execution_count": 130,
      "outputs": []
    },
    {
      "cell_type": "code",
      "metadata": {
        "colab": {
          "base_uri": "https://localhost:8080/",
          "height": 439
        },
        "id": "MfjJqMoFfOjz",
        "outputId": "45a8ecaa-c884-4bae-e5d0-beafacb4c050"
      },
      "source": [
        "unwanted = ['msno','is_churn','registration_init_time','transaction_date','membership_expire_date','date','registration_init_date']\n",
        "\n",
        "X = train1.drop(unwanted,axis=1)\n",
        "y = train1['is_churn'].astype('category')"
      ],
      "execution_count": 137,
      "outputs": [
        {
          "output_type": "execute_result",
          "data": {
            "text/html": [
              "<div>\n",
              "<style scoped>\n",
              "    .dataframe tbody tr th:only-of-type {\n",
              "        vertical-align: middle;\n",
              "    }\n",
              "\n",
              "    .dataframe tbody tr th {\n",
              "        vertical-align: top;\n",
              "    }\n",
              "\n",
              "    .dataframe thead th {\n",
              "        text-align: right;\n",
              "    }\n",
              "</style>\n",
              "<table border=\"1\" class=\"dataframe\">\n",
              "  <thead>\n",
              "    <tr style=\"text-align: right;\">\n",
              "      <th></th>\n",
              "      <th>bd</th>\n",
              "      <th>gender</th>\n",
              "      <th>payment_method_id</th>\n",
              "      <th>payment_plan_days</th>\n",
              "      <th>plan_list_price</th>\n",
              "      <th>actual_amount_paid</th>\n",
              "      <th>is_auto_renew</th>\n",
              "      <th>is_cancel</th>\n",
              "      <th>num_25</th>\n",
              "      <th>num_50</th>\n",
              "      <th>num_75</th>\n",
              "      <th>num_985</th>\n",
              "      <th>num_100</th>\n",
              "      <th>num_unq</th>\n",
              "      <th>total_secs</th>\n",
              "      <th>reg_day</th>\n",
              "      <th>reg_weekday</th>\n",
              "      <th>reg_month</th>\n",
              "      <th>reg_year</th>\n",
              "      <th>trans_day</th>\n",
              "      <th>trans_weekday</th>\n",
              "      <th>trans_month</th>\n",
              "      <th>trans_year</th>\n",
              "      <th>mem_exp_day</th>\n",
              "      <th>mem_exp_weekday</th>\n",
              "      <th>mem_exp_month</th>\n",
              "      <th>mem_exp_year</th>\n",
              "      <th>user__day</th>\n",
              "      <th>user__weekday</th>\n",
              "      <th>user__month</th>\n",
              "      <th>user__year</th>\n",
              "      <th>year</th>\n",
              "      <th>month</th>\n",
              "      <th>ohe_city_3.0</th>\n",
              "      <th>ohe_city_4.0</th>\n",
              "      <th>ohe_city_5.0</th>\n",
              "      <th>ohe_city_6.0</th>\n",
              "      <th>ohe_city_7.0</th>\n",
              "      <th>ohe_city_8.0</th>\n",
              "      <th>ohe_city_9.0</th>\n",
              "      <th>ohe_city_10.0</th>\n",
              "      <th>ohe_city_11.0</th>\n",
              "      <th>ohe_city_12.0</th>\n",
              "      <th>ohe_city_13.0</th>\n",
              "      <th>ohe_city_14.0</th>\n",
              "      <th>ohe_city_15.0</th>\n",
              "      <th>ohe_city_16.0</th>\n",
              "      <th>ohe_city_17.0</th>\n",
              "      <th>ohe_city_18.0</th>\n",
              "      <th>ohe_city_19.0</th>\n",
              "      <th>ohe_city_20.0</th>\n",
              "      <th>ohe_city_21.0</th>\n",
              "      <th>ohe_city_22.0</th>\n",
              "      <th>ohe_registered_via_4.0</th>\n",
              "      <th>ohe_registered_via_7.0</th>\n",
              "      <th>ohe_registered_via_9.0</th>\n",
              "      <th>ohe_registered_via_13.0</th>\n",
              "    </tr>\n",
              "  </thead>\n",
              "  <tbody>\n",
              "    <tr>\n",
              "      <th>203305</th>\n",
              "      <td>0.0</td>\n",
              "      <td>1</td>\n",
              "      <td>33</td>\n",
              "      <td>30</td>\n",
              "      <td>-107</td>\n",
              "      <td>-107</td>\n",
              "      <td>1</td>\n",
              "      <td>0</td>\n",
              "      <td>0</td>\n",
              "      <td>0</td>\n",
              "      <td>1</td>\n",
              "      <td>0</td>\n",
              "      <td>29</td>\n",
              "      <td>11</td>\n",
              "      <td>7341.129</td>\n",
              "      <td>1</td>\n",
              "      <td>4</td>\n",
              "      <td>11</td>\n",
              "      <td>2013</td>\n",
              "      <td>31</td>\n",
              "      <td>4</td>\n",
              "      <td>3</td>\n",
              "      <td>2017</td>\n",
              "      <td>30</td>\n",
              "      <td>6</td>\n",
              "      <td>4</td>\n",
              "      <td>2017</td>\n",
              "      <td>24</td>\n",
              "      <td>4</td>\n",
              "      <td>3</td>\n",
              "      <td>2017</td>\n",
              "      <td>2013</td>\n",
              "      <td>11</td>\n",
              "      <td>0</td>\n",
              "      <td>1</td>\n",
              "      <td>0</td>\n",
              "      <td>0</td>\n",
              "      <td>0</td>\n",
              "      <td>0</td>\n",
              "      <td>0</td>\n",
              "      <td>0</td>\n",
              "      <td>0</td>\n",
              "      <td>0</td>\n",
              "      <td>0</td>\n",
              "      <td>0</td>\n",
              "      <td>0</td>\n",
              "      <td>0</td>\n",
              "      <td>0</td>\n",
              "      <td>0</td>\n",
              "      <td>0</td>\n",
              "      <td>0</td>\n",
              "      <td>0</td>\n",
              "      <td>0</td>\n",
              "      <td>0</td>\n",
              "      <td>0</td>\n",
              "      <td>0</td>\n",
              "      <td>0</td>\n",
              "    </tr>\n",
              "    <tr>\n",
              "      <th>84619</th>\n",
              "      <td>38.0</td>\n",
              "      <td>0</td>\n",
              "      <td>41</td>\n",
              "      <td>30</td>\n",
              "      <td>-107</td>\n",
              "      <td>-107</td>\n",
              "      <td>1</td>\n",
              "      <td>0</td>\n",
              "      <td>2</td>\n",
              "      <td>0</td>\n",
              "      <td>3</td>\n",
              "      <td>1</td>\n",
              "      <td>42</td>\n",
              "      <td>42</td>\n",
              "      <td>10456.424</td>\n",
              "      <td>17</td>\n",
              "      <td>1</td>\n",
              "      <td>3</td>\n",
              "      <td>2015</td>\n",
              "      <td>25</td>\n",
              "      <td>5</td>\n",
              "      <td>3</td>\n",
              "      <td>2017</td>\n",
              "      <td>25</td>\n",
              "      <td>1</td>\n",
              "      <td>4</td>\n",
              "      <td>2017</td>\n",
              "      <td>6</td>\n",
              "      <td>0</td>\n",
              "      <td>3</td>\n",
              "      <td>2017</td>\n",
              "      <td>2015</td>\n",
              "      <td>3</td>\n",
              "      <td>0</td>\n",
              "      <td>0</td>\n",
              "      <td>0</td>\n",
              "      <td>0</td>\n",
              "      <td>0</td>\n",
              "      <td>0</td>\n",
              "      <td>0</td>\n",
              "      <td>0</td>\n",
              "      <td>0</td>\n",
              "      <td>0</td>\n",
              "      <td>1</td>\n",
              "      <td>0</td>\n",
              "      <td>0</td>\n",
              "      <td>0</td>\n",
              "      <td>0</td>\n",
              "      <td>0</td>\n",
              "      <td>0</td>\n",
              "      <td>0</td>\n",
              "      <td>0</td>\n",
              "      <td>0</td>\n",
              "      <td>0</td>\n",
              "      <td>0</td>\n",
              "      <td>1</td>\n",
              "      <td>0</td>\n",
              "    </tr>\n",
              "    <tr>\n",
              "      <th>875418</th>\n",
              "      <td>29.0</td>\n",
              "      <td>0</td>\n",
              "      <td>41</td>\n",
              "      <td>30</td>\n",
              "      <td>-107</td>\n",
              "      <td>-107</td>\n",
              "      <td>1</td>\n",
              "      <td>0</td>\n",
              "      <td>0</td>\n",
              "      <td>0</td>\n",
              "      <td>0</td>\n",
              "      <td>0</td>\n",
              "      <td>12</td>\n",
              "      <td>10</td>\n",
              "      <td>2355.123</td>\n",
              "      <td>14</td>\n",
              "      <td>6</td>\n",
              "      <td>9</td>\n",
              "      <td>2014</td>\n",
              "      <td>17</td>\n",
              "      <td>5</td>\n",
              "      <td>10</td>\n",
              "      <td>2015</td>\n",
              "      <td>18</td>\n",
              "      <td>0</td>\n",
              "      <td>6</td>\n",
              "      <td>2018</td>\n",
              "      <td>28</td>\n",
              "      <td>1</td>\n",
              "      <td>3</td>\n",
              "      <td>2017</td>\n",
              "      <td>2014</td>\n",
              "      <td>9</td>\n",
              "      <td>1</td>\n",
              "      <td>0</td>\n",
              "      <td>0</td>\n",
              "      <td>0</td>\n",
              "      <td>0</td>\n",
              "      <td>0</td>\n",
              "      <td>0</td>\n",
              "      <td>0</td>\n",
              "      <td>0</td>\n",
              "      <td>0</td>\n",
              "      <td>0</td>\n",
              "      <td>0</td>\n",
              "      <td>0</td>\n",
              "      <td>0</td>\n",
              "      <td>0</td>\n",
              "      <td>0</td>\n",
              "      <td>0</td>\n",
              "      <td>0</td>\n",
              "      <td>0</td>\n",
              "      <td>0</td>\n",
              "      <td>0</td>\n",
              "      <td>0</td>\n",
              "      <td>1</td>\n",
              "      <td>0</td>\n",
              "    </tr>\n",
              "    <tr>\n",
              "      <th>946163</th>\n",
              "      <td>27.0</td>\n",
              "      <td>1</td>\n",
              "      <td>36</td>\n",
              "      <td>30</td>\n",
              "      <td>-76</td>\n",
              "      <td>-76</td>\n",
              "      <td>0</td>\n",
              "      <td>0</td>\n",
              "      <td>1</td>\n",
              "      <td>0</td>\n",
              "      <td>0</td>\n",
              "      <td>0</td>\n",
              "      <td>3</td>\n",
              "      <td>4</td>\n",
              "      <td>782.791</td>\n",
              "      <td>7</td>\n",
              "      <td>5</td>\n",
              "      <td>3</td>\n",
              "      <td>2015</td>\n",
              "      <td>20</td>\n",
              "      <td>0</td>\n",
              "      <td>3</td>\n",
              "      <td>2017</td>\n",
              "      <td>19</td>\n",
              "      <td>2</td>\n",
              "      <td>4</td>\n",
              "      <td>2017</td>\n",
              "      <td>24</td>\n",
              "      <td>4</td>\n",
              "      <td>3</td>\n",
              "      <td>2017</td>\n",
              "      <td>2015</td>\n",
              "      <td>3</td>\n",
              "      <td>0</td>\n",
              "      <td>0</td>\n",
              "      <td>0</td>\n",
              "      <td>0</td>\n",
              "      <td>0</td>\n",
              "      <td>0</td>\n",
              "      <td>0</td>\n",
              "      <td>0</td>\n",
              "      <td>0</td>\n",
              "      <td>0</td>\n",
              "      <td>0</td>\n",
              "      <td>0</td>\n",
              "      <td>0</td>\n",
              "      <td>0</td>\n",
              "      <td>0</td>\n",
              "      <td>1</td>\n",
              "      <td>0</td>\n",
              "      <td>0</td>\n",
              "      <td>0</td>\n",
              "      <td>0</td>\n",
              "      <td>0</td>\n",
              "      <td>1</td>\n",
              "      <td>0</td>\n",
              "      <td>0</td>\n",
              "    </tr>\n",
              "    <tr>\n",
              "      <th>864094</th>\n",
              "      <td>0.0</td>\n",
              "      <td>1</td>\n",
              "      <td>39</td>\n",
              "      <td>30</td>\n",
              "      <td>-107</td>\n",
              "      <td>-107</td>\n",
              "      <td>1</td>\n",
              "      <td>0</td>\n",
              "      <td>0</td>\n",
              "      <td>0</td>\n",
              "      <td>0</td>\n",
              "      <td>0</td>\n",
              "      <td>4</td>\n",
              "      <td>1</td>\n",
              "      <td>1042.388</td>\n",
              "      <td>10</td>\n",
              "      <td>0</td>\n",
              "      <td>10</td>\n",
              "      <td>2016</td>\n",
              "      <td>28</td>\n",
              "      <td>1</td>\n",
              "      <td>2</td>\n",
              "      <td>2017</td>\n",
              "      <td>5</td>\n",
              "      <td>2</td>\n",
              "      <td>4</td>\n",
              "      <td>2017</td>\n",
              "      <td>28</td>\n",
              "      <td>1</td>\n",
              "      <td>3</td>\n",
              "      <td>2017</td>\n",
              "      <td>2016</td>\n",
              "      <td>10</td>\n",
              "      <td>0</td>\n",
              "      <td>0</td>\n",
              "      <td>0</td>\n",
              "      <td>0</td>\n",
              "      <td>0</td>\n",
              "      <td>0</td>\n",
              "      <td>0</td>\n",
              "      <td>0</td>\n",
              "      <td>0</td>\n",
              "      <td>0</td>\n",
              "      <td>0</td>\n",
              "      <td>0</td>\n",
              "      <td>0</td>\n",
              "      <td>0</td>\n",
              "      <td>0</td>\n",
              "      <td>0</td>\n",
              "      <td>0</td>\n",
              "      <td>0</td>\n",
              "      <td>0</td>\n",
              "      <td>0</td>\n",
              "      <td>1</td>\n",
              "      <td>0</td>\n",
              "      <td>0</td>\n",
              "      <td>0</td>\n",
              "    </tr>\n",
              "    <tr>\n",
              "      <th>...</th>\n",
              "      <td>...</td>\n",
              "      <td>...</td>\n",
              "      <td>...</td>\n",
              "      <td>...</td>\n",
              "      <td>...</td>\n",
              "      <td>...</td>\n",
              "      <td>...</td>\n",
              "      <td>...</td>\n",
              "      <td>...</td>\n",
              "      <td>...</td>\n",
              "      <td>...</td>\n",
              "      <td>...</td>\n",
              "      <td>...</td>\n",
              "      <td>...</td>\n",
              "      <td>...</td>\n",
              "      <td>...</td>\n",
              "      <td>...</td>\n",
              "      <td>...</td>\n",
              "      <td>...</td>\n",
              "      <td>...</td>\n",
              "      <td>...</td>\n",
              "      <td>...</td>\n",
              "      <td>...</td>\n",
              "      <td>...</td>\n",
              "      <td>...</td>\n",
              "      <td>...</td>\n",
              "      <td>...</td>\n",
              "      <td>...</td>\n",
              "      <td>...</td>\n",
              "      <td>...</td>\n",
              "      <td>...</td>\n",
              "      <td>...</td>\n",
              "      <td>...</td>\n",
              "      <td>...</td>\n",
              "      <td>...</td>\n",
              "      <td>...</td>\n",
              "      <td>...</td>\n",
              "      <td>...</td>\n",
              "      <td>...</td>\n",
              "      <td>...</td>\n",
              "      <td>...</td>\n",
              "      <td>...</td>\n",
              "      <td>...</td>\n",
              "      <td>...</td>\n",
              "      <td>...</td>\n",
              "      <td>...</td>\n",
              "      <td>...</td>\n",
              "      <td>...</td>\n",
              "      <td>...</td>\n",
              "      <td>...</td>\n",
              "      <td>...</td>\n",
              "      <td>...</td>\n",
              "      <td>...</td>\n",
              "      <td>...</td>\n",
              "      <td>...</td>\n",
              "      <td>...</td>\n",
              "      <td>...</td>\n",
              "    </tr>\n",
              "    <tr>\n",
              "      <th>4590</th>\n",
              "      <td>0.0</td>\n",
              "      <td>1</td>\n",
              "      <td>41</td>\n",
              "      <td>30</td>\n",
              "      <td>99</td>\n",
              "      <td>99</td>\n",
              "      <td>1</td>\n",
              "      <td>0</td>\n",
              "      <td>3</td>\n",
              "      <td>2</td>\n",
              "      <td>2</td>\n",
              "      <td>2</td>\n",
              "      <td>160</td>\n",
              "      <td>33</td>\n",
              "      <td>42431.015</td>\n",
              "      <td>24</td>\n",
              "      <td>4</td>\n",
              "      <td>8</td>\n",
              "      <td>2012</td>\n",
              "      <td>8</td>\n",
              "      <td>2</td>\n",
              "      <td>3</td>\n",
              "      <td>2017</td>\n",
              "      <td>12</td>\n",
              "      <td>2</td>\n",
              "      <td>4</td>\n",
              "      <td>2017</td>\n",
              "      <td>23</td>\n",
              "      <td>3</td>\n",
              "      <td>3</td>\n",
              "      <td>2017</td>\n",
              "      <td>2012</td>\n",
              "      <td>8</td>\n",
              "      <td>0</td>\n",
              "      <td>0</td>\n",
              "      <td>0</td>\n",
              "      <td>0</td>\n",
              "      <td>0</td>\n",
              "      <td>0</td>\n",
              "      <td>0</td>\n",
              "      <td>0</td>\n",
              "      <td>0</td>\n",
              "      <td>0</td>\n",
              "      <td>0</td>\n",
              "      <td>0</td>\n",
              "      <td>0</td>\n",
              "      <td>0</td>\n",
              "      <td>0</td>\n",
              "      <td>0</td>\n",
              "      <td>0</td>\n",
              "      <td>0</td>\n",
              "      <td>0</td>\n",
              "      <td>0</td>\n",
              "      <td>0</td>\n",
              "      <td>1</td>\n",
              "      <td>0</td>\n",
              "      <td>0</td>\n",
              "    </tr>\n",
              "    <tr>\n",
              "      <th>612633</th>\n",
              "      <td>29.0</td>\n",
              "      <td>1</td>\n",
              "      <td>40</td>\n",
              "      <td>30</td>\n",
              "      <td>-107</td>\n",
              "      <td>-107</td>\n",
              "      <td>1</td>\n",
              "      <td>0</td>\n",
              "      <td>8</td>\n",
              "      <td>4</td>\n",
              "      <td>4</td>\n",
              "      <td>1</td>\n",
              "      <td>7</td>\n",
              "      <td>15</td>\n",
              "      <td>2721.054</td>\n",
              "      <td>9</td>\n",
              "      <td>5</td>\n",
              "      <td>11</td>\n",
              "      <td>2013</td>\n",
              "      <td>25</td>\n",
              "      <td>5</td>\n",
              "      <td>3</td>\n",
              "      <td>2017</td>\n",
              "      <td>2</td>\n",
              "      <td>1</td>\n",
              "      <td>5</td>\n",
              "      <td>2017</td>\n",
              "      <td>22</td>\n",
              "      <td>2</td>\n",
              "      <td>3</td>\n",
              "      <td>2017</td>\n",
              "      <td>2013</td>\n",
              "      <td>11</td>\n",
              "      <td>0</td>\n",
              "      <td>0</td>\n",
              "      <td>0</td>\n",
              "      <td>0</td>\n",
              "      <td>0</td>\n",
              "      <td>0</td>\n",
              "      <td>0</td>\n",
              "      <td>0</td>\n",
              "      <td>1</td>\n",
              "      <td>0</td>\n",
              "      <td>0</td>\n",
              "      <td>0</td>\n",
              "      <td>0</td>\n",
              "      <td>0</td>\n",
              "      <td>0</td>\n",
              "      <td>0</td>\n",
              "      <td>0</td>\n",
              "      <td>0</td>\n",
              "      <td>0</td>\n",
              "      <td>0</td>\n",
              "      <td>0</td>\n",
              "      <td>0</td>\n",
              "      <td>0</td>\n",
              "      <td>0</td>\n",
              "    </tr>\n",
              "    <tr>\n",
              "      <th>26247</th>\n",
              "      <td>0.0</td>\n",
              "      <td>1</td>\n",
              "      <td>41</td>\n",
              "      <td>30</td>\n",
              "      <td>-107</td>\n",
              "      <td>-107</td>\n",
              "      <td>1</td>\n",
              "      <td>0</td>\n",
              "      <td>5</td>\n",
              "      <td>3</td>\n",
              "      <td>2</td>\n",
              "      <td>0</td>\n",
              "      <td>13</td>\n",
              "      <td>12</td>\n",
              "      <td>3508.599</td>\n",
              "      <td>10</td>\n",
              "      <td>3</td>\n",
              "      <td>9</td>\n",
              "      <td>2015</td>\n",
              "      <td>28</td>\n",
              "      <td>1</td>\n",
              "      <td>2</td>\n",
              "      <td>2017</td>\n",
              "      <td>1</td>\n",
              "      <td>5</td>\n",
              "      <td>4</td>\n",
              "      <td>2017</td>\n",
              "      <td>17</td>\n",
              "      <td>4</td>\n",
              "      <td>3</td>\n",
              "      <td>2017</td>\n",
              "      <td>2015</td>\n",
              "      <td>9</td>\n",
              "      <td>0</td>\n",
              "      <td>0</td>\n",
              "      <td>0</td>\n",
              "      <td>0</td>\n",
              "      <td>0</td>\n",
              "      <td>0</td>\n",
              "      <td>0</td>\n",
              "      <td>0</td>\n",
              "      <td>0</td>\n",
              "      <td>0</td>\n",
              "      <td>0</td>\n",
              "      <td>0</td>\n",
              "      <td>0</td>\n",
              "      <td>0</td>\n",
              "      <td>0</td>\n",
              "      <td>0</td>\n",
              "      <td>0</td>\n",
              "      <td>0</td>\n",
              "      <td>0</td>\n",
              "      <td>0</td>\n",
              "      <td>0</td>\n",
              "      <td>1</td>\n",
              "      <td>0</td>\n",
              "      <td>0</td>\n",
              "    </tr>\n",
              "    <tr>\n",
              "      <th>616548</th>\n",
              "      <td>0.0</td>\n",
              "      <td>1</td>\n",
              "      <td>40</td>\n",
              "      <td>30</td>\n",
              "      <td>-107</td>\n",
              "      <td>-107</td>\n",
              "      <td>1</td>\n",
              "      <td>0</td>\n",
              "      <td>24</td>\n",
              "      <td>1</td>\n",
              "      <td>2</td>\n",
              "      <td>0</td>\n",
              "      <td>41</td>\n",
              "      <td>67</td>\n",
              "      <td>9897.753</td>\n",
              "      <td>30</td>\n",
              "      <td>5</td>\n",
              "      <td>3</td>\n",
              "      <td>2013</td>\n",
              "      <td>15</td>\n",
              "      <td>2</td>\n",
              "      <td>3</td>\n",
              "      <td>2017</td>\n",
              "      <td>20</td>\n",
              "      <td>3</td>\n",
              "      <td>4</td>\n",
              "      <td>2017</td>\n",
              "      <td>27</td>\n",
              "      <td>0</td>\n",
              "      <td>3</td>\n",
              "      <td>2017</td>\n",
              "      <td>2013</td>\n",
              "      <td>3</td>\n",
              "      <td>0</td>\n",
              "      <td>0</td>\n",
              "      <td>0</td>\n",
              "      <td>0</td>\n",
              "      <td>0</td>\n",
              "      <td>0</td>\n",
              "      <td>0</td>\n",
              "      <td>0</td>\n",
              "      <td>0</td>\n",
              "      <td>0</td>\n",
              "      <td>1</td>\n",
              "      <td>0</td>\n",
              "      <td>0</td>\n",
              "      <td>0</td>\n",
              "      <td>0</td>\n",
              "      <td>0</td>\n",
              "      <td>0</td>\n",
              "      <td>0</td>\n",
              "      <td>0</td>\n",
              "      <td>0</td>\n",
              "      <td>0</td>\n",
              "      <td>0</td>\n",
              "      <td>0</td>\n",
              "      <td>0</td>\n",
              "    </tr>\n",
              "    <tr>\n",
              "      <th>586703</th>\n",
              "      <td>23.0</td>\n",
              "      <td>1</td>\n",
              "      <td>41</td>\n",
              "      <td>30</td>\n",
              "      <td>99</td>\n",
              "      <td>99</td>\n",
              "      <td>1</td>\n",
              "      <td>0</td>\n",
              "      <td>0</td>\n",
              "      <td>0</td>\n",
              "      <td>0</td>\n",
              "      <td>0</td>\n",
              "      <td>25</td>\n",
              "      <td>1</td>\n",
              "      <td>9204.375</td>\n",
              "      <td>3</td>\n",
              "      <td>0</td>\n",
              "      <td>3</td>\n",
              "      <td>2014</td>\n",
              "      <td>4</td>\n",
              "      <td>5</td>\n",
              "      <td>3</td>\n",
              "      <td>2017</td>\n",
              "      <td>4</td>\n",
              "      <td>1</td>\n",
              "      <td>4</td>\n",
              "      <td>2017</td>\n",
              "      <td>12</td>\n",
              "      <td>6</td>\n",
              "      <td>3</td>\n",
              "      <td>2017</td>\n",
              "      <td>2014</td>\n",
              "      <td>3</td>\n",
              "      <td>0</td>\n",
              "      <td>0</td>\n",
              "      <td>0</td>\n",
              "      <td>0</td>\n",
              "      <td>0</td>\n",
              "      <td>0</td>\n",
              "      <td>0</td>\n",
              "      <td>0</td>\n",
              "      <td>0</td>\n",
              "      <td>0</td>\n",
              "      <td>1</td>\n",
              "      <td>0</td>\n",
              "      <td>0</td>\n",
              "      <td>0</td>\n",
              "      <td>0</td>\n",
              "      <td>0</td>\n",
              "      <td>0</td>\n",
              "      <td>0</td>\n",
              "      <td>0</td>\n",
              "      <td>0</td>\n",
              "      <td>0</td>\n",
              "      <td>0</td>\n",
              "      <td>0</td>\n",
              "      <td>0</td>\n",
              "    </tr>\n",
              "  </tbody>\n",
              "</table>\n",
              "<p>4000 rows × 57 columns</p>\n",
              "</div>"
            ],
            "text/plain": [
              "          bd  gender  ...  ohe_registered_via_9.0  ohe_registered_via_13.0\n",
              "203305   0.0       1  ...                       0                        0\n",
              "84619   38.0       0  ...                       1                        0\n",
              "875418  29.0       0  ...                       1                        0\n",
              "946163  27.0       1  ...                       0                        0\n",
              "864094   0.0       1  ...                       0                        0\n",
              "...      ...     ...  ...                     ...                      ...\n",
              "4590     0.0       1  ...                       0                        0\n",
              "612633  29.0       1  ...                       0                        0\n",
              "26247    0.0       1  ...                       0                        0\n",
              "616548   0.0       1  ...                       0                        0\n",
              "586703  23.0       1  ...                       0                        0\n",
              "\n",
              "[4000 rows x 57 columns]"
            ]
          },
          "metadata": {},
          "execution_count": 137
        }
      ]
    },
    {
      "cell_type": "code",
      "metadata": {
        "colab": {
          "base_uri": "https://localhost:8080/"
        },
        "id": "MgcBrrbxF7Wo",
        "outputId": "9c1f266b-4643-4fef-9d2f-3a983d14570d"
      },
      "source": [
        "from sklearn.decomposition import PCA\n",
        "pca = PCA(n_components=12)\n",
        "X_pca = pca.fit_transform(X.to_numpy())\n",
        "\n",
        "print(\"Variance retained: %s\" % (sum(pca.explained_variance_ratio_)))"
      ],
      "execution_count": 146,
      "outputs": [
        {
          "output_type": "stream",
          "text": [
            "Variance retained: 0.9999988135310414\n"
          ],
          "name": "stdout"
        }
      ]
    },
    {
      "cell_type": "code",
      "metadata": {
        "id": "bc5oSPfD3a2j"
      },
      "source": [
        "from sklearn.model_selection import train_test_split\n",
        "X_train, X_val, y_train, y_val = train_test_split(X_pca,y, test_size=0.4, random_state=57)"
      ],
      "execution_count": 147,
      "outputs": []
    },
    {
      "cell_type": "code",
      "metadata": {
        "colab": {
          "base_uri": "https://localhost:8080/",
          "height": 419
        },
        "id": "yQvsNCjCHNAL",
        "outputId": "90cea37a-4fd6-45a9-ada5-09c6a7864869"
      },
      "source": [
        "from sklearn import preprocessing\n",
        "scaler= preprocessing.StandardScaler()\n",
        "scaler.fit(X_train)\n",
        "X_train=pd.DataFrame(scaler.transform(X_train))\n",
        "display(X_train)\n",
        "X_val=pd.DataFrame(scaler.transform(X_val))"
      ],
      "execution_count": 148,
      "outputs": [
        {
          "output_type": "display_data",
          "data": {
            "text/html": [
              "<div>\n",
              "<style scoped>\n",
              "    .dataframe tbody tr th:only-of-type {\n",
              "        vertical-align: middle;\n",
              "    }\n",
              "\n",
              "    .dataframe tbody tr th {\n",
              "        vertical-align: top;\n",
              "    }\n",
              "\n",
              "    .dataframe thead th {\n",
              "        text-align: right;\n",
              "    }\n",
              "</style>\n",
              "<table border=\"1\" class=\"dataframe\">\n",
              "  <thead>\n",
              "    <tr style=\"text-align: right;\">\n",
              "      <th></th>\n",
              "      <th>0</th>\n",
              "      <th>1</th>\n",
              "      <th>2</th>\n",
              "      <th>3</th>\n",
              "      <th>4</th>\n",
              "      <th>5</th>\n",
              "      <th>6</th>\n",
              "      <th>7</th>\n",
              "      <th>8</th>\n",
              "      <th>9</th>\n",
              "      <th>10</th>\n",
              "      <th>11</th>\n",
              "    </tr>\n",
              "  </thead>\n",
              "  <tbody>\n",
              "    <tr>\n",
              "      <th>0</th>\n",
              "      <td>-0.384588</td>\n",
              "      <td>-0.913847</td>\n",
              "      <td>-0.142540</td>\n",
              "      <td>0.117326</td>\n",
              "      <td>-0.895335</td>\n",
              "      <td>-0.717899</td>\n",
              "      <td>0.145261</td>\n",
              "      <td>-0.879851</td>\n",
              "      <td>0.602993</td>\n",
              "      <td>-0.065619</td>\n",
              "      <td>0.369799</td>\n",
              "      <td>-0.008738</td>\n",
              "    </tr>\n",
              "    <tr>\n",
              "      <th>1</th>\n",
              "      <td>-0.371667</td>\n",
              "      <td>-0.915046</td>\n",
              "      <td>-0.148596</td>\n",
              "      <td>0.139860</td>\n",
              "      <td>0.432474</td>\n",
              "      <td>1.004448</td>\n",
              "      <td>0.420338</td>\n",
              "      <td>0.424267</td>\n",
              "      <td>0.161311</td>\n",
              "      <td>-0.113758</td>\n",
              "      <td>0.460480</td>\n",
              "      <td>0.442681</td>\n",
              "    </tr>\n",
              "    <tr>\n",
              "      <th>2</th>\n",
              "      <td>-0.648548</td>\n",
              "      <td>-0.915723</td>\n",
              "      <td>-0.151807</td>\n",
              "      <td>-0.088040</td>\n",
              "      <td>-0.921705</td>\n",
              "      <td>-1.553660</td>\n",
              "      <td>0.323074</td>\n",
              "      <td>-1.439306</td>\n",
              "      <td>0.977305</td>\n",
              "      <td>-0.091851</td>\n",
              "      <td>0.549905</td>\n",
              "      <td>1.013322</td>\n",
              "    </tr>\n",
              "    <tr>\n",
              "      <th>3</th>\n",
              "      <td>-0.404415</td>\n",
              "      <td>-0.915763</td>\n",
              "      <td>-0.144687</td>\n",
              "      <td>-0.248117</td>\n",
              "      <td>-0.870288</td>\n",
              "      <td>0.606730</td>\n",
              "      <td>-0.308251</td>\n",
              "      <td>0.808518</td>\n",
              "      <td>0.560334</td>\n",
              "      <td>-0.192276</td>\n",
              "      <td>-1.296336</td>\n",
              "      <td>0.976537</td>\n",
              "    </tr>\n",
              "    <tr>\n",
              "      <th>4</th>\n",
              "      <td>0.365656</td>\n",
              "      <td>1.255827</td>\n",
              "      <td>-0.506392</td>\n",
              "      <td>-0.166365</td>\n",
              "      <td>0.820841</td>\n",
              "      <td>1.498269</td>\n",
              "      <td>-0.227068</td>\n",
              "      <td>-1.220965</td>\n",
              "      <td>0.261903</td>\n",
              "      <td>-0.173858</td>\n",
              "      <td>0.282044</td>\n",
              "      <td>0.255503</td>\n",
              "    </tr>\n",
              "    <tr>\n",
              "      <th>...</th>\n",
              "      <td>...</td>\n",
              "      <td>...</td>\n",
              "      <td>...</td>\n",
              "      <td>...</td>\n",
              "      <td>...</td>\n",
              "      <td>...</td>\n",
              "      <td>...</td>\n",
              "      <td>...</td>\n",
              "      <td>...</td>\n",
              "      <td>...</td>\n",
              "      <td>...</td>\n",
              "      <td>...</td>\n",
              "    </tr>\n",
              "    <tr>\n",
              "      <th>2395</th>\n",
              "      <td>-0.379285</td>\n",
              "      <td>-0.588411</td>\n",
              "      <td>-0.193178</td>\n",
              "      <td>-0.149997</td>\n",
              "      <td>-0.907155</td>\n",
              "      <td>-0.728143</td>\n",
              "      <td>-0.415446</td>\n",
              "      <td>0.170795</td>\n",
              "      <td>0.931330</td>\n",
              "      <td>-0.034428</td>\n",
              "      <td>0.066607</td>\n",
              "      <td>-0.330871</td>\n",
              "    </tr>\n",
              "    <tr>\n",
              "      <th>2396</th>\n",
              "      <td>-0.540234</td>\n",
              "      <td>1.247903</td>\n",
              "      <td>-0.528286</td>\n",
              "      <td>-0.059298</td>\n",
              "      <td>0.921815</td>\n",
              "      <td>0.327554</td>\n",
              "      <td>0.181672</td>\n",
              "      <td>-1.366288</td>\n",
              "      <td>-0.423579</td>\n",
              "      <td>-0.110670</td>\n",
              "      <td>0.026861</td>\n",
              "      <td>0.165599</td>\n",
              "    </tr>\n",
              "    <tr>\n",
              "      <th>2397</th>\n",
              "      <td>-0.594042</td>\n",
              "      <td>-0.591314</td>\n",
              "      <td>-0.211554</td>\n",
              "      <td>0.847391</td>\n",
              "      <td>1.257529</td>\n",
              "      <td>0.680462</td>\n",
              "      <td>1.575101</td>\n",
              "      <td>-1.156600</td>\n",
              "      <td>-0.586352</td>\n",
              "      <td>-0.079167</td>\n",
              "      <td>-0.093260</td>\n",
              "      <td>-0.997692</td>\n",
              "    </tr>\n",
              "    <tr>\n",
              "      <th>2398</th>\n",
              "      <td>-0.399193</td>\n",
              "      <td>-0.588412</td>\n",
              "      <td>-0.193866</td>\n",
              "      <td>-0.527072</td>\n",
              "      <td>-0.887674</td>\n",
              "      <td>-0.927262</td>\n",
              "      <td>0.441068</td>\n",
              "      <td>-0.617853</td>\n",
              "      <td>0.541152</td>\n",
              "      <td>-0.040461</td>\n",
              "      <td>0.004826</td>\n",
              "      <td>-0.578292</td>\n",
              "    </tr>\n",
              "    <tr>\n",
              "      <th>2399</th>\n",
              "      <td>1.812967</td>\n",
              "      <td>1.269729</td>\n",
              "      <td>-0.463860</td>\n",
              "      <td>0.731666</td>\n",
              "      <td>-0.943370</td>\n",
              "      <td>1.431948</td>\n",
              "      <td>-1.942371</td>\n",
              "      <td>0.245711</td>\n",
              "      <td>0.673098</td>\n",
              "      <td>-0.110241</td>\n",
              "      <td>0.120502</td>\n",
              "      <td>-0.010291</td>\n",
              "    </tr>\n",
              "  </tbody>\n",
              "</table>\n",
              "<p>2400 rows × 12 columns</p>\n",
              "</div>"
            ],
            "text/plain": [
              "            0         1         2   ...        9         10        11\n",
              "0    -0.384588 -0.913847 -0.142540  ... -0.065619  0.369799 -0.008738\n",
              "1    -0.371667 -0.915046 -0.148596  ... -0.113758  0.460480  0.442681\n",
              "2    -0.648548 -0.915723 -0.151807  ... -0.091851  0.549905  1.013322\n",
              "3    -0.404415 -0.915763 -0.144687  ... -0.192276 -1.296336  0.976537\n",
              "4     0.365656  1.255827 -0.506392  ... -0.173858  0.282044  0.255503\n",
              "...        ...       ...       ...  ...       ...       ...       ...\n",
              "2395 -0.379285 -0.588411 -0.193178  ... -0.034428  0.066607 -0.330871\n",
              "2396 -0.540234  1.247903 -0.528286  ... -0.110670  0.026861  0.165599\n",
              "2397 -0.594042 -0.591314 -0.211554  ... -0.079167 -0.093260 -0.997692\n",
              "2398 -0.399193 -0.588412 -0.193866  ... -0.040461  0.004826 -0.578292\n",
              "2399  1.812967  1.269729 -0.463860  ... -0.110241  0.120502 -0.010291\n",
              "\n",
              "[2400 rows x 12 columns]"
            ]
          },
          "metadata": {}
        }
      ]
    },
    {
      "cell_type": "code",
      "metadata": {
        "colab": {
          "base_uri": "https://localhost:8080/",
          "height": 598
        },
        "id": "I8681mdCHeYV",
        "outputId": "315bf15c-5d62-44a5-926e-579193e828d9"
      },
      "source": [
        "corrMatrix = X_train.corr(method='spearman')\n",
        "fig, ax = plt.subplots(figsize=(12,10))\n",
        "sns.heatmap(abs(corrMatrix), annot=True)\n",
        "plt.show()"
      ],
      "execution_count": 149,
      "outputs": [
        {
          "output_type": "display_data",
          "data": {
            "image/png": "[encoded data removed]",
            "text/plain": [
              "<Figure size 864x720 with 2 Axes>"
            ]
          },
          "metadata": {}
        }
      ]
    },
    {
      "cell_type": "code",
      "metadata": {
        "colab": {
          "base_uri": "https://localhost:8080/"
        },
        "id": "V-iCCaKSFE8J",
        "outputId": "b3369cb4-3af9-46e4-cb4a-010a6f5f6b14"
      },
      "source": [
        "from sklearn.ensemble import RandomForestClassifier\n",
        "from sklearn.model_selection import GridSearchCV\n",
        "from sklearn.metrics import classification_report\n",
        "from sklearn.metrics import roc_auc_score\n",
        "import time\n",
        "\n",
        "start_time=time.time()\n",
        "scoring = 'f1'\n",
        "rfc = RandomForestClassifier()\n",
        "hyperparameters = {'max_depth':[2,5,10,20],'n_estimators':[10,30,100]}\n",
        "clf = GridSearchCV(rfc, param_grid=hyperparameters, scoring='f1')\n",
        "clf.fit(np.array(X_train), np.squeeze(y_train))\n",
        "print('Training time for Random Forest Classifier: %.2f seconds \\n'%(time.time()-start_time))\n",
        "print('Best parameters: ')\n",
        "print(clf.best_params_)\n",
        "print('Best' +scoring+\":\" +str(clf.best_score_))\n",
        "\n",
        "print('Test classification report:')\n",
        "y_true, y_pred = np.squeeze(y_val), clf.predict(np.array(X_val))\n",
        "print(classification_report(y_true, y_pred))\n",
        "\n",
        "print('Test AUC-ROC: '+str(roc_auc_score(y_true, y_pred)))"
      ],
      "execution_count": 150,
      "outputs": [
        {
          "output_type": "stream",
          "text": [
            "Training time for Random Forest Classifier: 12.94 seconds \n",
            "\n",
            "Best parameters: \n",
            "{'max_depth': 2, 'n_estimators': 30}\n",
            "Bestf1:0.6183814811706105\n",
            "Test classification report:\n",
            "              precision    recall  f1-score   support\n",
            "\n",
            "           0       0.61      0.57      0.59       807\n",
            "           1       0.59      0.63      0.61       793\n",
            "\n",
            "    accuracy                           0.60      1600\n",
            "   macro avg       0.60      0.60      0.60      1600\n",
            "weighted avg       0.60      0.60      0.60      1600\n",
            "\n",
            "Test AUC-ROC: 0.6015148034771413\n"
          ],
          "name": "stdout"
        }
      ]
    },
    {
      "cell_type": "code",
      "metadata": {
        "id": "f1JSY-bNDgHP"
      },
      "source": [
        ""
      ],
      "execution_count": 150,
      "outputs": []
    }
  ]
}